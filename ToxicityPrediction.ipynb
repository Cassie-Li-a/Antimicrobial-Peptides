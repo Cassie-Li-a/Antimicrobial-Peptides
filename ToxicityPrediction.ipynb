{
 "cells": [
  {
   "cell_type": "code",
   "execution_count": 1,
   "metadata": {},
   "outputs": [],
   "source": [
    "import pandas as pd\n",
    "import numpy as np\n",
    "from sklearn.linear_model import LinearRegression\n",
    "from fuzzywuzzy import fuzz\n",
    "import Levenshtein"
   ]
  },
  {
   "cell_type": "code",
   "execution_count": 2,
   "metadata": {},
   "outputs": [],
   "source": [
    "df = pd.read_csv('Hemolysis/Cleaned_hemolytic_data.csv')\n",
    "df.drop(columns=['Unnamed: 0'], inplace=True)\n",
    "df.columns = [c.lower() for c in df.columns]\n",
    "df.sequence = df.sequence.str.upper()"
   ]
  },
  {
   "cell_type": "code",
   "execution_count": 6,
   "metadata": {},
   "outputs": [],
   "source": [
    "def knn_toxicities(peptide_row, df, k):\n",
    "    sequence = peptide_row.sequence\n",
    "    distances = df.sequence.apply(lambda x: Levenshtein.distance(x, sequence))\n",
    "    bestk = df.loc[distances.sort_values().iloc[1:1 + k]]\n",
    "    avg_toxicity = np.mean(bestk.log10_hc50)\n",
    "    return avg_toxicity\n"
   ]
  },
  {
   "cell_type": "code",
   "execution_count": 22,
   "metadata": {},
   "outputs": [],
   "source": [
    "for i, row in df.iterrows():\n",
    "    bestk = knn_toxicities(row, df, 5)\n",
    "    df.at[i, 'bestk'] = bestk"
   ]
  },
  {
   "cell_type": "code",
   "execution_count": 23,
   "metadata": {},
   "outputs": [
    {
     "data": {
      "text/html": [
       "<div>\n",
       "<style scoped>\n",
       "    .dataframe tbody tr th:only-of-type {\n",
       "        vertical-align: middle;\n",
       "    }\n",
       "\n",
       "    .dataframe tbody tr th {\n",
       "        vertical-align: top;\n",
       "    }\n",
       "\n",
       "    .dataframe thead th {\n",
       "        text-align: right;\n",
       "    }\n",
       "</style>\n",
       "<table border=\"1\" class=\"dataframe\">\n",
       "  <thead>\n",
       "    <tr style=\"text-align: right;\">\n",
       "      <th></th>\n",
       "      <th>log10_hc50</th>\n",
       "      <th>bestk</th>\n",
       "    </tr>\n",
       "  </thead>\n",
       "  <tbody>\n",
       "    <tr>\n",
       "      <th>log10_hc50</th>\n",
       "      <td>1.000000</td>\n",
       "      <td>0.062628</td>\n",
       "    </tr>\n",
       "    <tr>\n",
       "      <th>bestk</th>\n",
       "      <td>0.062628</td>\n",
       "      <td>1.000000</td>\n",
       "    </tr>\n",
       "  </tbody>\n",
       "</table>\n",
       "</div>"
      ],
      "text/plain": [
       "            log10_hc50     bestk\n",
       "log10_hc50    1.000000  0.062628\n",
       "bestk         0.062628  1.000000"
      ]
     },
     "execution_count": 23,
     "metadata": {},
     "output_type": "execute_result"
    }
   ],
   "source": [
    "df[['log10_hc50', 'bestk']].corr()"
   ]
  },
  {
   "cell_type": "code",
   "execution_count": null,
   "metadata": {},
   "outputs": [],
   "source": []
  }
 ],
 "metadata": {
  "kernelspec": {
   "display_name": "Python 3",
   "language": "python",
   "name": "python3"
  },
  "language_info": {
   "codemirror_mode": {
    "name": "ipython",
    "version": 2
   },
   "file_extension": ".py",
   "mimetype": "text/x-python",
   "name": "python",
   "nbconvert_exporter": "python",
   "pygments_lexer": "ipython2",
   "version": "2.7.12"
  }
 },
 "nbformat": 4,
 "nbformat_minor": 2
}
