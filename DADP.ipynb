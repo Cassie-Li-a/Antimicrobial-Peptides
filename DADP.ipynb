{
 "cells": [
  {
   "cell_type": "code",
   "execution_count": 1,
   "metadata": {},
   "outputs": [],
   "source": [
    "import re\n",
    "import requests\n",
    "from bs4 import BeautifulSoup\n",
    "bacteria_regex = r'[A-Z]\\. [a-z]+'"
   ]
  },
  {
   "cell_type": "code",
   "execution_count": 62,
   "metadata": {},
   "outputs": [],
   "source": [
    "with open(\"DADP_list.txt\", \"r\") as f:\n",
    "    initial_links_text = f.read()\n",
    "links = list(re.findall(r\"SP_[a-zA-Z0-9_]+\", initial_links_text))"
   ]
  },
  {
   "cell_type": "code",
   "execution_count": 126,
   "metadata": {},
   "outputs": [],
   "source": [
    "def get_sequences(data_table):\n",
    "    rows = data_table.findAll('tr')\n",
    "    label_row = [td.text.strip() for td in rows[0].findAll('td')]\n",
    "    value_rows = []\n",
    "    for row in rows[1:]:\n",
    "        value_rows.append([td.text.strip() for td in row.findAll('td')])\n",
    "    sequence_index = label_row.index('Sequence')\n",
    "    return [value_row[sequence_index] for value_row in value_rows]\n",
    "\n",
    "def get_mic_datas(data_table):\n",
    "    rows = data_table.findAll('tr')\n",
    "    label_row = [td for td in rows[0].findAll('td')]\n",
    "    value_rows = []\n",
    "    for row in rows[1:]:\n",
    "        value_rows.append([td.text.strip() for td in rows[1].findAll('td')])\n",
    "    for column in label_row.findAll('td'):\n",
    "        contents = td.contents\n",
    "        if 'MIC' in contents[0]:\n",
    "            bacteria = contents[1]\n",
    "            unit = contents[2][2:-1]\n",
    "            for v in value_rows:"
   ]
  },
  {
   "cell_type": "code",
   "execution_count": 122,
   "metadata": {},
   "outputs": [
    {
     "name": "stdout",
     "output_type": "stream",
     "text": [
      "(4, [u'Bioactive', u'Dermadistinctin-L', u'28', u'No', u'ALWKTLLKNVGKAAGKAALNAVTDMVNQ', u'', u'2.5', u'1.3'])\n"
     ]
    },
    {
     "data": {
      "text/plain": [
       "[u'ALWKTLLKNVGKAAGKAALNAVTDMVNQ']"
      ]
     },
     "execution_count": 122,
     "metadata": {},
     "output_type": "execute_result"
    }
   ],
   "source": []
  },
  {
   "cell_type": "code",
   "execution_count": null,
   "metadata": {},
   "outputs": [],
   "source": [
    "data_table.findAll('tr')"
   ]
  },
  {
   "cell_type": "code",
   "execution_count": null,
   "metadata": {},
   "outputs": [],
   "source": [
    "url_base = 'http://split4.pmfst.hr/dadp/?a=kartica&id='\n",
    "i = 0\n",
    "# url = url_base + links[i]\n",
    "# url = 'http://split4.pmfst.hr/dadp/?a=kartica&id=SP_2617'\n",
    "multiple_reference_url = 'http://split4.pmfst.hr/dadp/?a=kartica&id=SP_P83639'\n",
    "url = multiple_reference_url\n",
    "url = 'http://split4.pmfst.hr/dadp/?a=kartica&id=SP_Q1KLZ4'\n",
    "content = requests.get(url).content\n",
    "soup = BeautifulSoup(content, 'html.parser')\n",
    "\n",
    "tables = soup.findAll('table')\n",
    "reference_table = tables[1]\n",
    "data_table = tables[2]"
   ]
  },
  {
   "cell_type": "code",
   "execution_count": 127,
   "metadata": {},
   "outputs": [
    {
     "data": {
      "text/plain": [
       "[u'MFTLKKSLLLLFFLGTISLSLC', u'EEERNAEEERRDYPEERDVEVEKR', u'IIPLPLGYFAKKT']"
      ]
     },
     "execution_count": 127,
     "metadata": {},
     "output_type": "execute_result"
    }
   ],
   "source": [
    "get_sequences(data_table)"
   ]
  },
  {
   "cell_type": "code",
   "execution_count": 124,
   "metadata": {},
   "outputs": [
    {
     "name": "stdout",
     "output_type": "stream",
     "text": [
      "(4, [u'Signal', u'', u'22', u'', u'MFTLKKSLLLLFFLGTISLSLC', u'', u'', u''])\n"
     ]
    },
    {
     "ename": "NameError",
     "evalue": "name 'get_modified' is not defined",
     "output_type": "error",
     "traceback": [
      "\u001b[0;31m---------------------------------------------------------------------------\u001b[0m",
      "\u001b[0;31mNameError\u001b[0m                                 Traceback (most recent call last)",
      "\u001b[0;32m<ipython-input-124-78600ee8a683>\u001b[0m in \u001b[0;36m<module>\u001b[0;34m()\u001b[0m\n\u001b[1;32m      3\u001b[0m \u001b[0mmic_data\u001b[0m \u001b[0;34m=\u001b[0m \u001b[0mget_mic_data\u001b[0m\u001b[0;34m(\u001b[0m\u001b[0mdata_table\u001b[0m\u001b[0;34m)\u001b[0m\u001b[0;34m\u001b[0m\u001b[0m\n\u001b[1;32m      4\u001b[0m \u001b[0;34m\u001b[0m\u001b[0m\n\u001b[0;32m----> 5\u001b[0;31m \u001b[0mmodified\u001b[0m \u001b[0;34m=\u001b[0m \u001b[0mget_modified\u001b[0m\u001b[0;34m(\u001b[0m\u001b[0mdata_table\u001b[0m\u001b[0;34m)\u001b[0m\u001b[0;34m\u001b[0m\u001b[0m\n\u001b[0m",
      "\u001b[0;31mNameError\u001b[0m: name 'get_modified' is not defined"
     ]
    }
   ],
   "source": [
    "mic_data = get_mic_data(data_table)\n",
    "\n",
    "modified = get_modified(data_table)"
   ]
  },
  {
   "cell_type": "code",
   "execution_count": 129,
   "metadata": {},
   "outputs": [
    {
     "name": "stdout",
     "output_type": "stream",
     "text": [
      "Segment type\n",
      "Name\n",
      "Length\n",
      "Amidated\n",
      "Sequence\n",
      "HC50 (μM)\n",
      "None\n",
      "None\n"
     ]
    }
   ],
   "source": [
    "for td in data_table.findAll('tr')[0].findAll('td'):\n",
    "    print(td.string)"
   ]
  },
  {
   "cell_type": "code",
   "execution_count": 143,
   "metadata": {},
   "outputs": [
    {
     "data": {
      "text/plain": [
       "[u'MIC ', u'S. aureus', u'\\xa0(\\u03bcM)']"
      ]
     },
     "execution_count": 143,
     "metadata": {},
     "output_type": "execute_result"
    }
   ],
   "source": [
    "[t.string for t in td.contents]"
   ]
  },
  {
   "cell_type": "code",
   "execution_count": 144,
   "metadata": {},
   "outputs": [],
   "source": [
    "z = _[-1]"
   ]
  },
  {
   "cell_type": "code",
   "execution_count": 145,
   "metadata": {},
   "outputs": [
    {
     "data": {
      "text/plain": [
       "u'\\xa0(\\u03bcM)'"
      ]
     },
     "execution_count": 145,
     "metadata": {},
     "output_type": "execute_result"
    }
   ],
   "source": [
    "z"
   ]
  },
  {
   "cell_type": "code",
   "execution_count": 146,
   "metadata": {},
   "outputs": [
    {
     "data": {
      "text/plain": [
       "u'(\\u03bcM'"
      ]
     },
     "execution_count": 146,
     "metadata": {},
     "output_type": "execute_result"
    }
   ],
   "source": [
    "z[1:-1]"
   ]
  },
  {
   "cell_type": "code",
   "execution_count": 147,
   "metadata": {},
   "outputs": [
    {
     "data": {
      "text/plain": [
       "u'\\u03bcM'"
      ]
     },
     "execution_count": 147,
     "metadata": {},
     "output_type": "execute_result"
    }
   ],
   "source": [
    "z[2:-1]"
   ]
  },
  {
   "cell_type": "code",
   "execution_count": 148,
   "metadata": {},
   "outputs": [
    {
     "name": "stdout",
     "output_type": "stream",
     "text": [
      "μM\n"
     ]
    }
   ],
   "source": [
    "print(z[2:-1])"
   ]
  },
  {
   "cell_type": "code",
   "execution_count": 149,
   "metadata": {},
   "outputs": [
    {
     "name": "stdout",
     "output_type": "stream",
     "text": [
      "�\n"
     ]
    }
   ],
   "source": [
    "print('\\xa0')"
   ]
  },
  {
   "cell_type": "code",
   "execution_count": null,
   "metadata": {},
   "outputs": [],
   "source": []
  }
 ],
 "metadata": {
  "kernelspec": {
   "display_name": "Python 2",
   "language": "python",
   "name": "python2"
  },
  "language_info": {
   "codemirror_mode": {
    "name": "ipython",
    "version": 2
   },
   "file_extension": ".py",
   "mimetype": "text/x-python",
   "name": "python",
   "nbconvert_exporter": "python",
   "pygments_lexer": "ipython2",
   "version": "2.7.12"
  }
 },
 "nbformat": 4,
 "nbformat_minor": 2
}
