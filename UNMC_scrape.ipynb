{
 "cells": [
  {
   "cell_type": "code",
   "execution_count": null,
   "metadata": {},
   "outputs": [],
   "source": [
    "import re\n",
    "import requests\n",
    "from bs4 import BeautifulSoup\n",
    "bacteria_regex = r'[A-Z]\\. [a-z]+'"
   ]
  },
  {
   "cell_type": "code",
   "execution_count": null,
   "metadata": {},
   "outputs": [],
   "source": [
    "def get_sequence(splits):\n",
    "    return splits[splits.index('Sequence:') + 1]\n",
    "\n",
    "def get_additional_info(splits):\n",
    "    return splits[splits.index('Additional info:') + 1]\n",
    "\n",
    "def _parse_strains_from_additional_info(info):\n",
    "\n",
    "    bacteria = {} \n",
    "    fields = info.split(')')\n",
    "\n",
    "    for f in fields:\n",
    "        unit_splits = f.split('MIC')\n",
    "        if len(unit_splits) < 2:\n",
    "            continue\n",
    "        unit = unit_splits[1]\n",
    "        unit_string = unit\n",
    "        for c in unit:\n",
    "            if not(c.isalnum() or c in ['.', '/', ' ', '-']):\n",
    "                unit_string = unit_string.replace(c, '')\n",
    "        if not any(c.isnumeric() for c in unit_string):\n",
    "            continue\n",
    "        unit_string = unit_string.strip()  # Remove start and ending spaces\n",
    "        unit_string_splits = unit_string.split()\n",
    "        if len(unit_string_splits) < 2:\n",
    "            continue\n",
    "        elif len(unit_string_splits) == 2:\n",
    "            value = unit_string_splits[0]\n",
    "        else:\n",
    "            value = [unit_string_splits[0] + unit_string_splits[1]]\n",
    "        if '-' in value:  # Sometimes they give a range, like \"11-22 uM\"\n",
    "            bounds = value.split('-')\n",
    "            bound_values = [float(b.strip()) for b in bounds]\n",
    "            if len(bounds) != 2:\n",
    "                print('Bounds too long or too short')\n",
    "\n",
    "            def _geometric_mean(b0, b1):\n",
    "                return (b0 * b1) ** (0.5)\n",
    "\n",
    "            b0, b1 = float(bounds[0]), float(bounds[1])\n",
    "            value = str(_geometric_mean(b0, b1))  # Take geometric mean (log scale)\n",
    "\n",
    "        unit_dict = {\n",
    "            'value': value,\n",
    "            'unit': unit_string_splits[1]\n",
    "        }\n",
    "        bacteria_split = unit_splits[0]\n",
    "        for bacteria_list in bacteria_split.split(','):  # Commas not allowed in bacteria names\n",
    "            for bacterium in re.findall(bacteria_regex, bacteria_list):\n",
    "                bacteria[bacterium] = unit_dict\n",
    "    return bacteria"
   ]
  },
  {
   "cell_type": "code",
   "execution_count": null,
   "metadata": {},
   "outputs": [],
   "source": [
    "def parse_strains(splits):\n",
    "    info = get_additional_info(splits)\n",
    "    strain_data = _parse_strains_from_additional_info(info)\n",
    "    return strain_data"
   ]
  },
  {
   "cell_type": "code",
   "execution_count": null,
   "metadata": {},
   "outputs": [],
   "source": [
    "DATABASE_NAME = 'UNMC'\n",
    "url_base = 'http://aps.unmc.edu/AP/database/query_output.php?ID='\n",
    "\n",
    "NUM_BACTERIA = 2887\n",
    "all_bacteria = {}"
   ]
  },
  {
   "cell_type": "code",
   "execution_count": null,
   "metadata": {},
   "outputs": [],
   "source": [
    "for i in range(1, NUM_BACTERIA):\n",
    "    url = url_base + str(i)\n",
    "    content = requests.get(url).content\n",
    "    soup = BeautifulSoup(content, 'html.parser')\n",
    "    text = soup.text\n",
    "    splits = text.split('\\n')\n",
    "    sequence = get_sequence(splits)\n",
    "    all_bacteria[sequence] = parse_strains(splits)\n",
    "    if i % 100 == 0:\n",
    "       print(i)"
   ]
  },
  {
   "cell_type": "code",
   "execution_count": null,
   "metadata": {},
   "outputs": [],
   "source": [
    "with open(DATABASE_NAME, 'w') as f:\n",
    "    f.write(str(all_bacteria))"
   ]
  }
 ],
 "metadata": {
  "kernelspec": {
   "display_name": "Python 2",
   "language": "python",
   "name": "python2"
  },
  "language_info": {
   "codemirror_mode": {
    "name": "ipython",
    "version": 2
   },
   "file_extension": ".py",
   "mimetype": "text/x-python",
   "name": "python",
   "nbconvert_exporter": "python",
   "pygments_lexer": "ipython2",
   "version": "2.7.12"
  }
 },
 "nbformat": 4,
 "nbformat_minor": 2
}
