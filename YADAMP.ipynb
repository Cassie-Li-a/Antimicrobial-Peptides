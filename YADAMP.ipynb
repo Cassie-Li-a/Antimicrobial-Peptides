{
 "cells": [
  {
   "cell_type": "code",
   "execution_count": null,
   "metadata": {},
   "outputs": [],
   "source": [
    "import re\n",
    "import requests\n",
    "from bs4 import BeautifulSoup\n",
    "bacteria_mic_regex = r'MIC [A-Z]\\. [a-z]+'\n",
    "bacteria_regex = r'[A-Z]\\. [a-z]+'"
   ]
  },
  {
   "cell_type": "code",
   "execution_count": null,
   "metadata": {},
   "outputs": [],
   "source": [
    "i = 2222\n",
    "url_base = 'http://www.yadamp.unisa.it/showItem.aspx?yadampid='\n",
    "url = url_base + str(i)\n",
    "content = requests.get(url).content\n",
    "soup = BeautifulSoup(content, 'html.parser')"
   ]
  },
  {
   "cell_type": "code",
   "execution_count": null,
   "metadata": {},
   "outputs": [],
   "source": [
    "all_bacteria = {}\n",
    "NUM_BACTERIA = 2525"
   ]
  },
  {
   "cell_type": "code",
   "execution_count": null,
   "metadata": {},
   "outputs": [],
   "source": [
    "for i in range(1, NUM_BACTERIA):\n",
    "    url_base = 'http://www.yadamp.unisa.it/showItem.aspx?yadampid='\n",
    "    url = url_base + str(i)\n",
    "    content = requests.get(url).content\n",
    "    soup = BeautifulSoup(content, 'html.parser')\n",
    "    table = soup.find('table')\n",
    "\n",
    "    bacteria_dict = {}\n",
    "    UNIT = 'ug/ml'\n",
    "    for table_row in table.findAll('tr'):\n",
    "        rows = table_row.findAll('td')\n",
    "        for j, row in enumerate(rows):\n",
    "            if not row.string:\n",
    "                continue\n",
    "            if re.findall(bacteria_mic_regex, row.string):\n",
    "                bacteria = re.findall(bacteria_regex, row.string)[0]\n",
    "                value = rows[j+1].string.strip()\n",
    "                if value:\n",
    "                    bacteria_dict[bacteria] = {\n",
    "                        'value': value,\n",
    "                        'unit': UNIT\n",
    "                    }\n",
    "            elif row.string.strip() == 'SEQUENCE':\n",
    "                sequence_row = rows[j+1]\n",
    "                sequence = list(sequence_row.findAll('b')[0].children)[0]\n",
    "    if not sequence:\n",
    "        print('Error sequence not found', i, sequence)\n",
    "    else:\n",
    "        print(\"Adding sequence:\", i, sequence)\n",
    "        all_bacteria[sequence] = bacteria_dict"
   ]
  },
  {
   "cell_type": "code",
   "execution_count": 158,
   "metadata": {},
   "outputs": [],
   "source": [
    "with open(\"../Antimacrobial-Peptides/YADAMP.dict\", \"w\") as f:\n",
    "    f.write(str(all_bacteria))"
   ]
  },
  {
   "cell_type": "code",
   "execution_count": null,
   "metadata": {},
   "outputs": [],
   "source": []
  }
 ],
 "metadata": {
  "kernelspec": {
   "display_name": "Python 2",
   "language": "python",
   "name": "python2"
  },
  "language_info": {
   "codemirror_mode": {
    "name": "ipython",
    "version": 2
   },
   "file_extension": ".py",
   "mimetype": "text/x-python",
   "name": "python",
   "nbconvert_exporter": "python",
   "pygments_lexer": "ipython2",
   "version": "2.7.12"
  }
 },
 "nbformat": 4,
 "nbformat_minor": 2
}
