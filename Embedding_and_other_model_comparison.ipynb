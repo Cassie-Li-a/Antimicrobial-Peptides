{
 "cells": [
  {
   "cell_type": "code",
   "execution_count": 332,
   "metadata": {
    "collapsed": false
   },
   "outputs": [],
   "source": [
    "import pandas as pd\n",
    "import os\n",
    "import ast\n",
    "import numpy as np\n",
    "import math\n",
    "from keras.optimizers import Adam\n",
    "import random\n",
    "from copy import deepcopy\n",
    "%matplotlib inline\n",
    "from Bio.SeqUtils.ProtParam import ProteinAnalysis\n",
    "from sklearn.linear_model import LinearRegression\n",
    "from sklearn.linear_model import RidgeCV\n",
    "from sklearn.model_selection import cross_val_score\n",
    "from sklearn.manifold import TSNE\n",
    "pd.options.display.max_colwidth = 100\n",
    "pd.options.display.float_format = '{:.2f}'.format\n",
    "import matplotlib.pyplot as plt\n",
    "import pickle\n",
    "from Bio import pairwise2\n",
    "from Bio.SubsMat import MatrixInfo as matlist\n",
    "import seaborn as sns\n",
    "from scipy.stats import kendalltau\n",
    "from sklearn.linear_model import LinearRegression\n",
    "from sklearn.model_selection import cross_val_score\n",
    "import keras\n",
    "from keras.layers import Dense, Dropout, LSTM, Conv2D, Conv1D, MaxPooling1D, MaxPooling2D, Flatten, ZeroPadding1D, SimpleRNN, Bidirectional\n",
    "from keras.wrappers.scikit_learn import KerasRegressor\n",
    "from sklearn.model_selection import KFold\n",
    "from sklearn.model_selection import cross_val_score\n",
    "import json\n",
    "from keras.models import model_from_json\n",
    "from Bio import pairwise2\n",
    "from Bio import SeqIO\n",
    "from Bio.SubsMat import MatrixInfo as matlist"
   ]
  },
  {
   "cell_type": "code",
   "execution_count": 6,
   "metadata": {
    "collapsed": true
   },
   "outputs": [],
   "source": [
    "CHARACTER_LIST = [u'A', u'C', u'E', u'D', u'G', u'F', u'I', u'H', u'K', u'M', u'L', u'N', u'Q', u'P', u'S', u'R', u'T', u'W', u'V', u'Y']\n",
    "nchar = len(CHARACTER_LIST)\n",
    "CHARACTER_LIST.sort()\n",
    "CHARACTER_DICT = set([u'A', u'C', u'E', u'D', u'G', u'F', u'I', u'H', u'K', u'M', u'L', u'N', u'Q', u'P', u'S', u'R', u'T', u'W', u'V', u'Y'])\n",
    "MAX_SEQUENCE_LENGTH=46\n",
    "MAX_MIC = 4\n",
    "FONT_TO_USE = 'Arial'"
   ]
  },
  {
   "cell_type": "code",
   "execution_count": 21,
   "metadata": {
    "collapsed": true
   },
   "outputs": [],
   "source": [
    "def generate_embedding(matrix_dict,min_corr=0.99):\n",
    "    distance_matrix = np.zeros([len(CHARACTER_LIST),len(CHARACTER_LIST)])\n",
    "    for i,char1 in enumerate(CHARACTER_LIST):\n",
    "        for j,char2 in enumerate(CHARACTER_LIST):\n",
    "            if (char1,char2) in matrix_dict.keys():\n",
    "                distance_matrix[i,j] = (matrix_dict[(char1,char1)]+matrix_dict[(char2,char2)]-2*matrix_dict[(char1,char2)]+0.)\n",
    "            else:\n",
    "                distance_matrix[i,j] = (matrix_dict[(char1,char1)]+matrix_dict[(char2,char2)]-2*matrix_dict[(char2,char1)]+0.)\n",
    "    G_matrix = np.zeros([nchar,nchar])\n",
    "    for i in range(nchar):\n",
    "        for j in range(nchar):\n",
    "            G_matrix[i,i] += distance_matrix[i,j]**2/nchar\n",
    "            for k in range(nchar):\n",
    "                G_matrix[i,i] -= distance_matrix[j,k]**2/(2*(nchar**2))\n",
    "\n",
    "    for i in range(nchar):\n",
    "        for j in range(nchar):\n",
    "            G_matrix[i,j] = (G_matrix[i,i]+G_matrix[j,j]-distance_matrix[i,j]**2)/2\n",
    "    values,vectors = np.linalg.eigh(G_matrix)\n",
    "    corr = 0\n",
    "    n_dimensions = 0\n",
    "    while corr<min_corr:\n",
    "        n_dimensions += 1\n",
    "        sqrt_lambda_matrix = np.zeros([n_dimensions,n_dimensions])\n",
    "        for i in range(n_dimensions):\n",
    "            sqrt_lambda_matrix[i,i] = np.sqrt(values[i-n_dimensions])\n",
    "        u_matrix = vectors[:,nchar-n_dimensions:nchar]\n",
    "        product = np.matmul(sqrt_lambda_matrix,np.transpose(u_matrix))\n",
    "        embedding_matrix = np.zeros([n_dimensions,nchar])\n",
    "        for i in range(nchar):\n",
    "            for j in range(n_dimensions):\n",
    "                embedding_matrix[j,i] = product[n_dimensions-1-j,i]\n",
    "        embedding_matrix = np.transpose(embedding_matrix)\n",
    "        reconst_dist_matrix = np.zeros([nchar,nchar])\n",
    "        for i in range(nchar):\n",
    "            for j in range(nchar):\n",
    "                to_set = np.linalg.norm(embedding_matrix[i,:]-embedding_matrix[j,:])\n",
    "                reconst_dist_matrix[i,j] = to_set\n",
    "        old=[]\n",
    "        reconst=[]\n",
    "        for i in range(nchar-1):\n",
    "            for j in range(i+1,nchar):\n",
    "                old.append(distance_matrix[i,j])\n",
    "                reconst.append(reconst_dist_matrix[i,j])\n",
    "        corr = np.corrcoef(old,reconst)[0,1]\n",
    "    embedding_dict = {}\n",
    "    for i,char in enumerate(CHARACTER_LIST):\n",
    "        embedding_dict[char] = embedding_matrix[i].tolist()\n",
    "    return embedding_dict"
   ]
  },
  {
   "cell_type": "code",
   "execution_count": 328,
   "metadata": {
    "collapsed": false
   },
   "outputs": [],
   "source": [
    "# Generate the input vectors for our model\n",
    "# Each vector is two dimensional\n",
    "# The first dimension represents the number of characters in the sequence (46 characters)\n",
    "# Each character is a vector of length equal to the number of groupings of amino acids\n",
    "# This grouping can be 1-1 (each amino acid gets its own group), or coarser\n",
    "def df_to_input_vec(df,shuffle = False,embed_dict=None):\n",
    "    cterminal_amidation = np.array(df.has_cterminal_amidation)\n",
    "\n",
    "    vectors = []\n",
    "    for row in df.iterrows():\n",
    "        vectors.append(row_to_vector(row[1],embed_dict=embed_dict, shuffle_sequence=shuffle))\n",
    "\n",
    "    vectors = np.array(vectors)\n",
    "\n",
    "    labels = np.array(df.value)\n",
    "    sample_weights = np.full(len(labels), 1)\n",
    "    return vectors, labels, sample_weights\n",
    "\n",
    "def generate_random_sequence(alphabet, length_of_sequence_min=0, length_of_sequence_max=MAX_SEQUENCE_LENGTH, include_C = True):\n",
    "        sequence = ''\n",
    "        choices = [char for char in alphabet if (include_C or char !='C')]\n",
    "        counter = 0\n",
    "        length_to_use = -10\n",
    "        while counter<20 and (length_to_use < length_of_sequence_min or length_to_use > length_of_sequence_max):\n",
    "            length_to_use = random.choice(SEQ_LENGTHS)\n",
    "            counter += 1\n",
    "        for _ in range(length_to_use):\n",
    "            sequence += random.choice(choices)\n",
    "        has_cterminal_amidation = random.uniform(0, 1)\n",
    "\n",
    "        return {\n",
    "            'sequence': sequence,\n",
    "            'has_cterminal_amidation': has_cterminal_amidation>0.5\n",
    "#             Used to be 0.5 but only 34% of positive data has amidation OOPS\n",
    "        }\n",
    "\n",
    "def add_random_negative_examples(vectors, labels, sample_weights, ratio, max_mic = None, include_cysteine = True):\n",
    "    if not max_mic:\n",
    "        max_mic = max(labels)\n",
    "    # We will add randomly chosen sequences as negative examples\n",
    "    # We will double the length of our training set\n",
    "\n",
    "    len_vectors = ratio * len(vectors)\n",
    "    negative_rows = []\n",
    "    for i in range(len_vectors):\n",
    "        negative_rows.append(row_to_vector(generate_random_sequence(list(CHARACTER_DICT),include_C = include_cysteine)))\n",
    "    negative_vectors = np.array(negative_rows)\n",
    "    vectors = np.concatenate((vectors, negative_vectors))\n",
    "    negative_labels = np.full(len_vectors, max_mic)\n",
    "    labels = np.concatenate((labels, negative_labels))\n",
    "    # Weight all samples equally\n",
    "    sample_weights = np.concatenate((sample_weights, np.full(len_vectors, 1)))\n",
    "    return vectors, labels, sample_weights\n",
    "\n",
    "def generate_train_test_splits(\n",
    "        vectors, labels,\n",
    "        extra_training_vectors=[], extra_training_labels=[], extra_sample_weights=[],\n",
    "        cutoff=0.85\n",
    "):\n",
    "    cutoff = int(cutoff * len(labels))\n",
    "    idx = range(len(vectors))\n",
    "    random.shuffle(idx)\n",
    "    reordered_vectors = vectors[idx]\n",
    "    reordered_labels = labels[idx]\n",
    "    reordered_sample_weights = sample_weights[idx]\n",
    "    if len(extra_training_vectors) > 0:\n",
    "        train_x = np.concatenate((reordered_vectors[:cutoff], extra_training_vectors))\n",
    "        train_y = np.concatenate((reordered_labels[:cutoff], extra_training_labels))\n",
    "        train_sample_weights = np.concatenate((reordered_sample_weights[:cutoff], pa_sample_weights))\n",
    "    else:\n",
    "        train_x = reordered_vectors[:cutoff]\n",
    "        train_y = reordered_labels[:cutoff]\n",
    "        train_sample_weights = reordered_sample_weights[:cutoff]\n",
    "    test_x = reordered_vectors[cutoff:]\n",
    "    test_y = reordered_labels[cutoff:]\n",
    "    return train_x, train_y, test_x, test_y, train_sample_weights\n",
    "\n",
    "# Convolutional NN\n",
    "def conv_model(embed_length = (len(character_to_index)+1)):\n",
    "    model = keras.models.Sequential()\n",
    "    model.add(ZeroPadding1D(\n",
    "        5, input_shape = (MAX_SEQUENCE_LENGTH, embed_length)\n",
    "    ))\n",
    "    model.add(Conv1D(\n",
    "        64,\n",
    "        kernel_size = 5,\n",
    "        strides = 1,\n",
    "        activation = 'relu',\n",
    "        #input_shape = (MAX_SEQUENCE_LENGTH, len(character_to_index) + 1)\n",
    "    ))\n",
    "    model.add(MaxPooling1D(pool_size=2, strides=2))\n",
    "    #model.add(Dropout(0.5))\n",
    "    model.add(Conv1D(64, 5, activation='relu'))\n",
    "    model.add(MaxPooling1D(pool_size=2))\n",
    "    model.add(Flatten())\n",
    "    model.add(Dropout(0.5))\n",
    "    model.add(Dense(100, activation='relu'))\n",
    "    #model.add(Dense(100, activation='relu'))\n",
    "    model.add(Dense(20, activation='relu'))\n",
    "    model.add(Dense(1))\n",
    "    model.compile(loss='mean_squared_error', optimizer='adam')\n",
    "    return model\n",
    "\n",
    "# Convolutional NN\n",
    "def conv_model_set_dropout(dropout_level=0.5,embed_length = (len(character_to_index)+1)):\n",
    "    model = keras.models.Sequential()\n",
    "    model.add(ZeroPadding1D(\n",
    "        5, input_shape = (MAX_SEQUENCE_LENGTH, embed_length)\n",
    "    ))\n",
    "    model.add(Conv1D(\n",
    "        64,\n",
    "        kernel_size = 5,\n",
    "        strides = 1,\n",
    "        activation = 'relu',\n",
    "        #input_shape = (MAX_SEQUENCE_LENGTH, len(character_to_index) + 1)\n",
    "    ))\n",
    "    model.add(MaxPooling1D(pool_size=2, strides=2))\n",
    "    #model.add(Dropout(0.5))\n",
    "    model.add(Conv1D(64, 5, activation='relu'))\n",
    "    model.add(MaxPooling1D(pool_size=2))\n",
    "    model.add(Flatten())\n",
    "    model.add(Dropout(dropout_level))\n",
    "    model.add(Dense(100, activation='relu'))\n",
    "    #model.add(Dense(100, activation='relu'))\n",
    "    model.add(Dense(20, activation='relu'))\n",
    "    model.add(Dense(1))\n",
    "    model.compile(loss='mean_squared_error', optimizer='adam')\n",
    "    return model\n",
    "\n",
    "# Convolutional NN\n",
    "def conv_model_move_dropout(embed_length = (len(character_to_index)+1)):\n",
    "    model = keras.models.Sequential()\n",
    "    model.add(ZeroPadding1D(\n",
    "        5, input_shape = (MAX_SEQUENCE_LENGTH, embed_length)\n",
    "    ))\n",
    "    model.add(Conv1D(\n",
    "        64,\n",
    "        kernel_size = 5,\n",
    "        strides = 1,\n",
    "        activation = 'relu',\n",
    "        #input_shape = (MAX_SEQUENCE_LENGTH, len(character_to_index) + 1)\n",
    "    ))\n",
    "    model.add(MaxPooling1D(pool_size=2, strides=2))\n",
    "    #model.add(Dropout(0.5))\n",
    "    model.add(Conv1D(64, 5, activation='relu'))\n",
    "    model.add(MaxPooling1D(pool_size=2))\n",
    "    model.add(Flatten())\n",
    "    model.add(Dense(100, activation='relu'))\n",
    "    model.add(Dropout(0.5))\n",
    "    #model.add(Dense(100, activation='relu'))\n",
    "    model.add(Dense(20, activation='relu'))\n",
    "    model.add(Dense(1))\n",
    "    model.compile(loss='mean_squared_error', optimizer='adam')\n",
    "    return model\n",
    "\n",
    "# Convolutional NN\n",
    "def one_layer_conv_model(embed_length = (len(character_to_index)+1)):\n",
    "    model = keras.models.Sequential()\n",
    "    model.add(ZeroPadding1D(\n",
    "        5, input_shape = (MAX_SEQUENCE_LENGTH, embed_length)\n",
    "    ))\n",
    "    model.add(Conv1D(\n",
    "        64,\n",
    "        kernel_size = 5,\n",
    "        strides = 1,\n",
    "        activation = 'relu',\n",
    "        #input_shape = (MAX_SEQUENCE_LENGTH, len(character_to_index) + 1)\n",
    "    ))\n",
    "    model.add(MaxPooling1D(pool_size=2, strides=2))\n",
    "    model.add(Flatten())\n",
    "    model.add(Dropout(0.5))\n",
    "    model.add(Dense(100, activation='relu'))\n",
    "    #model.add(Dense(100, activation='relu'))\n",
    "    model.add(Dense(20, activation='relu'))\n",
    "    model.add(Dense(1))\n",
    "    model.compile(loss='mean_squared_error', optimizer='adam')\n",
    "    return model\n",
    "\n",
    "def lstm_model(embed_length = (len(character_to_index)+1)):\n",
    "    model = keras.models.Sequential()\n",
    "#     model = keras.models.Sequential()\n",
    "    model.add(LSTM(\n",
    "        64,\n",
    "        input_shape=(MAX_SEQUENCE_LENGTH, embed_length),\n",
    "    ))\n",
    "#     model.add(Flatten())\n",
    "    model.add(Dropout(0.5))\n",
    "    model.add(Dense(100, kernel_initializer='normal'))\n",
    "#     model.add(Dropout(0.5))\n",
    "    model.add(Dense(20, kernel_initializer='normal'))\n",
    "    model.add(Dense(1, kernel_initializer='normal'))\n",
    "    model.compile(loss='mean_squared_error', optimizer='adam')\n",
    "    return model\n",
    "\n",
    "def two_layer_recurrent_model(embed_length = (len(character_to_index)+1)):\n",
    "    model = keras.models.Sequential()\n",
    "#     model = keras.models.Sequential()\n",
    "    model.add(SimpleRNN(\n",
    "        64,\n",
    "        input_shape=(MAX_SEQUENCE_LENGTH, embed_length),return_sequences=True\n",
    "    ))\n",
    "    model.add(SimpleRNN(64))\n",
    "#     model.add(Flatten())\n",
    "    model.add(Dropout(0.5))\n",
    "    model.add(Dense(100, kernel_initializer='normal'))\n",
    "    model.add(Dense(20, kernel_initializer='normal'))\n",
    "    model.add(Dense(1, kernel_initializer='normal'))\n",
    "    model.compile(loss='mean_squared_error', optimizer='adam')\n",
    "    return model\n",
    "\n",
    "def three_layer_recurrent_model(embed_length = (len(character_to_index)+1)):\n",
    "    model = keras.models.Sequential()\n",
    "#     model = keras.models.Sequential()\n",
    "    model.add(SimpleRNN(\n",
    "        64,\n",
    "        input_shape=(MAX_SEQUENCE_LENGTH, embed_length),return_sequences=True\n",
    "    ))\n",
    "    model.add(SimpleRNN(64,return_sequences=True))\n",
    "    model.add(SimpleRNN(64))\n",
    "#     model.add(Flatten())\n",
    "    model.add(Dropout(0.5))\n",
    "    model.add(Dense(100, kernel_initializer='normal'))\n",
    "    model.add(Dense(20, kernel_initializer='normal'))\n",
    "    model.add(Dense(1, kernel_initializer='normal'))\n",
    "    model.compile(loss='mean_squared_error', optimizer='adam')\n",
    "    return model\n",
    "\n",
    "def one_layer_recurrent_model(embed_length = (len(character_to_index)+1)):\n",
    "    model = keras.models.Sequential()\n",
    "#     model = keras.models.Sequential()\n",
    "    model.add(SimpleRNN(\n",
    "        64,\n",
    "        input_shape=(MAX_SEQUENCE_LENGTH, embed_length),return_sequences=False\n",
    "    ))\n",
    "#     model.add(Flatten())\n",
    "    model.add(Dropout(0.5))\n",
    "    model.add(Dense(100, kernel_initializer='normal'))\n",
    "    model.add(Dense(20, kernel_initializer='normal'))\n",
    "    model.add(Dense(1, kernel_initializer='normal'))\n",
    "    model.compile(loss='mean_squared_error', optimizer=Adam(lr=0.00001))\n",
    "    return model\n",
    "\n",
    "def bilstm_model(embed_length = (len(character_to_index)+1)):\n",
    "    model = keras.models.Sequential()\n",
    "#     model = keras.models.Sequential()\n",
    "    model.add(Bidirectional(LSTM(\n",
    "        64\n",
    "    ),input_shape=(MAX_SEQUENCE_LENGTH, embed_length)))\n",
    "#     model.add(Flatten())\n",
    "    model.add(Dropout(0.5))\n",
    "    model.add(Dense(100, kernel_initializer='normal'))\n",
    "#     model.add(Dropout(0.5))\n",
    "    model.add(Dense(20, kernel_initializer='normal'))\n",
    "    model.add(Dense(1, kernel_initializer='normal'))\n",
    "    model.compile(loss='mean_squared_error', optimizer='adam')\n",
    "    return model\n",
    "\n",
    "def birecurrent_model(embed_length = (len(character_to_index)+1)):\n",
    "    model = keras.models.Sequential()\n",
    "#     model = keras.models.Sequential()\n",
    "    model.add(Bidirectional(SimpleRNN(\n",
    "        64,return_sequences=False\n",
    "    ),input_shape=(MAX_SEQUENCE_LENGTH, embed_length)))\n",
    "#     model.add(Flatten())\n",
    "    model.add(Dropout(0.5))\n",
    "    model.add(Dense(100, kernel_initializer='normal'))\n",
    "    model.add(Dense(20, kernel_initializer='normal'))\n",
    "    model.add(Dense(1, kernel_initializer='normal'))\n",
    "    model.compile(loss='mean_squared_error', optimizer='adam')\n",
    "    return model\n",
    "\n",
    "class EnsembleModel:\n",
    "    def __init__(self,models,predict_method,max_mic_buffer=0.1):\n",
    "        self.models = models\n",
    "        self.predict_method = predict_method\n",
    "        self.max_mic_buffer = max_mic_buffer\n",
    "        \n",
    "    def combine_predictions(self,predictions):\n",
    "        if self.predict_method is 'average':\n",
    "            return np.mean(predictions)\n",
    "        elif self.predict_method is 'classify_then_average':\n",
    "            actual_predictions = []\n",
    "            for prediction in predictions:\n",
    "                if prediction < MAX_MIC - self.max_mic_buffer:\n",
    "                    actual_predictions.append(prediction)\n",
    "            if float(len(actual_predictions))/float(len(predictions))>=0.49:\n",
    "                return np.mean(predictions)\n",
    "            else:\n",
    "                return MAX_MIC\n",
    "        else:\n",
    "            print 'predict_method not recognized'\n",
    "            return -100\n",
    "        \n",
    "    def predict(self,test_x):\n",
    "        all_predictions = []\n",
    "        combined_predictions = []\n",
    "        for model in self.models:\n",
    "            all_predictions.append(model.predict(test_x))\n",
    "        for i in range(len(test_x)):\n",
    "            combined_predictions.append(self.combine_predictions([all_predictions[k][i] for k in range(len(self.models))]))\n",
    "        return combined_predictions\n",
    "    \n",
    "    def evaluate(self,test_x,test_y):\n",
    "        predictions = self.predict(test_x)\n",
    "        correctly_classified_error = np.mean([(actual - predicted) ** 2 for actual, predicted in zip(test_y, predictions) if actual < MAX_MIC and predicted < MAX_MIC - self.max_mic_buffer])    \n",
    "        all_error = np.mean([(actual - predicted) ** 2 for actual, predicted in zip(test_y, predictions)])    \n",
    "        all_active_error = np.mean([(actual - predicted) ** 2 for actual, predicted in zip(test_y, predictions) if actual < MAX_MIC])    \n",
    "        return correctly_classified_error,all_active_error, all_error\n",
    "    \n",
    "    def evaluate_as_classifier(self,test_x,test_y):\n",
    "        true_positives=0\n",
    "        true_negatives=0\n",
    "        false_positives=0\n",
    "        false_negatives=0\n",
    "        all_predicted=self.predict(test_x)\n",
    "        for i in range(len(test_y)):\n",
    "            actual=test_y[i]\n",
    "            predicted=all_predicted[i]\n",
    "            if actual<MAX_MIC-0.0001:\n",
    "                if predicted<MAX_MIC - self.max_mic_buffer:\n",
    "                    true_positives+=1\n",
    "                else:\n",
    "                    false_negatives+=1\n",
    "            else:\n",
    "                if predicted<MAX_MIC - self.max_mic_buffer:\n",
    "                    false_positives += 1\n",
    "        #             print vector_to_amp(test_x[i])\n",
    "        #             print 'predicted: '+repr(predicted)+', actual: '+repr(actual)\n",
    "#                     print '>p'+repr(false_positives)+'_'+repr(predicted)\n",
    "#                     print vector_to_amp(test_x[i])['sequence'].replace('_','')\n",
    "                else:\n",
    "                    true_negatives += 1\n",
    "        return true_positives,true_negatives,false_positives,false_negatives\n",
    "        \n",
    "                                             "
   ]
  },
  {
   "cell_type": "code",
   "execution_count": 64,
   "metadata": {
    "collapsed": false
   },
   "outputs": [],
   "source": [
    "# Enter an element of a result dictionary into df-ready row\n",
    "# Standardize units of MIC\n",
    "def standardize_to_uM(concentration, unit, sequence):\n",
    "    concentration = concentration.replace(' ', '')\n",
    "    try:\n",
    "        concentration = float(concentration)\n",
    "    except:\n",
    "        return None\n",
    "    if unit == 'uM' or unit == u'\\xb5M' or unit == u'uM)':\n",
    "        return concentration\n",
    "    elif unit == 'ug/ml' or unit == u'\\xb5g/ml' or unit == u'ug/ml)':\n",
    "        try:\n",
    "            molWt = ProteinAnalysis(sequence).molecular_weight()\n",
    "        except ValueError:\n",
    "            return None\n",
    "        return concentration * 1000/molWt\n",
    "    elif unit == 'nmol/g' or unit == 'pmol/mg':\n",
    "        #1g, at density of 1g/mL, is 1mL, so nmol/g is nmol/mL = umol/L = uM yay!\n",
    "        return concentration\n",
    "    else:\n",
    "        # print 'Unit not recognized: ' + unit\n",
    "        return None\n",
    "    \n",
    "def convert_result_to_rows(sequence, result):\n",
    "    rows = []\n",
    "    if 'bacteria' not in result:\n",
    "        return rows\n",
    "    for bacterium, strain in result['bacteria']:\n",
    "        \n",
    "        rows.append({\n",
    "            'bacterium': bacterium,\n",
    "            'strain': strain,\n",
    "            'sequence': sequence.upper(),\n",
    "            'url_source': result['url_sources'][0],\n",
    "            'value': standardize_to_uM(\n",
    "                result['bacteria'][(bacterium, strain)]['value'],\n",
    "                result['bacteria'][(bacterium, strain)]['unit'],\n",
    "                sequence\n",
    "            ),\n",
    "            'modifications': result['modifications'] if 'modifications' in result else [],\n",
    "            'unit': 'uM'\n",
    "        })\n",
    "        if rows[-1]['value']:\n",
    "            rows[-1]['value'] = np.log10(rows[-1]['value'])\n",
    "    return rows\n",
    "\n",
    "# Remove sequences with amino acids that aren't well-defined\n",
    "def strip_sequences_with_char(df, bad_char):\n",
    "    return df[~df.sequence.str.contains(bad_char)]\n",
    "\n",
    "# We'll want to strip off any sequences with modifications that could be hard to replicate\n",
    "# Their effects are too complex for the model\n",
    "def is_modified(modifications_list):\n",
    "    return len(modifications_list) > 0\n",
    "\n",
    "# However, C-Terminal Amidation is common enough that we make an exception\n",
    "CTERM_AMIDATION_TERMS = ['C-Terminal amidation','C-Terminus: AMD','C-Terminal','C-termianal amidation']\n",
    "\n",
    "def has_non_cterminal_modification(modifications_list):\n",
    "    return any(['C-Term' not in modification for modification in modifications_list])\n",
    "\n",
    "def has_unusual_modification(modifications_list):\n",
    "    return any([is_uncommon_modification(mod) for mod in modifications_list])\n",
    "\n",
    "def has_cterminal_amidation(modifications_list):\n",
    "    return any([is_cterminal_amidation(mod) for mod in modifications_list])\n",
    "\n",
    "def has_disulfide_bonds(modifications_list):\n",
    "    return any([is_disulfide_bond(mod) for mod in modifications_list])\n",
    "\n",
    "def is_cterminal_amidation(mod):\n",
    "    for term in CTERM_AMIDATION_TERMS:\n",
    "        if term in mod:\n",
    "            return True\n",
    "    return False\n",
    "\n",
    "def is_disulfide_bond(mod):\n",
    "    return 'disulfide' in mod.lower()\n",
    "\n",
    "def is_uncommon_modification(mod):\n",
    "    return (not is_cterminal_amidation(mod)) and (not is_disulfide_bond(mod))\n",
    "\n",
    "def datasource_has_modifications(cell):\n",
    "    # Everything except CAMP and YADAMP has modification data\n",
    "    return not any([s in cell for s in no_modification_data_sources])\n",
    "\n",
    "def sequence_has_modification_data(cell):\n",
    "    # If the sequence is labeled modifictationless in another database it's OK\n",
    "    return cell in sequences_containing_modifications\n",
    "\n",
    "# Each amino acid its own group\n",
    "character_to_index = {\n",
    "    (character): i\n",
    "    for i, character in enumerate(CHARACTER_DICT)\n",
    "}\n",
    "\n",
    "index2character = {\n",
    "    value: key\n",
    "    for key, value in character_to_index.items()\n",
    "}\n",
    "\n",
    "def sequence_to_vector(sequence, cterminal_amidation,embed_dict=None):\n",
    "# It looks like this truncates any sequence after max_sequence_length (which is length of 95th percentile longest peptide)\n",
    "# I just add cterminal amidation as the amino acid after the last real amino acid (if the amino acid gets truncated\n",
    "# then the cterminal amidation also gets cut off)\n",
    "    if embed_dict==None:\n",
    "        default = np.zeros([MAX_SEQUENCE_LENGTH, len(character_to_index) + 1])\n",
    "        for i, character in enumerate(sequence[:MAX_SEQUENCE_LENGTH]):\n",
    "            default[i][character_to_index[character]] = 1\n",
    "        if len(sequence)<MAX_SEQUENCE_LENGTH:\n",
    "            default[len(sequence)][-1]=cterminal_amidation\n",
    "    else:\n",
    "        default = np.zeros([MAX_SEQUENCE_LENGTH,len(embed_dict['A'])+1])\n",
    "        for i, character in enumerate(sequence[:MAX_SEQUENCE_LENGTH]):\n",
    "            embedding = deepcopy(embed_dict[character])\n",
    "            embedding.append(0)\n",
    "            for k,val in enumerate(embedding):\n",
    "                default[i,k] = val\n",
    "            if len(sequence)<MAX_SEQUENCE_LENGTH:\n",
    "                for i in range(len(sequence),MAX_SEQUENCE_LENGTH):\n",
    "                    default[i,-1]=1\n",
    "    return default\n",
    "\n",
    "def find_character(character2index, character):\n",
    "    for key in character2index:\n",
    "        if character in key:\n",
    "            return character2index[key]\n",
    "    return -2\n",
    "\n",
    "def row_to_vector(row, embed_dict=None,shuffle_sequence=False):\n",
    "    sequence = list(row['sequence'])\n",
    "    if shuffle_sequence:\n",
    "        random.shuffle(sequence)\n",
    "    cterminal_amidation = row['has_cterminal_amidation']\n",
    "    return sequence_to_vector(sequence,cterminal_amidation,embed_dict=embed_dict)\n",
    "\n",
    "def old_row_to_vector(row, shuffle_sequence=False):\n",
    "    sequence = list(row['sequence'])\n",
    "    if shuffle_sequence:\n",
    "        random.shuffle(sequence)\n",
    "    cterminal_amidation = row['has_cterminal_amidation']\n",
    "    default = np.zeros([MAX_SEQUENCE_LENGTH, len(character_to_index) + 1])\n",
    "\n",
    "    for i, character in enumerate(sequence[:MAX_SEQUENCE_LENGTH]):\n",
    "        default[i][find_character(character_to_index, character)] = 1\n",
    "        default[i][-1] = cterminal_amidation\n",
    "\n",
    "    return default\n",
    "\n",
    "def vector_to_amp(vector):\n",
    "    sequence = ''\n",
    "    has_cterm = False\n",
    "    for v in vector:\n",
    "        nonzeros = np.argwhere(v[:len(character_to_index)])\n",
    "        if len(nonzeros) > 1:\n",
    "            print(\"?????\")\n",
    "        elif len(nonzeros) == 0:\n",
    "            sequence += '_'\n",
    "        else:\n",
    "            sequence += index2character[np.argwhere(v)[0][0]]  # First one\n",
    "        if v[-1]>0:\n",
    "            has_cterm=True\n",
    "    return {\n",
    "        'sequence': sequence,\n",
    "        'cterminal_amidation': has_cterm\n",
    "    }\n",
    "\n",
    "def bacterium_to_sample_weight(bacterium, intended_bacterium='E. coli'):\n",
    "    if intended_bacterium in bacterium:\n",
    "        return 1\n",
    "    else:\n",
    "        return 0.5\n",
    "    \n",
    "def containing_bacterium(bacterium, df):\n",
    "    return df.loc[df.bacterium.str.contains(bacterium)]\n",
    "\n",
    "def average_over_databases(bacterium_df):\n",
    "    return bacterium_df.groupby('sequence')['value'].mean().dropna()\n",
    "\n",
    "def get_bacterium_df(bacterium, df):\n",
    "    bdf = df.loc[(df.bacterium.str.contains(bacterium))].groupby(['sequence', 'bacterium'])\n",
    "    return bdf.mean().reset_index().dropna()\n",
    "\n",
    "def strip_bad_amino_acids(df, bad_amino_acids=('U', 'X', 'Z')):\n",
    "    for b in bad_amino_acids:\n",
    "        df = df.loc[~df.sequence.str.contains(b)]\n",
    "    return df.reset_index()\n",
    "\n",
    "def split_dataframe(df_to_split,cutoff=0.85):\n",
    "    train_indices = []\n",
    "    test_indices = []\n",
    "    for i in range(len(df_to_split)):\n",
    "        if 'C' not in df_to_split['sequence'][i] and random.random()>cutoff:\n",
    "            test_indices.append(i)\n",
    "        else:\n",
    "            train_indices.append(i)\n",
    "    train_df = df_to_split.iloc[train_indices]\n",
    "    test_df = df_to_split.iloc[test_indices]\n",
    "    return train_df, test_df"
   ]
  },
  {
   "cell_type": "code",
   "execution_count": 33,
   "metadata": {
    "collapsed": true
   },
   "outputs": [],
   "source": [
    "ecoli_train_with_c = pd.read_pickle('Saved_variables/ecoli_train_with_c_df.pkl')\n",
    "ecoli_train_no_c = pd.read_pickle('Saved_variables/ecoli_train_no_c_df.pkl')\n",
    "ecoli_test = pd.read_pickle('Saved_variables/ecoli_test_df.pkl')\n",
    "ecoli_df = pd.read_pickle('Saved_variables/ecoli_all_df.pkl')\n",
    "ecoli_df_no_c = pd.read_pickle('Saved_variables/ecoli_all_no_c_df.pkl')\n",
    "all_df = pd.read_pickle('Saved_variables/all_df.pkl')"
   ]
  },
  {
   "cell_type": "code",
   "execution_count": 42,
   "metadata": {
    "collapsed": false
   },
   "outputs": [],
   "source": [
    "b62_embedding = generate_embedding(matlist.blosum62,0.997)"
   ]
  },
  {
   "cell_type": "code",
   "execution_count": 99,
   "metadata": {
    "collapsed": false
   },
   "outputs": [],
   "source": [
    "ecoli_train_input_embed = df_to_input_vec(ecoli_train_no_c,embed_dict=b62_embedding)\n",
    "ecoli_train_input_one_hot = df_to_input_vec(ecoli_train_no_c)\n",
    "ecoli_train_input_one_hot_ridge = [vec.flatten() for vec in ecoli_train_input_one_hot[0]]"
   ]
  },
  {
   "cell_type": "markdown",
   "metadata": {},
   "source": [
    "# Generating test and training sets"
   ]
  },
  {
   "cell_type": "code",
   "execution_count": 455,
   "metadata": {
    "collapsed": false
   },
   "outputs": [],
   "source": [
    "ecoli_train_no_c = ecoli_train_no_c.reset_index(drop=True)\n",
    "ecoli_test = ecoli_test.reset_index(drop=True)\n",
    "train_x_aa_counts = []\n",
    "train_x_seqs = []\n",
    "train_x = []\n",
    "train_y = []\n",
    "train_x_ridge=[]\n",
    "test_x = []\n",
    "test_x_seqs = []\n",
    "test_x_aa_counts = []\n",
    "test_y = []\n",
    "test_x_ridge=[]\n",
    "lengths_1=[]\n",
    "lengths_2=[]\n",
    "for i in range(len(ecoli_train_no_c)):\n",
    "    lengths_1.append(len(ecoli_train_no_c.sequence[i]))\n",
    "    if True:#len(ecoli_train_no_c.sequence[i])<MAX_SEQUENCE_LENGTH:\n",
    "        train_x_seqs.append(ecoli_train_no_c.sequence[i])\n",
    "        train_x_aa_counts.append(sequence_to_aa_counts(ecoli_train_no_c.sequence[i],ecoli_train_no_c.has_cterminal_amidation[i])) \n",
    "        train_y.append(ecoli_train_no_c.value[i])\n",
    "        train_x.append(sequence_to_vector(ecoli_train_no_c.sequence[i],ecoli_train_no_c.has_cterminal_amidation[i]))\n",
    "        train_x_ridge.append(sequence_to_vector(ecoli_train_no_c.sequence[i],ecoli_train_no_c.has_cterminal_amidation[i]).flatten())\n",
    "        lengths_2.append(len(ecoli_train_no_c.sequence[i]))\n",
    "for i in range(len(ecoli_test)):\n",
    "    if len(ecoli_test.sequence[i])<MAX_SEQUENCE_LENGTH:\n",
    "        test_x_seqs.append(ecoli_test.sequence[i])\n",
    "        test_x_aa_counts.append(sequence_to_aa_counts(ecoli_test.sequence[i],ecoli_test.has_cterminal_amidation[i])) \n",
    "        test_y.append(ecoli_test.value[i])\n",
    "        test_x.append(sequence_to_vector(ecoli_test.sequence[i],ecoli_test.has_cterminal_amidation[i]))\n",
    "        test_x_ridge.append(sequence_to_vector(ecoli_test.sequence[i],ecoli_test.has_cterminal_amidation[i]).flatten())\n",
    "        \n",
    "train_x = np.array(train_x)\n",
    "test_x = np.array(test_x)\n",
    "test_y = np.array(test_y)\n",
    "train_y = np.array(train_y)"
   ]
  },
  {
   "cell_type": "code",
   "execution_count": 456,
   "metadata": {
    "collapsed": false
   },
   "outputs": [
    {
     "data": {
      "text/plain": [
       "2895"
      ]
     },
     "execution_count": 456,
     "metadata": {},
     "output_type": "execute_result"
    }
   ],
   "source": [
    "len(train_x)"
   ]
  },
  {
   "cell_type": "markdown",
   "metadata": {},
   "source": [
    "# Ridge regression"
   ]
  },
  {
   "cell_type": "markdown",
   "metadata": {},
   "source": [
    "## Ridge regression on the whole 21x46 variables"
   ]
  },
  {
   "cell_type": "code",
   "execution_count": 457,
   "metadata": {
    "collapsed": false
   },
   "outputs": [
    {
     "name": "stdout",
     "output_type": "stream",
     "text": [
      "10.0\n"
     ]
    }
   ],
   "source": [
    "alphas_to_test = [0.0001,0.001,0.01,0.1,1,10,100,1000]\n",
    "ridge_train_one_hot = RidgeCV(alphas=alphas_to_test)\n",
    "ridge_train_one_hot.fit(train_x_ridge,train_y)\n",
    "print ridge_train_one_hot.alpha_"
   ]
  },
  {
   "cell_type": "code",
   "execution_count": 458,
   "metadata": {
    "collapsed": false
   },
   "outputs": [
    {
     "name": "stdout",
     "output_type": "stream",
     "text": [
      "29.0\n"
     ]
    }
   ],
   "source": [
    "alphas_to_test = [0.0001,2,4,8,16,24,26,27,28,29,30,31,32,36,40,64]\n",
    "ridge_train_one_hot = RidgeCV(alphas=alphas_to_test)\n",
    "ridge_train_one_hot.fit(train_x_ridge,train_y)\n",
    "print ridge_train_one_hot.alpha_"
   ]
  },
  {
   "cell_type": "code",
   "execution_count": 459,
   "metadata": {
    "collapsed": true
   },
   "outputs": [],
   "source": [
    "ridge_predicted = ridge_train_one_hot.predict(test_x_ridge)"
   ]
  },
  {
   "cell_type": "code",
   "execution_count": 460,
   "metadata": {
    "collapsed": false
   },
   "outputs": [
    {
     "data": {
      "image/png": "[encoded data removed]",
      "text/plain": [
       "<matplotlib.figure.Figure at 0x1326b8e10>"
      ]
     },
     "metadata": {},
     "output_type": "display_data"
    },
    {
     "name": "stdout",
     "output_type": "stream",
     "text": [
      "0.6274677663943323\n",
      "0.43187093180416586\n",
      "MSE: 0.36338475921572205\n"
     ]
    }
   ],
   "source": [
    "plt.plot(ridge_predicted,test_y,'.')\n",
    "plt.show()\n",
    "print np.corrcoef(ridge_predicted,test_y)[0,1]\n",
    "tau,pval = kendalltau(ridge_predicted,test_y)\n",
    "print tau\n",
    "print 'MSE: '+repr(float(np.average([(ridge_predicted[i]-test_y[i])**2 for i in range(len(test_y))])))"
   ]
  },
  {
   "cell_type": "markdown",
   "metadata": {},
   "source": [
    "## Ridge regression using just the amino acid counts"
   ]
  },
  {
   "cell_type": "code",
   "execution_count": 461,
   "metadata": {
    "collapsed": true
   },
   "outputs": [],
   "source": [
    "def sequence_to_aa_counts(sequence,cterm_amidation):\n",
    "    to_return = []\n",
    "    for char in CHARACTER_LIST:\n",
    "        to_return.append(sequence.count(char))\n",
    "    if cterm_amidation>0.5:\n",
    "        to_return.append(1)\n",
    "    else:\n",
    "        to_return.append(0)\n",
    "    return to_return"
   ]
  },
  {
   "cell_type": "code",
   "execution_count": 462,
   "metadata": {
    "collapsed": false
   },
   "outputs": [
    {
     "name": "stdout",
     "output_type": "stream",
     "text": [
      "100.0\n"
     ]
    }
   ],
   "source": [
    "alphas_to_test = [0.0001,0.001,0.01,0.1,1,10,100,1000]\n",
    "ridge_train_counts = RidgeCV(alphas=alphas_to_test)\n",
    "ridge_train_counts.fit(train_x_aa_counts,train_y)\n",
    "print ridge_train_counts.alpha_"
   ]
  },
  {
   "cell_type": "code",
   "execution_count": 463,
   "metadata": {
    "collapsed": false
   },
   "outputs": [
    {
     "name": "stdout",
     "output_type": "stream",
     "text": [
      "172.0\n"
     ]
    }
   ],
   "source": [
    "alphas_to_test = [0.0001,100,120,140,150,160,165,167,170,171,172,173,174,175,180,200,320,640]\n",
    "ridge_train_counts = RidgeCV(alphas=alphas_to_test)\n",
    "ridge_train_counts.fit(train_x_aa_counts,train_y)\n",
    "print ridge_train_counts.alpha_"
   ]
  },
  {
   "cell_type": "code",
   "execution_count": 464,
   "metadata": {
    "collapsed": false
   },
   "outputs": [],
   "source": [
    "ridge_predicted_counts = ridge_train_counts.predict(test_x_aa_counts)"
   ]
  },
  {
   "cell_type": "code",
   "execution_count": 465,
   "metadata": {
    "collapsed": false
   },
   "outputs": [
    {
     "data": {
      "image/png": "[encoded data removed]",
      "text/plain": [
       "<matplotlib.figure.Figure at 0x1327c3290>"
      ]
     },
     "metadata": {},
     "output_type": "display_data"
    }
   ],
   "source": [
    "plt.plot(ridge_predicted_counts,test_y,'.')\n",
    "plt.show()"
   ]
  },
  {
   "cell_type": "code",
   "execution_count": 466,
   "metadata": {
    "collapsed": false
   },
   "outputs": [
    {
     "name": "stdout",
     "output_type": "stream",
     "text": [
      "Pearson corr: 0.5601172810273505\n",
      "Kendall tau: 0.3794419789437846\n",
      "MSE: 0.41544297774414196\n"
     ]
    }
   ],
   "source": [
    "print 'Pearson corr: '+repr(np.corrcoef(ridge_predicted_counts,test_y)[0,1])\n",
    "tau,pval = kendalltau(ridge_predicted_counts,test_y)\n",
    "print 'Kendall tau: '+repr(tau)\n",
    "print 'MSE: '+repr(float(np.average([(ridge_predicted_counts[i]-test_y[i])**2 for i in range(len(test_y))])))"
   ]
  },
  {
   "cell_type": "markdown",
   "metadata": {},
   "source": [
    "## Neural network analysis and comparisons"
   ]
  },
  {
   "cell_type": "code",
   "execution_count": 474,
   "metadata": {
    "collapsed": false
   },
   "outputs": [
    {
     "name": "stdout",
     "output_type": "stream",
     "text": [
      "Epoch 1/100\n",
      "2895/2895 [==============================] - 6s 2ms/step - loss: 0.6407\n",
      "Epoch 2/100\n",
      "2895/2895 [==============================] - 1s 509us/step - loss: 0.4379\n",
      "Epoch 3/100\n",
      "2895/2895 [==============================] - 1s 496us/step - loss: 0.3880\n",
      "Epoch 4/100\n",
      "2895/2895 [==============================] - 2s 548us/step - loss: 0.3482\n",
      "Epoch 5/100\n",
      "2895/2895 [==============================] - 1s 516us/step - loss: 0.3100\n",
      "Epoch 6/100\n",
      "2895/2895 [==============================] - 2s 536us/step - loss: 0.2874\n",
      "Epoch 7/100\n",
      "2895/2895 [==============================] - 2s 686us/step - loss: 0.2575\n",
      "Epoch 8/100\n",
      "2895/2895 [==============================] - 2s 682us/step - loss: 0.2273\n",
      "Epoch 9/100\n",
      "2895/2895 [==============================] - 2s 531us/step - loss: 0.2160\n",
      "Epoch 10/100\n",
      "2895/2895 [==============================] - 1s 513us/step - loss: 0.1977\n",
      "Epoch 11/100\n",
      "2895/2895 [==============================] - 1s 506us/step - loss: 0.1855\n",
      "Epoch 12/100\n",
      "2895/2895 [==============================] - 2s 588us/step - loss: 0.1830\n",
      "Epoch 13/100\n",
      "2895/2895 [==============================] - 1s 498us/step - loss: 0.1717\n",
      "Epoch 14/100\n",
      "2895/2895 [==============================] - 1s 497us/step - loss: 0.1595\n",
      "Epoch 15/100\n",
      "2895/2895 [==============================] - 2s 524us/step - loss: 0.1524\n",
      "Epoch 16/100\n",
      "2895/2895 [==============================] - 2s 533us/step - loss: 0.1443\n",
      "Epoch 17/100\n",
      "2895/2895 [==============================] - 1s 515us/step - loss: 0.1389\n",
      "Epoch 18/100\n",
      "2895/2895 [==============================] - 2s 595us/step - loss: 0.1286\n",
      "Epoch 19/100\n",
      "2895/2895 [==============================] - 2s 603us/step - loss: 0.1234\n",
      "Epoch 20/100\n",
      "2895/2895 [==============================] - 2s 692us/step - loss: 0.1204\n",
      "Epoch 21/100\n",
      "2895/2895 [==============================] - 2s 624us/step - loss: 0.1221\n",
      "Epoch 22/100\n",
      "2895/2895 [==============================] - 2s 533us/step - loss: 0.1144\n",
      "Epoch 23/100\n",
      "2895/2895 [==============================] - 2s 535us/step - loss: 0.1121\n",
      "Epoch 24/100\n",
      "2895/2895 [==============================] - 2s 710us/step - loss: 0.1052\n",
      "Epoch 25/100\n",
      "2895/2895 [==============================] - 2s 543us/step - loss: 0.1010\n",
      "Epoch 26/100\n",
      "2895/2895 [==============================] - 1s 399us/step - loss: 0.0989\n",
      "Epoch 27/100\n",
      "2895/2895 [==============================] - 1s 501us/step - loss: 0.0997\n",
      "Epoch 28/100\n",
      "2895/2895 [==============================] - 1s 365us/step - loss: 0.0890\n",
      "Epoch 29/100\n",
      "2895/2895 [==============================] - 1s 376us/step - loss: 0.0868\n",
      "Epoch 30/100\n",
      "2895/2895 [==============================] - 1s 376us/step - loss: 0.0905\n",
      "Epoch 31/100\n",
      "2895/2895 [==============================] - 2s 530us/step - loss: 0.0889\n",
      "Epoch 32/100\n",
      "2895/2895 [==============================] - 2s 525us/step - loss: 0.0886\n",
      "Epoch 33/100\n",
      "2895/2895 [==============================] - 1s 401us/step - loss: 0.0851\n",
      "Epoch 34/100\n",
      "2895/2895 [==============================] - 1s 446us/step - loss: 0.0856\n",
      "Epoch 35/100\n",
      "2895/2895 [==============================] - 2s 524us/step - loss: 0.0786\n",
      "Epoch 36/100\n",
      "2895/2895 [==============================] - 1s 446us/step - loss: 0.0823\n",
      "Epoch 37/100\n",
      "2895/2895 [==============================] - 2s 523us/step - loss: 0.0780\n",
      "Epoch 38/100\n",
      "2895/2895 [==============================] - 1s 414us/step - loss: 0.0729\n",
      "Epoch 39/100\n",
      "2895/2895 [==============================] - 1s 373us/step - loss: 0.0776\n",
      "Epoch 40/100\n",
      "2895/2895 [==============================] - 1s 497us/step - loss: 0.0763\n",
      "Epoch 41/100\n",
      "2895/2895 [==============================] - 1s 458us/step - loss: 0.0760\n",
      "Epoch 42/100\n",
      "2895/2895 [==============================] - 1s 477us/step - loss: 0.0716\n",
      "Epoch 43/100\n",
      "2895/2895 [==============================] - 1s 395us/step - loss: 0.0737\n",
      "Epoch 44/100\n",
      "2895/2895 [==============================] - 2s 541us/step - loss: 0.0691\n",
      "Epoch 45/100\n",
      "2895/2895 [==============================] - 2s 577us/step - loss: 0.0687\n",
      "Epoch 46/100\n",
      "2895/2895 [==============================] - 2s 611us/step - loss: 0.0663\n",
      "Epoch 47/100\n",
      "2895/2895 [==============================] - 2s 559us/step - loss: 0.0693\n",
      "Epoch 48/100\n",
      "2895/2895 [==============================] - 1s 496us/step - loss: 0.0664\n",
      "Epoch 49/100\n",
      "2895/2895 [==============================] - 1s 379us/step - loss: 0.0658\n",
      "Epoch 50/100\n",
      "2895/2895 [==============================] - 1s 453us/step - loss: 0.0702\n",
      "Epoch 51/100\n",
      "2895/2895 [==============================] - 1s 354us/step - loss: 0.0621\n",
      "Epoch 52/100\n",
      "2895/2895 [==============================] - 1s 344us/step - loss: 0.0665\n",
      "Epoch 53/100\n",
      "2895/2895 [==============================] - 1s 350us/step - loss: 0.0638\n",
      "Epoch 54/100\n",
      "2895/2895 [==============================] - 1s 344us/step - loss: 0.0611\n",
      "Epoch 55/100\n",
      "2895/2895 [==============================] - 1s 416us/step - loss: 0.0605\n",
      "Epoch 56/100\n",
      "2895/2895 [==============================] - 1s 489us/step - loss: 0.0573\n",
      "Epoch 57/100\n",
      "2895/2895 [==============================] - 1s 402us/step - loss: 0.0570\n",
      "Epoch 58/100\n",
      "2895/2895 [==============================] - 1s 444us/step - loss: 0.0565\n",
      "Epoch 59/100\n",
      "2895/2895 [==============================] - 1s 360us/step - loss: 0.0571\n",
      "Epoch 60/100\n",
      "2895/2895 [==============================] - 1s 388us/step - loss: 0.0560\n",
      "Epoch 61/100\n",
      "2895/2895 [==============================] - 1s 396us/step - loss: 0.0539\n",
      "Epoch 62/100\n",
      "2895/2895 [==============================] - 1s 399us/step - loss: 0.0597\n",
      "Epoch 63/100\n",
      "2895/2895 [==============================] - 1s 364us/step - loss: 0.0555\n",
      "Epoch 64/100\n",
      "2895/2895 [==============================] - 1s 395us/step - loss: 0.0585\n",
      "Epoch 65/100\n",
      "2895/2895 [==============================] - 1s 484us/step - loss: 0.0561\n",
      "Epoch 66/100\n",
      "2895/2895 [==============================] - 1s 501us/step - loss: 0.0559\n",
      "Epoch 67/100\n",
      "2895/2895 [==============================] - 1s 433us/step - loss: 0.0540\n",
      "Epoch 68/100\n",
      "2895/2895 [==============================] - 1s 449us/step - loss: 0.0526\n",
      "Epoch 69/100\n",
      "2895/2895 [==============================] - 1s 387us/step - loss: 0.0537\n",
      "Epoch 70/100\n",
      "2895/2895 [==============================] - 1s 430us/step - loss: 0.0542\n",
      "Epoch 71/100\n",
      "2895/2895 [==============================] - 1s 415us/step - loss: 0.0488\n",
      "Epoch 72/100\n",
      "2895/2895 [==============================] - 1s 425us/step - loss: 0.0530\n",
      "Epoch 73/100\n",
      "2895/2895 [==============================] - 1s 415us/step - loss: 0.0499\n",
      "Epoch 74/100\n",
      "2895/2895 [==============================] - 1s 445us/step - loss: 0.0514\n",
      "Epoch 75/100\n",
      "2895/2895 [==============================] - 1s 358us/step - loss: 0.0532\n",
      "Epoch 76/100\n",
      "2895/2895 [==============================] - 1s 364us/step - loss: 0.0478\n",
      "Epoch 77/100\n",
      "2895/2895 [==============================] - 1s 341us/step - loss: 0.0475\n",
      "Epoch 78/100\n",
      "2895/2895 [==============================] - 1s 434us/step - loss: 0.0510\n",
      "Epoch 79/100\n",
      "2895/2895 [==============================] - 1s 480us/step - loss: 0.0561\n",
      "Epoch 80/100\n",
      "2895/2895 [==============================] - 1s 425us/step - loss: 0.0491\n",
      "Epoch 81/100\n",
      "2895/2895 [==============================] - 1s 367us/step - loss: 0.0484\n",
      "Epoch 82/100\n",
      "2895/2895 [==============================] - 1s 343us/step - loss: 0.0483\n",
      "Epoch 83/100\n",
      "2895/2895 [==============================] - 1s 428us/step - loss: 0.0469\n",
      "Epoch 84/100\n",
      "2895/2895 [==============================] - 1s 470us/step - loss: 0.0524\n",
      "Epoch 85/100\n",
      "2895/2895 [==============================] - 1s 422us/step - loss: 0.0461\n",
      "Epoch 86/100\n",
      "2895/2895 [==============================] - 1s 439us/step - loss: 0.0421\n",
      "Epoch 87/100\n",
      "2895/2895 [==============================] - 1s 395us/step - loss: 0.0439\n",
      "Epoch 88/100\n",
      "2895/2895 [==============================] - 1s 432us/step - loss: 0.0436\n",
      "Epoch 89/100\n",
      "2895/2895 [==============================] - 1s 375us/step - loss: 0.0448\n",
      "Epoch 90/100\n",
      "2895/2895 [==============================] - 1s 342us/step - loss: 0.0448\n",
      "Epoch 91/100\n",
      "2895/2895 [==============================] - 1s 369us/step - loss: 0.0449\n",
      "Epoch 92/100\n",
      "2895/2895 [==============================] - 1s 391us/step - loss: 0.0436\n",
      "Epoch 93/100\n",
      "2895/2895 [==============================] - 1s 349us/step - loss: 0.0427\n",
      "Epoch 94/100\n",
      "2895/2895 [==============================] - 1s 373us/step - loss: 0.0431\n",
      "Epoch 95/100\n",
      "2895/2895 [==============================] - 1s 505us/step - loss: 0.0423\n",
      "Epoch 96/100\n",
      "2895/2895 [==============================] - 1s 472us/step - loss: 0.0420\n",
      "Epoch 97/100\n",
      "2895/2895 [==============================] - 1s 461us/step - loss: 0.0455\n",
      "Epoch 98/100\n",
      "2895/2895 [==============================] - 1s 396us/step - loss: 0.0439\n",
      "Epoch 99/100\n",
      "2895/2895 [==============================] - 1s 451us/step - loss: 0.0464\n",
      "Epoch 100/100\n",
      "2895/2895 [==============================] - 1s 382us/step - loss: 0.0443\n"
     ]
    },
    {
     "data": {
      "text/plain": [
       "<keras.callbacks.History at 0x141163990>"
      ]
     },
     "execution_count": 474,
     "metadata": {},
     "output_type": "execute_result"
    }
   ],
   "source": [
    "conv_model_normal = conv_model()\n",
    "conv_model_normal.fit(train_x,train_y,batch_size=40,epochs=100)\n",
    "\n",
    "# conv_model_one_layer = one_layer_conv_model()\n",
    "# conv_model_one_layer.fit(train_x,train_y,batch_size=40,epochs=100)\n",
    "\n",
    "# conv_model_moved_dropout = conv_model_move_dropout()\n",
    "# conv_model_moved_dropout.fit(train_x,train_y,batch_size=40,epochs=100)\n",
    "\n",
    "# conv_model_p9_dropout = conv_model_set_dropout(dropout_level=0.9)\n",
    "# conv_model_p9_dropout.fit(train_x,train_y,batch_size=40,epochs=100)\n",
    "\n",
    "# conv_model_p7_dropout = conv_model_set_dropout(dropout_level=0.7)\n",
    "# conv_model_p7_dropout.fit(train_x,train_y,batch_size=40,epochs=100)\n",
    "\n",
    "# conv_model_p3_dropout = conv_model_set_dropout(dropout_level=0.3)\n",
    "# conv_model_p3_dropout.fit(train_x,train_y,batch_size=40,epochs=100)\n",
    "\n",
    "# rnn_one_layer = one_layer_recurrent_model()\n",
    "# rnn_one_layer.fit(train_x,train_y,batch_size=40,epochs=100)\n",
    "\n",
    "# rnn_two_layers = two_layer_recurrent_model()\n",
    "# rnn_two_layers.fit(train_x,train_y,batch_size=40,epochs=100)\n",
    "\n",
    "# rnn_three_layers = three_layer_recurrent_model()\n",
    "# rnn_three_layers.fit(train_x,train_y,batch_size=40,epochs=100)\n",
    "\n",
    "# lstm_mod = lstm_model()\n",
    "# lstm_mod.fit(train_x,train_y,batch_size=40,epochs=100)\n",
    "\n",
    "# bi_rnn = birecurrent_model()\n",
    "# bi_rnn.fit(train_x,train_y,batch_size=40,epochs=100)\n",
    "\n",
    "# bi_lstm = bilstm_model()\n",
    "# bi_lstm.fit(train_x,train_y,batch_size=40,epochs=100)\n",
    "\n",
    "# bi_lstm_300 = bilstm_model()\n",
    "# bi_lstm_300.fit(train_x,train_y,batch_size=40,epochs=300)"
   ]
  },
  {
   "cell_type": "code",
   "execution_count": 475,
   "metadata": {
    "collapsed": false
   },
   "outputs": [],
   "source": [
    "def evaluate_model(model):\n",
    "    predicted = model.predict(test_x)\n",
    "    predicted = [pred[0] for pred in predicted]\n",
    "#     plt.plot(predicted,test_y,'.')\n",
    "#     plt.show()\n",
    "    print 'MSE: '+repr(float(np.average([(predicted[i]-test_y[i])**2 for i in range(len(test_y))])))\n",
    "    print 'Pearson Correlation: '+repr(float(np.corrcoef(predicted,test_y)[1,0]))\n",
    "    tau,pval = kendalltau(predicted,test_y)\n",
    "    print 'Kendall tau Correlation: '+repr(tau)"
   ]
  },
  {
   "cell_type": "code",
   "execution_count": 476,
   "metadata": {
    "collapsed": false
   },
   "outputs": [
    {
     "name": "stdout",
     "output_type": "stream",
     "text": [
      "MSE: 0.2606403441106918\n",
      "Pearson Correlation: 0.753133651650043\n",
      "Kendall tau Correlation: 0.5532788743848969\n",
      "MSE: 0.291193032757182\n",
      "Pearson Correlation: 0.7172390341786713\n",
      "Kendall tau Correlation: 0.5130571447707726\n"
     ]
    }
   ],
   "source": [
    "evaluate_model(conv_model_normal)\n",
    "# evaluate_model(conv_model_one_layer)\n",
    "evaluate_model(conv_model_moved_dropout)\n",
    "# evaluate_model(conv_model_p9_dropout)\n",
    "# evaluate_model(conv_model_p7_dropout)\n",
    "# evaluate_model(conv_model_p3_dropout)\n",
    "# evaluate_model(rnn_one_layer)\n",
    "# evaluate_model(rnn_two_layers)\n",
    "# evaluate_model(rnn_three_layers)\n",
    "# evaluate_model(lstm_mod)\n",
    "# evaluate_model(bi_rnn)\n",
    "# evaluate_model(bi_lstm)\n",
    "# evaluate_model(bi_lstm_300)"
   ]
  },
  {
   "cell_type": "markdown",
   "metadata": {},
   "source": [
    "# kNN regression"
   ]
  },
  {
   "cell_type": "code",
   "execution_count": 418,
   "metadata": {
    "collapsed": true
   },
   "outputs": [],
   "source": [
    "class kNN_model:\n",
    "    def __init__(self,seq_db,mic_vals,k,local=True,score_matrix=matlist.ident,gap_open_penalty=-9,gap_extension_penalty=-1):\n",
    "        self.seq_db = seq_db\n",
    "        self.k = k\n",
    "        self.mic_vals = mic_vals\n",
    "        self.local = local\n",
    "        self.score_matrix = score_matrix\n",
    "        self.gap_open_penalty = gap_open_penalty\n",
    "        self.gap_extension_penalty = gap_extension_penalty\n",
    "    def predict_knn(self,seq):\n",
    "        alignment_scores = [0]*len(self.seq_db)\n",
    "        for i in range(len(self.seq_db)):\n",
    "            sequence = self.seq_db[i]\n",
    "            if self.local:\n",
    "                alignment_scores[i] = pairwise2.align.localds(seq,sequence,self.score_matrix,self.gap_open_penalty,self.gap_extension_penalty,score_only=True)\n",
    "            else:\n",
    "                alignment_scores[i] = pairwise2.align.globalds(seq,sequence,self.score_matrix,self.gap_open_penalty,self.gap_extension_penalty,score_only=True)\n",
    "        indices = np.argpartition(alignment_scores,-1*self.k)[(-1*self.k):]\n",
    "        guess=0\n",
    "        for index in indices:\n",
    "            guess += float(self.mic_vals[index])\n",
    "        return guess/self.k\n",
    "    def prediction_with_similarity(self,seq):\n",
    "        alignment_scores = [0]*len(self.seq_db)\n",
    "        for i in range(len(self.seq_db)):\n",
    "            sequence = self.seq_db[i]\n",
    "            if self.local:\n",
    "                alignment_scores[i] = pairwise2.align.localds(seq,sequence,self.score_matrix,self.gap_open_penalty,self.gap_extension_penalty,score_only=True)\n",
    "            else:\n",
    "                alignment_scores[i] = pairwise2.align.globalds(seq,sequence,self.score_matrix,self.gap_open_penalty,self.gap_extension_penalty,score_only=True)\n",
    "        indices = np.argpartition(alignment_scores,-1*self.k)[(-1*self.k):]\n",
    "        max_align_score = max(alignment_scores)\n",
    "        guess=0\n",
    "        for index in indices:\n",
    "            guess += float(self.mic_vals[index])\n",
    "        return max_align_score,guess/self.k\n",
    "    def error_vs_align_score(self,seqs,test_mics):\n",
    "        scores = []\n",
    "        sqrt_errors = []\n",
    "        for i,seq in enumerate(seqs):\n",
    "            align_score,prediction = self.prediction_with_similarity(seq)\n",
    "            scores.append(align_score)\n",
    "            sqrt_errors.append(np.sqrt((prediction-test_mics[i])**2))\n",
    "        return scores,sqrt_errors     \n",
    "    def predict(self,seqs):\n",
    "        return [self.predict_knn(seq) for seq in seqs]"
   ]
  },
  {
   "cell_type": "code",
   "execution_count": 364,
   "metadata": {
    "collapsed": true
   },
   "outputs": [],
   "source": [
    "def evaluate_knn_model(knn_model):\n",
    "    predicted = knn_model.predict(test_x_seqs)\n",
    "#     predicted = [pred[0] for pred in predicted]\n",
    "#     plt.plot(predicted,test_y,'.')\n",
    "#     plt.show()\n",
    "    print 'MSE: '+repr(float(np.average([(predicted[i]-test_y[i])**2 for i in range(len(test_y))])))\n",
    "    print 'Pearson Correlation: '+repr(float(np.corrcoef(predicted,test_y)[1,0]))\n",
    "    tau,pval = kendalltau(predicted,test_y)\n",
    "    print 'Kendall tau Correlation: '+repr(tau)"
   ]
  },
  {
   "cell_type": "code",
   "execution_count": 414,
   "metadata": {
    "collapsed": false
   },
   "outputs": [
    {
     "name": "stdout",
     "output_type": "stream",
     "text": [
      "7 local with Pam30:\n",
      "MSE: 0.3996655889806888\n",
      "Pearson Correlation: 0.6162370345870654\n",
      "Kendall tau Correlation: 0.42224528551698653\n",
      "7 global with Pam30:\n",
      "MSE: 0.3085841793411998\n",
      "Pearson Correlation: 0.7012144230658883\n",
      "Kendall tau Correlation: 0.4863468868560582\n",
      "7 local with identity:\n",
      "MSE: 0.38202425904233955\n",
      "Pearson Correlation: 0.6390971443683713\n",
      "Kendall tau Correlation: 0.44049867522520947\n",
      "7 global with identity:\n",
      "MSE: 0.327007824402159\n",
      "Pearson Correlation: 0.685237324754129\n",
      "Kendall tau Correlation: 0.474356479617703\n"
     ]
    }
   ],
   "source": [
    "for k in range(7,8):\n",
    "    knn_model = kNN_model(train_x_seqs,train_y,k,score_matrix=matlist.pam30)\n",
    "    print repr(k)+' local with Pam30:'\n",
    "    evaluate_knn_model(knn_model)\n",
    "    knn_model = kNN_model(train_x_seqs,train_y,k,local=False,score_matrix=matlist.pam30)\n",
    "    print repr(k)+' global with Pam30:'\n",
    "    evaluate_knn_model(knn_model)\n",
    "    knn_model = kNN_model(train_x_seqs,train_y,k)\n",
    "    print repr(k)+' local with identity:'\n",
    "    evaluate_knn_model(knn_model)\n",
    "    knn_model = kNN_model(train_x_seqs,train_y,k,local=False)\n",
    "    print repr(k)+' global with identity:'\n",
    "    evaluate_knn_model(knn_model)"
   ]
  },
  {
   "cell_type": "code",
   "execution_count": 341,
   "metadata": {
    "collapsed": false
   },
   "outputs": [
    {
     "data": {
      "text/plain": [
       "u'AGKKTIRQYLKNKIKKKWRKAVIAW'"
      ]
     },
     "execution_count": 341,
     "metadata": {},
     "output_type": "execute_result"
    }
   ],
   "source": [
    "test_x_seqs[1]"
   ]
  },
  {
   "cell_type": "markdown",
   "metadata": {},
   "source": [
    "# Compare kNN to convolutional network"
   ]
  },
  {
   "cell_type": "code",
   "execution_count": null,
   "metadata": {
    "collapsed": true
   },
   "outputs": [],
   "source": [
    "def evaluate_model(model):\n",
    "    predicted = model.predict(test_x)\n",
    "    predicted = [pred[0] for pred in predicted]\n",
    "#     plt.plot(predicted,test_y,'.')\n",
    "#     plt.show()\n",
    "    print 'MSE: '+repr(float(np.average([(predicted[i]-test_y[i])**2 for i in range(len(test_y))])))\n",
    "    print 'Pearson Correlation: '+repr(float(np.corrcoef(predicted,test_y)[1,0]))\n",
    "    tau,pval = kendalltau(predicted,test_y)\n",
    "    print 'Kendall tau Correlation: '+repr(tau)"
   ]
  },
  {
   "cell_type": "code",
   "execution_count": null,
   "metadata": {
    "collapsed": true
   },
   "outputs": [],
   "source": [
    "best_knn_model = kNN_model(train_x_seqs,train_y,3,local=False,score_matrix = matlist.pam30)\n",
    "scores,sqrt_errors = best_knn_model.error_vs_align_score(test_x_seqs,test_y)"
   ]
  },
  {
   "cell_type": "code",
   "execution_count": 424,
   "metadata": {
    "collapsed": true
   },
   "outputs": [],
   "source": [
    "normalized_scores = [float(scores[i])/len(test_x_seqs[i]) for i in range(len(scores))]"
   ]
  },
  {
   "cell_type": "code",
   "execution_count": 425,
   "metadata": {
    "collapsed": false
   },
   "outputs": [
    {
     "data": {
      "image/png": "[encoded data removed]",
      "text/plain": [
       "<matplotlib.figure.Figure at 0x132003350>"
      ]
     },
     "metadata": {},
     "output_type": "display_data"
    }
   ],
   "source": [
    "plt.plot(normalized_scores,sqrt_errors,'.')\n",
    "plt.show()"
   ]
  },
  {
   "cell_type": "code",
   "execution_count": 428,
   "metadata": {
    "collapsed": false
   },
   "outputs": [],
   "source": [
    "cnn_predictions = conv_model_normal.predict(test_x)\n",
    "cnn_predictions = [pred[0] for pred in cnn_predictions]\n",
    "cnn_sqrt_errors = [np.sqrt((cnn_predictions[i]-test_y[i])**2) for i in range(len(test_x))]"
   ]
  },
  {
   "cell_type": "code",
   "execution_count": 429,
   "metadata": {
    "collapsed": false
   },
   "outputs": [
    {
     "data": {
      "image/png": "[encoded data removed]",
      "text/plain": [
       "<matplotlib.figure.Figure at 0x132014490>"
      ]
     },
     "metadata": {},
     "output_type": "display_data"
    }
   ],
   "source": [
    "plt.plot(normalized_scores,cnn_sqrt_errors,'.')\n",
    "plt.show()"
   ]
  },
  {
   "cell_type": "code",
   "execution_count": 431,
   "metadata": {
    "collapsed": false
   },
   "outputs": [
    {
     "data": {
      "image/png": "[encoded data removed]",
      "text/plain": [
       "<matplotlib.figure.Figure at 0x1322d6950>"
      ]
     },
     "metadata": {},
     "output_type": "display_data"
    }
   ],
   "source": [
    "plt.plot(normalized_scores,cnn_sqrt_errors,'b.',normalized_scores,sqrt_errors,'r.')\n",
    "plt.show()"
   ]
  },
  {
   "cell_type": "code",
   "execution_count": 451,
   "metadata": {
    "collapsed": false
   },
   "outputs": [],
   "source": [
    "# cutoffs = [-2.0,1.0,2.0,3.0,4.0,5.0,6.0,7.0,8.0,9.0,10.0]\n",
    "cutoffs = [-2.0,4.0,7.0,10.0]\n",
    "collected_knn_errors = [[] for i in range(len(cutoffs)-1)]\n",
    "collected_cnn_errors = [[] for i in range(len(cutoffs)-1)]\n",
    "for i in range(len(normalized_scores)):\n",
    "    added=False\n",
    "    for j in range(len(cutoffs)-1):\n",
    "        if normalized_scores[i]>=cutoffs[j] and normalized_scores[i]<cutoffs[j+1]:\n",
    "            collected_knn_errors[j].append(sqrt_errors[i])\n",
    "            collected_cnn_errors[j].append(cnn_sqrt_errors[i])\n",
    "            added=True\n",
    "    if not added:\n",
    "        print normalized_scores[i]"
   ]
  },
  {
   "cell_type": "code",
   "execution_count": 452,
   "metadata": {
    "collapsed": false
   },
   "outputs": [],
   "source": [
    "averaged_knn_errors = [np.mean(errors) for errors in collected_knn_errors]\n",
    "averaged_cnn_errors = [np.mean(errors) for errors in collected_cnn_errors]\n",
    "xvals = [(cutoffs[i+1]+cutoffs[i])/2 for i in range(len(cutoffs)-1)]"
   ]
  },
  {
   "cell_type": "code",
   "execution_count": 453,
   "metadata": {
    "collapsed": false
   },
   "outputs": [
    {
     "name": "stdout",
     "output_type": "stream",
     "text": [
      "[85, 313, 101]\n"
     ]
    }
   ],
   "source": [
    "print [len(errors) for errors in collected_knn_errors]"
   ]
  },
  {
   "cell_type": "code",
   "execution_count": 454,
   "metadata": {
    "collapsed": false
   },
   "outputs": [
    {
     "data": {
      "image/png": "[encoded data removed]",
      "text/plain": [
       "<matplotlib.figure.Figure at 0x12cc3b710>"
      ]
     },
     "metadata": {},
     "output_type": "display_data"
    }
   ],
   "source": [
    "plt.plot(xvals,averaged_cnn_errors,'b.',xvals,averaged_knn_errors,'r.')\n",
    "plt.show()"
   ]
  },
  {
   "cell_type": "markdown",
   "metadata": {},
   "source": [
    "# Can ignore everything after this, this is all setting up the thing I really want"
   ]
  },
  {
   "cell_type": "code",
   "execution_count": 56,
   "metadata": {
    "collapsed": false
   },
   "outputs": [
    {
     "name": "stdout",
     "output_type": "stream",
     "text": [
      "Epoch 1/100\n",
      "2895/2895 [==============================] - 1s 418us/step - loss: 0.6799\n",
      "Epoch 2/100\n",
      "2895/2895 [==============================] - 1s 312us/step - loss: 0.4690\n",
      "Epoch 3/100\n",
      "2895/2895 [==============================] - 1s 306us/step - loss: 0.3912\n",
      "Epoch 4/100\n",
      "2895/2895 [==============================] - 1s 305us/step - loss: 0.3743\n",
      "Epoch 5/100\n",
      "2895/2895 [==============================] - 1s 307us/step - loss: 0.3451\n",
      "Epoch 6/100\n",
      "2895/2895 [==============================] - 1s 302us/step - loss: 0.3310\n",
      "Epoch 7/100\n",
      "2895/2895 [==============================] - 1s 308us/step - loss: 0.3065\n",
      "Epoch 8/100\n",
      "2895/2895 [==============================] - 1s 322us/step - loss: 0.2910\n",
      "Epoch 9/100\n",
      "2895/2895 [==============================] - 1s 316us/step - loss: 0.2822\n",
      "Epoch 10/100\n",
      "2895/2895 [==============================] - 1s 424us/step - loss: 0.2745\n",
      "Epoch 11/100\n",
      "2895/2895 [==============================] - 1s 329us/step - loss: 0.2470\n",
      "Epoch 12/100\n",
      "2895/2895 [==============================] - 1s 367us/step - loss: 0.2415\n",
      "Epoch 13/100\n",
      "2895/2895 [==============================] - 1s 348us/step - loss: 0.2357\n",
      "Epoch 14/100\n",
      "2895/2895 [==============================] - 1s 332us/step - loss: 0.2205\n",
      "Epoch 15/100\n",
      "2895/2895 [==============================] - 1s 339us/step - loss: 0.2213\n",
      "Epoch 16/100\n",
      "2895/2895 [==============================] - 1s 399us/step - loss: 0.2137\n",
      "Epoch 17/100\n",
      "2895/2895 [==============================] - 1s 372us/step - loss: 0.2055\n",
      "Epoch 18/100\n",
      "2895/2895 [==============================] - 1s 410us/step - loss: 0.2090\n",
      "Epoch 19/100\n",
      "2895/2895 [==============================] - 1s 354us/step - loss: 0.2063\n",
      "Epoch 20/100\n",
      "2895/2895 [==============================] - 1s 359us/step - loss: 0.1937\n",
      "Epoch 21/100\n",
      "2895/2895 [==============================] - 1s 364us/step - loss: 0.1944\n",
      "Epoch 22/100\n",
      "2895/2895 [==============================] - 1s 346us/step - loss: 0.1917\n",
      "Epoch 23/100\n",
      "2895/2895 [==============================] - 1s 379us/step - loss: 0.1804\n",
      "Epoch 24/100\n",
      "2895/2895 [==============================] - 1s 417us/step - loss: 0.1762\n",
      "Epoch 25/100\n",
      "2895/2895 [==============================] - 1s 406us/step - loss: 0.1721\n",
      "Epoch 26/100\n",
      "2895/2895 [==============================] - 1s 342us/step - loss: 0.1653\n",
      "Epoch 27/100\n",
      "2895/2895 [==============================] - 1s 403us/step - loss: 0.1712\n",
      "Epoch 28/100\n",
      "2895/2895 [==============================] - 1s 347us/step - loss: 0.1687\n",
      "Epoch 29/100\n",
      "2895/2895 [==============================] - 1s 408us/step - loss: 0.1598\n",
      "Epoch 30/100\n",
      "2895/2895 [==============================] - 1s 391us/step - loss: 0.1560\n",
      "Epoch 31/100\n",
      "2895/2895 [==============================] - 1s 364us/step - loss: 0.1512\n",
      "Epoch 32/100\n",
      "2895/2895 [==============================] - 1s 402us/step - loss: 0.1516\n",
      "Epoch 33/100\n",
      "2895/2895 [==============================] - 1s 379us/step - loss: 0.1453\n",
      "Epoch 34/100\n",
      "2895/2895 [==============================] - 1s 370us/step - loss: 0.1484\n",
      "Epoch 35/100\n",
      "2895/2895 [==============================] - 1s 391us/step - loss: 0.1480\n",
      "Epoch 36/100\n",
      "2895/2895 [==============================] - 1s 380us/step - loss: 0.1434\n",
      "Epoch 37/100\n",
      "2895/2895 [==============================] - 1s 381us/step - loss: 0.1326\n",
      "Epoch 38/100\n",
      "2895/2895 [==============================] - 1s 367us/step - loss: 0.1406\n",
      "Epoch 39/100\n",
      "2895/2895 [==============================] - 1s 396us/step - loss: 0.1387\n",
      "Epoch 40/100\n",
      "2895/2895 [==============================] - 1s 390us/step - loss: 0.1331\n",
      "Epoch 41/100\n",
      "2895/2895 [==============================] - 1s 397us/step - loss: 0.1308\n",
      "Epoch 42/100\n",
      "2895/2895 [==============================] - 1s 370us/step - loss: 0.1305\n",
      "Epoch 43/100\n",
      "2895/2895 [==============================] - 1s 374us/step - loss: 0.1263\n",
      "Epoch 44/100\n",
      "2895/2895 [==============================] - 1s 378us/step - loss: 0.1222\n",
      "Epoch 45/100\n",
      "2895/2895 [==============================] - 1s 396us/step - loss: 0.1170\n",
      "Epoch 46/100\n",
      "2895/2895 [==============================] - 1s 383us/step - loss: 0.1183\n",
      "Epoch 47/100\n",
      "2895/2895 [==============================] - 1s 381us/step - loss: 0.1300\n",
      "Epoch 48/100\n",
      "2895/2895 [==============================] - 1s 372us/step - loss: 0.1194\n",
      "Epoch 49/100\n",
      "2895/2895 [==============================] - 1s 402us/step - loss: 0.1178\n",
      "Epoch 50/100\n",
      "2895/2895 [==============================] - 1s 422us/step - loss: 0.1256\n",
      "Epoch 51/100\n",
      "2895/2895 [==============================] - 1s 420us/step - loss: 0.1145\n",
      "Epoch 52/100\n",
      "2895/2895 [==============================] - 1s 401us/step - loss: 0.1192\n",
      "Epoch 53/100\n",
      "2895/2895 [==============================] - 1s 382us/step - loss: 0.1123\n",
      "Epoch 54/100\n",
      "2895/2895 [==============================] - 1s 390us/step - loss: 0.1163\n",
      "Epoch 55/100\n",
      "2895/2895 [==============================] - 1s 381us/step - loss: 0.1071\n",
      "Epoch 56/100\n",
      "2895/2895 [==============================] - 1s 369us/step - loss: 0.1058\n",
      "Epoch 57/100\n",
      "2895/2895 [==============================] - 1s 369us/step - loss: 0.1094\n",
      "Epoch 58/100\n",
      "2895/2895 [==============================] - 1s 368us/step - loss: 0.1029\n",
      "Epoch 59/100\n",
      "2895/2895 [==============================] - 1s 376us/step - loss: 0.1031\n",
      "Epoch 60/100\n",
      "2895/2895 [==============================] - 1s 397us/step - loss: 0.1074\n",
      "Epoch 61/100\n",
      "2895/2895 [==============================] - 1s 392us/step - loss: 0.1046\n",
      "Epoch 62/100\n",
      "2895/2895 [==============================] - 1s 409us/step - loss: 0.1067\n",
      "Epoch 63/100\n",
      "2895/2895 [==============================] - 1s 364us/step - loss: 0.1042\n",
      "Epoch 64/100\n",
      "2895/2895 [==============================] - 1s 379us/step - loss: 0.1045\n",
      "Epoch 65/100\n",
      "2895/2895 [==============================] - 1s 383us/step - loss: 0.1080\n",
      "Epoch 66/100\n",
      "2895/2895 [==============================] - 1s 379us/step - loss: 0.0930\n",
      "Epoch 67/100\n",
      "2895/2895 [==============================] - 1s 381us/step - loss: 0.0989\n",
      "Epoch 68/100\n",
      "2895/2895 [==============================] - 1s 415us/step - loss: 0.0935\n",
      "Epoch 69/100\n",
      "2895/2895 [==============================] - 1s 385us/step - loss: 0.0931\n",
      "Epoch 70/100\n",
      "2895/2895 [==============================] - 1s 415us/step - loss: 0.1005\n",
      "Epoch 71/100\n",
      "2895/2895 [==============================] - 1s 390us/step - loss: 0.0965\n",
      "Epoch 72/100\n",
      "2895/2895 [==============================] - 1s 452us/step - loss: 0.0913\n",
      "Epoch 73/100\n",
      "2895/2895 [==============================] - 1s 415us/step - loss: 0.0913\n",
      "Epoch 74/100\n",
      "2895/2895 [==============================] - 1s 434us/step - loss: 0.0936\n",
      "Epoch 75/100\n",
      "2895/2895 [==============================] - 1s 407us/step - loss: 0.0894\n",
      "Epoch 76/100\n",
      "2895/2895 [==============================] - 1s 395us/step - loss: 0.0931\n",
      "Epoch 77/100\n",
      "2895/2895 [==============================] - 1s 417us/step - loss: 0.0923\n",
      "Epoch 78/100\n",
      "2895/2895 [==============================] - 1s 407us/step - loss: 0.0881\n",
      "Epoch 79/100\n",
      "2895/2895 [==============================] - 1s 416us/step - loss: 0.0902\n",
      "Epoch 80/100\n",
      "2895/2895 [==============================] - 1s 397us/step - loss: 0.0896\n",
      "Epoch 81/100\n",
      "2895/2895 [==============================] - 1s 398us/step - loss: 0.0919\n",
      "Epoch 82/100\n",
      "2895/2895 [==============================] - 1s 387us/step - loss: 0.0866\n",
      "Epoch 83/100\n",
      "2895/2895 [==============================] - 1s 395us/step - loss: 0.0959\n",
      "Epoch 84/100\n",
      "2895/2895 [==============================] - 1s 368us/step - loss: 0.0963\n",
      "Epoch 85/100\n",
      "2895/2895 [==============================] - 1s 401us/step - loss: 0.0868\n",
      "Epoch 86/100\n",
      "2895/2895 [==============================] - 1s 403us/step - loss: 0.0823\n",
      "Epoch 87/100\n",
      "2895/2895 [==============================] - 1s 391us/step - loss: 0.0892\n",
      "Epoch 88/100\n",
      "2895/2895 [==============================] - 1s 408us/step - loss: 0.0831\n",
      "Epoch 89/100\n",
      "2895/2895 [==============================] - 1s 400us/step - loss: 0.0841\n",
      "Epoch 90/100\n",
      "2895/2895 [==============================] - 1s 395us/step - loss: 0.0863\n",
      "Epoch 91/100\n",
      "2895/2895 [==============================] - 1s 390us/step - loss: 0.0797\n",
      "Epoch 92/100\n",
      "2895/2895 [==============================] - 1s 387us/step - loss: 0.0810\n",
      "Epoch 93/100\n",
      "2895/2895 [==============================] - 1s 393us/step - loss: 0.0853\n",
      "Epoch 94/100\n",
      "2895/2895 [==============================] - 1s 378us/step - loss: 0.0824\n",
      "Epoch 95/100\n",
      "2895/2895 [==============================] - 1s 395us/step - loss: 0.0792\n",
      "Epoch 96/100\n",
      "2895/2895 [==============================] - 1s 393us/step - loss: 0.0755\n",
      "Epoch 97/100\n",
      "2895/2895 [==============================] - 1s 395us/step - loss: 0.0796\n",
      "Epoch 98/100\n",
      "2895/2895 [==============================] - 1s 405us/step - loss: 0.0788\n",
      "Epoch 99/100\n",
      "2895/2895 [==============================] - 1s 406us/step - loss: 0.0748\n",
      "Epoch 100/100\n",
      "2895/2895 [==============================] - 1s 402us/step - loss: 0.0794\n"
     ]
    },
    {
     "data": {
      "text/plain": [
       "<keras.callbacks.History at 0x1223aaa50>"
      ]
     },
     "execution_count": 56,
     "metadata": {},
     "output_type": "execute_result"
    }
   ],
   "source": [
    "convmodel_embed = conv_model(embed_length = (len(b62_embedding['A'])+1))\n",
    "convmodel_embed.fit(ecoli_train_input_embed[0],ecoli_train_input_embed[1],batch_size=40,epochs=100)\n",
    "convmodel_one_hot = conv_model()\n",
    "convmodel_one_hot.fit(ecoli_train_input_one_hot[0],ecoli_train_input_one_hot[1],batch_size=40,epochs=100)"
   ]
  },
  {
   "cell_type": "code",
   "execution_count": 88,
   "metadata": {
    "collapsed": false
   },
   "outputs": [
    {
     "name": "stdout",
     "output_type": "stream",
     "text": [
      "Epoch 1/100\n",
      "2895/2895 [==============================] - 5s 2ms/step - loss: 0.7644\n",
      "Epoch 2/100\n",
      "2895/2895 [==============================] - 4s 2ms/step - loss: 0.6333\n",
      "Epoch 3/100\n",
      "2895/2895 [==============================] - 5s 2ms/step - loss: 0.6238\n",
      "Epoch 4/100\n",
      "2895/2895 [==============================] - 4s 2ms/step - loss: 0.6278\n",
      "Epoch 5/100\n",
      "2895/2895 [==============================] - 5s 2ms/step - loss: 0.6215\n",
      "Epoch 6/100\n",
      "2895/2895 [==============================] - 5s 2ms/step - loss: 0.6221\n",
      "Epoch 7/100\n",
      "2895/2895 [==============================] - 5s 2ms/step - loss: 0.6224\n",
      "Epoch 8/100\n",
      "2895/2895 [==============================] - 5s 2ms/step - loss: 0.6169\n",
      "Epoch 9/100\n",
      "2895/2895 [==============================] - 5s 2ms/step - loss: 0.6325\n",
      "Epoch 10/100\n",
      "2895/2895 [==============================] - 5s 2ms/step - loss: 0.6218\n",
      "Epoch 11/100\n",
      "2895/2895 [==============================] - 5s 2ms/step - loss: 0.6216\n",
      "Epoch 12/100\n",
      "2895/2895 [==============================] - 5s 2ms/step - loss: 0.6166\n",
      "Epoch 13/100\n",
      "2895/2895 [==============================] - 5s 2ms/step - loss: 0.6257\n",
      "Epoch 14/100\n",
      "2895/2895 [==============================] - 5s 2ms/step - loss: 0.6109\n",
      "Epoch 15/100\n",
      "2895/2895 [==============================] - 5s 2ms/step - loss: 0.6182\n",
      "Epoch 16/100\n",
      "2895/2895 [==============================] - 5s 2ms/step - loss: 0.6177\n",
      "Epoch 17/100\n",
      "2895/2895 [==============================] - 5s 2ms/step - loss: 0.6087\n",
      "Epoch 18/100\n",
      "2895/2895 [==============================] - 5s 2ms/step - loss: 0.6187\n",
      "Epoch 19/100\n",
      "2895/2895 [==============================] - 5s 2ms/step - loss: 0.6092\n",
      "Epoch 20/100\n",
      "2895/2895 [==============================] - 5s 2ms/step - loss: 0.5920\n",
      "Epoch 21/100\n",
      "2895/2895 [==============================] - 5s 2ms/step - loss: 0.5842\n",
      "Epoch 22/100\n",
      "2895/2895 [==============================] - 5s 2ms/step - loss: 0.5915\n",
      "Epoch 23/100\n",
      "2895/2895 [==============================] - 4s 2ms/step - loss: 0.5761\n",
      "Epoch 24/100\n",
      "2895/2895 [==============================] - 4s 2ms/step - loss: 0.5729\n",
      "Epoch 25/100\n",
      "2895/2895 [==============================] - 5s 2ms/step - loss: 0.5650\n",
      "Epoch 26/100\n",
      "2895/2895 [==============================] - 5s 2ms/step - loss: 0.5481\n",
      "Epoch 27/100\n",
      "2895/2895 [==============================] - 5s 2ms/step - loss: 0.6265\n",
      "Epoch 28/100\n",
      "2895/2895 [==============================] - 5s 2ms/step - loss: 0.6441\n",
      "Epoch 29/100\n",
      "2895/2895 [==============================] - 5s 2ms/step - loss: 0.5609\n",
      "Epoch 30/100\n",
      "2895/2895 [==============================] - 5s 2ms/step - loss: 0.5572\n",
      "Epoch 31/100\n",
      "2895/2895 [==============================] - 5s 2ms/step - loss: 0.5362\n",
      "Epoch 32/100\n",
      "2895/2895 [==============================] - 5s 2ms/step - loss: 0.5140\n",
      "Epoch 33/100\n",
      "2895/2895 [==============================] - 5s 2ms/step - loss: 0.5091\n",
      "Epoch 34/100\n",
      "2895/2895 [==============================] - 5s 2ms/step - loss: 0.5328\n",
      "Epoch 35/100\n",
      "2895/2895 [==============================] - 5s 2ms/step - loss: 0.5623\n",
      "Epoch 36/100\n",
      "2895/2895 [==============================] - 5s 2ms/step - loss: 0.5280\n",
      "Epoch 37/100\n",
      "2895/2895 [==============================] - 5s 2ms/step - loss: 0.5188\n",
      "Epoch 38/100\n",
      "2895/2895 [==============================] - 5s 2ms/step - loss: 0.4988\n",
      "Epoch 39/100\n",
      "2895/2895 [==============================] - 5s 2ms/step - loss: 0.5060\n",
      "Epoch 40/100\n",
      "2895/2895 [==============================] - 4s 2ms/step - loss: 0.4752\n",
      "Epoch 41/100\n",
      "2895/2895 [==============================] - 4s 2ms/step - loss: 0.4644\n",
      "Epoch 42/100\n",
      "2895/2895 [==============================] - 5s 2ms/step - loss: 0.4550\n",
      "Epoch 43/100\n",
      "2895/2895 [==============================] - 4s 2ms/step - loss: 0.4705\n",
      "Epoch 44/100\n",
      "2895/2895 [==============================] - 4s 1ms/step - loss: 0.4543\n",
      "Epoch 45/100\n",
      "2895/2895 [==============================] - 4s 1ms/step - loss: 0.4420\n",
      "Epoch 46/100\n",
      "2895/2895 [==============================] - 4s 1ms/step - loss: 0.4309\n",
      "Epoch 47/100\n",
      "2895/2895 [==============================] - 4s 2ms/step - loss: 0.4324\n",
      "Epoch 48/100\n",
      "2895/2895 [==============================] - 5s 2ms/step - loss: 0.4236\n",
      "Epoch 49/100\n",
      "2895/2895 [==============================] - 5s 2ms/step - loss: 0.4425\n",
      "Epoch 50/100\n",
      "2895/2895 [==============================] - 4s 1ms/step - loss: 0.4073\n",
      "Epoch 51/100\n",
      "2895/2895 [==============================] - 4s 1ms/step - loss: 0.4002\n",
      "Epoch 52/100\n",
      "2895/2895 [==============================] - 4s 1ms/step - loss: 0.4034\n",
      "Epoch 53/100\n",
      "2895/2895 [==============================] - 4s 2ms/step - loss: 0.5278\n",
      "Epoch 54/100\n",
      "2895/2895 [==============================] - 4s 1ms/step - loss: 0.5222\n",
      "Epoch 55/100\n",
      "2895/2895 [==============================] - 5s 2ms/step - loss: 0.4729\n",
      "Epoch 56/100\n",
      "2895/2895 [==============================] - 4s 1ms/step - loss: 0.4343\n",
      "Epoch 57/100\n",
      "2895/2895 [==============================] - 4s 1ms/step - loss: 0.4283\n",
      "Epoch 58/100\n",
      "2895/2895 [==============================] - 4s 2ms/step - loss: 0.4045\n",
      "Epoch 59/100\n",
      "2895/2895 [==============================] - 4s 1ms/step - loss: 0.4031\n",
      "Epoch 60/100\n",
      "2895/2895 [==============================] - 4s 1ms/step - loss: 0.3892\n",
      "Epoch 61/100\n",
      "2895/2895 [==============================] - 4s 1ms/step - loss: 0.4266\n",
      "Epoch 62/100\n",
      "2895/2895 [==============================] - 4s 1ms/step - loss: 0.4075\n",
      "Epoch 63/100\n",
      "2895/2895 [==============================] - 4s 2ms/step - loss: 0.3886\n",
      "Epoch 64/100\n",
      "2895/2895 [==============================] - 4s 2ms/step - loss: 0.3818\n",
      "Epoch 65/100\n",
      "2895/2895 [==============================] - 4s 1ms/step - loss: 0.3720\n",
      "Epoch 66/100\n",
      "2895/2895 [==============================] - 4s 2ms/step - loss: 0.3685\n",
      "Epoch 67/100\n",
      "2895/2895 [==============================] - 4s 1ms/step - loss: 0.3585\n",
      "Epoch 68/100\n",
      "2895/2895 [==============================] - 4s 1ms/step - loss: 0.3571\n",
      "Epoch 69/100\n",
      "2895/2895 [==============================] - 6s 2ms/step - loss: 0.3576\n",
      "Epoch 70/100\n",
      "2895/2895 [==============================] - 6s 2ms/step - loss: 0.3462\n",
      "Epoch 71/100\n",
      "2895/2895 [==============================] - 5s 2ms/step - loss: 0.3699\n",
      "Epoch 72/100\n",
      "2895/2895 [==============================] - 4s 2ms/step - loss: 0.3406\n",
      "Epoch 73/100\n",
      "2895/2895 [==============================] - 4s 2ms/step - loss: 0.3523\n",
      "Epoch 74/100\n",
      "2895/2895 [==============================] - 5s 2ms/step - loss: 0.3573\n",
      "Epoch 75/100\n",
      "2895/2895 [==============================] - 6s 2ms/step - loss: 0.3516\n",
      "Epoch 76/100\n",
      "2895/2895 [==============================] - 5s 2ms/step - loss: 0.3360\n",
      "Epoch 77/100\n",
      "2895/2895 [==============================] - 4s 2ms/step - loss: 0.3435\n",
      "Epoch 78/100\n",
      "2895/2895 [==============================] - 4s 1ms/step - loss: 0.3312\n",
      "Epoch 79/100\n",
      "2895/2895 [==============================] - 5s 2ms/step - loss: 0.3173\n",
      "Epoch 80/100\n",
      "2895/2895 [==============================] - 5s 2ms/step - loss: 0.3171\n",
      "Epoch 81/100\n",
      "2895/2895 [==============================] - 4s 2ms/step - loss: 0.3102\n",
      "Epoch 82/100\n",
      "2895/2895 [==============================] - 4s 2ms/step - loss: 0.3113\n",
      "Epoch 83/100\n",
      "2895/2895 [==============================] - 4s 2ms/step - loss: 0.3119\n",
      "Epoch 84/100\n",
      "2895/2895 [==============================] - 4s 1ms/step - loss: 0.2984\n",
      "Epoch 85/100\n",
      "2895/2895 [==============================] - 5s 2ms/step - loss: 0.3017\n",
      "Epoch 86/100\n",
      "2895/2895 [==============================] - 4s 1ms/step - loss: 0.2906\n",
      "Epoch 87/100\n",
      "2895/2895 [==============================] - 4s 2ms/step - loss: 0.2988\n",
      "Epoch 88/100\n",
      "2895/2895 [==============================] - 4s 2ms/step - loss: 0.2851\n",
      "Epoch 89/100\n",
      "2895/2895 [==============================] - 4s 2ms/step - loss: 0.2962\n",
      "Epoch 90/100\n",
      "2895/2895 [==============================] - 4s 1ms/step - loss: 0.2818\n",
      "Epoch 91/100\n",
      "2895/2895 [==============================] - 4s 2ms/step - loss: 0.2748\n",
      "Epoch 92/100\n",
      "2895/2895 [==============================] - 4s 1ms/step - loss: 0.2978\n",
      "Epoch 93/100\n",
      "2895/2895 [==============================] - 5s 2ms/step - loss: 0.2822\n",
      "Epoch 94/100\n",
      "2895/2895 [==============================] - 4s 2ms/step - loss: 0.2717\n",
      "Epoch 95/100\n",
      "2895/2895 [==============================] - 4s 1ms/step - loss: 0.2815\n",
      "Epoch 96/100\n",
      "2895/2895 [==============================] - 4s 1ms/step - loss: 0.4034\n",
      "Epoch 97/100\n",
      "2895/2895 [==============================] - 5s 2ms/step - loss: 0.3584\n",
      "Epoch 98/100\n",
      "2895/2895 [==============================] - 5s 2ms/step - loss: 0.3085\n",
      "Epoch 99/100\n",
      "2895/2895 [==============================] - 5s 2ms/step - loss: 0.3133\n",
      "Epoch 100/100\n",
      "2895/2895 [==============================] - 4s 2ms/step - loss: 0.2884\n"
     ]
    },
    {
     "data": {
      "text/plain": [
       "<keras.callbacks.History at 0x128a4cfd0>"
      ]
     },
     "execution_count": 88,
     "metadata": {},
     "output_type": "execute_result"
    }
   ],
   "source": [
    "rnnmodel_one_hot = recurrent_model()\n",
    "rnnmodel_one_hot.fit(ecoli_train_input_one_hot[0],ecoli_train_input_one_hot[1],batch_size=40,epochs=100)\n",
    "# convmodel_one_hot = conv_model()\n",
    "# convmodel_one_hot.fit(ecoli_train_input_one_hot[0],ecoli_train_input_one_hot[1],batch_size=40,epochs=100)"
   ]
  },
  {
   "cell_type": "code",
   "execution_count": 90,
   "metadata": {
    "collapsed": false
   },
   "outputs": [
    {
     "name": "stdout",
     "output_type": "stream",
     "text": [
      "509/509 [==============================] - 1s 1ms/step\n",
      "0.4065361327413023\n"
     ]
    }
   ],
   "source": [
    "print rnnmodel_one_hot.evaluate(test_x_one_hot,test_y)"
   ]
  },
  {
   "cell_type": "code",
   "execution_count": 58,
   "metadata": {
    "collapsed": true
   },
   "outputs": [],
   "source": [
    "ecoli_test_input_embed = df_to_input_vec(ecoli_test,embed_dict=b62_embedding)\n",
    "ecoli_test_input_one_hot = df_to_input_vec(ecoli_test)"
   ]
  },
  {
   "cell_type": "code",
   "execution_count": 60,
   "metadata": {
    "collapsed": false
   },
   "outputs": [
    {
     "name": "stdout",
     "output_type": "stream",
     "text": [
      "509/509 [==============================] - 0s 369us/step\n"
     ]
    },
    {
     "data": {
      "text/plain": [
       "0.2674829605637459"
      ]
     },
     "execution_count": 60,
     "metadata": {},
     "output_type": "execute_result"
    }
   ],
   "source": [
    "test_x_embed = ecoli_test_input_embed[0]\n",
    "test_x_one_hot = ecoli_test_input_one_hot[0]\n",
    "test_y = ecoli_test_input_embed[1]"
   ]
  },
  {
   "cell_type": "code",
   "execution_count": 81,
   "metadata": {
    "collapsed": false
   },
   "outputs": [
    {
     "name": "stdout",
     "output_type": "stream",
     "text": [
      "509/509 [==============================] - 0s 152us/step\n",
      "0.2674829605637459\n",
      "509/509 [==============================] - 0s 150us/step\n",
      "0.27840658735432655\n",
      "509/509 [==============================] - 1s 1ms/step\n",
      "0.32876440074682706\n"
     ]
    }
   ],
   "source": [
    "print convmodel_embed_one_hot.evaluate(test_x_one_hot,test_y)\n",
    "print convmodel_embed.evaluate(test_x_embed,test_y)\n",
    "print rnnmodel_embed.evaluate(test_x_embed,test_y)"
   ]
  },
  {
   "cell_type": "code",
   "execution_count": 151,
   "metadata": {
    "collapsed": false
   },
   "outputs": [
    {
     "name": "stdout",
     "output_type": "stream",
     "text": [
      "509/509 [==============================] - 0s 327us/step\n",
      "0.2674829605637459\n",
      "509/509 [==============================] - 0s 240us/step\n",
      "0.27840658735432655\n",
      "509/509 [==============================] - 0s 756us/step\n",
      "0.357846174938037\n"
     ]
    }
   ],
   "source": [
    "print convmodel_embed_one_hot.evaluate(test_x_one_hot,test_y)\n",
    "print convmodel_embed.evaluate(test_x_embed,test_y)\n",
    "print rnnmodel_embed.evaluate(test_x_embed,test_y)"
   ]
  },
  {
   "cell_type": "code",
   "execution_count": 153,
   "metadata": {
    "collapsed": false
   },
   "outputs": [
    {
     "data": {
      "text/plain": [
       "(509, 1)"
      ]
     },
     "execution_count": 153,
     "metadata": {},
     "output_type": "execute_result"
    }
   ],
   "source": [
    "convmodel_embed_one_hot.predict(test_x_one_hot).shape"
   ]
  },
  {
   "cell_type": "code",
   "execution_count": 154,
   "metadata": {
    "collapsed": false
   },
   "outputs": [
    {
     "data": {
      "text/plain": [
       "509"
      ]
     },
     "execution_count": 154,
     "metadata": {},
     "output_type": "execute_result"
    }
   ],
   "source": [
    "len(test_y)"
   ]
  },
  {
   "cell_type": "code",
   "execution_count": 155,
   "metadata": {
    "collapsed": false
   },
   "outputs": [
    {
     "data": {
      "image/png": "[encoded data removed]",
      "text/plain": [
       "<matplotlib.figure.Figure at 0x12a3d2310>"
      ]
     },
     "metadata": {},
     "output_type": "display_data"
    }
   ],
   "source": [
    "plt.plot(convmodel_embed_one_hot.predict(test_x_one_hot),test_y,'.')\n",
    "plt.show()"
   ]
  },
  {
   "cell_type": "code",
   "execution_count": 161,
   "metadata": {
    "collapsed": false
   },
   "outputs": [
    {
     "ename": "ValueError",
     "evalue": "all the input array dimensions except for the concatenation axis must match exactly",
     "output_type": "error",
     "traceback": [
      "\u001b[0;31m---------------------------------------------------------------------------\u001b[0m",
      "\u001b[0;31mValueError\u001b[0m                                Traceback (most recent call last)",
      "\u001b[0;32m<ipython-input-161-a4849a744172>\u001b[0m in \u001b[0;36m<module>\u001b[0;34m()\u001b[0m\n\u001b[0;32m----> 1\u001b[0;31m \u001b[0mnp\u001b[0m\u001b[0;34m.\u001b[0m\u001b[0mcorrcoef\u001b[0m\u001b[0;34m(\u001b[0m\u001b[0mtest_y\u001b[0m\u001b[0;34m,\u001b[0m\u001b[0mconvmodel_embed_one_hot\u001b[0m\u001b[0;34m.\u001b[0m\u001b[0mpredict\u001b[0m\u001b[0;34m(\u001b[0m\u001b[0mtest_x_one_hot\u001b[0m\u001b[0;34m)\u001b[0m\u001b[0;34m.\u001b[0m\u001b[0mtolist\u001b[0m\u001b[0;34m(\u001b[0m\u001b[0;34m)\u001b[0m\u001b[0;34m)\u001b[0m\u001b[0;34m\u001b[0m\u001b[0m\n\u001b[0m",
      "\u001b[0;32m/Users/jacobwitten/.local/lib/python2.7/site-packages/numpy/lib/function_base.pyc\u001b[0m in \u001b[0;36mcorrcoef\u001b[0;34m(x, y, rowvar, bias, ddof)\u001b[0m\n\u001b[1;32m   3173\u001b[0m         warnings.warn('bias and ddof have no effect and are deprecated',\n\u001b[1;32m   3174\u001b[0m                       DeprecationWarning, stacklevel=2)\n\u001b[0;32m-> 3175\u001b[0;31m     \u001b[0mc\u001b[0m \u001b[0;34m=\u001b[0m \u001b[0mcov\u001b[0m\u001b[0;34m(\u001b[0m\u001b[0mx\u001b[0m\u001b[0;34m,\u001b[0m \u001b[0my\u001b[0m\u001b[0;34m,\u001b[0m \u001b[0mrowvar\u001b[0m\u001b[0;34m)\u001b[0m\u001b[0;34m\u001b[0m\u001b[0m\n\u001b[0m\u001b[1;32m   3176\u001b[0m     \u001b[0;32mtry\u001b[0m\u001b[0;34m:\u001b[0m\u001b[0;34m\u001b[0m\u001b[0m\n\u001b[1;32m   3177\u001b[0m         \u001b[0md\u001b[0m \u001b[0;34m=\u001b[0m \u001b[0mdiag\u001b[0m\u001b[0;34m(\u001b[0m\u001b[0mc\u001b[0m\u001b[0;34m)\u001b[0m\u001b[0;34m\u001b[0m\u001b[0m\n",
      "\u001b[0;32m/Users/jacobwitten/.local/lib/python2.7/site-packages/numpy/lib/function_base.pyc\u001b[0m in \u001b[0;36mcov\u001b[0;34m(m, y, rowvar, bias, ddof, fweights, aweights)\u001b[0m\n\u001b[1;32m   3042\u001b[0m         \u001b[0;32mif\u001b[0m \u001b[0;32mnot\u001b[0m \u001b[0mrowvar\u001b[0m \u001b[0;32mand\u001b[0m \u001b[0my\u001b[0m\u001b[0;34m.\u001b[0m\u001b[0mshape\u001b[0m\u001b[0;34m[\u001b[0m\u001b[0;36m0\u001b[0m\u001b[0;34m]\u001b[0m \u001b[0;34m!=\u001b[0m \u001b[0;36m1\u001b[0m\u001b[0;34m:\u001b[0m\u001b[0;34m\u001b[0m\u001b[0m\n\u001b[1;32m   3043\u001b[0m             \u001b[0my\u001b[0m \u001b[0;34m=\u001b[0m \u001b[0my\u001b[0m\u001b[0;34m.\u001b[0m\u001b[0mT\u001b[0m\u001b[0;34m\u001b[0m\u001b[0m\n\u001b[0;32m-> 3044\u001b[0;31m         \u001b[0mX\u001b[0m \u001b[0;34m=\u001b[0m \u001b[0mnp\u001b[0m\u001b[0;34m.\u001b[0m\u001b[0mconcatenate\u001b[0m\u001b[0;34m(\u001b[0m\u001b[0;34m(\u001b[0m\u001b[0mX\u001b[0m\u001b[0;34m,\u001b[0m \u001b[0my\u001b[0m\u001b[0;34m)\u001b[0m\u001b[0;34m,\u001b[0m \u001b[0maxis\u001b[0m\u001b[0;34m=\u001b[0m\u001b[0;36m0\u001b[0m\u001b[0;34m)\u001b[0m\u001b[0;34m\u001b[0m\u001b[0m\n\u001b[0m\u001b[1;32m   3045\u001b[0m \u001b[0;34m\u001b[0m\u001b[0m\n\u001b[1;32m   3046\u001b[0m     \u001b[0;32mif\u001b[0m \u001b[0mddof\u001b[0m \u001b[0;32mis\u001b[0m \u001b[0mNone\u001b[0m\u001b[0;34m:\u001b[0m\u001b[0;34m\u001b[0m\u001b[0m\n",
      "\u001b[0;31mValueError\u001b[0m: all the input array dimensions except for the concatenation axis must match exactly"
     ]
    }
   ],
   "source": [
    "np.corrcoef(test_y,convmodel_embed_one_hot.predict(test_x_one_hot).tolist())"
   ]
  },
  {
   "cell_type": "code",
   "execution_count": 183,
   "metadata": {
    "collapsed": false
   },
   "outputs": [],
   "source": [
    "thing=convmodel_embed_one_hot.predict(test_x_one_hot).tolist()\n",
    "pred_y = [thing[i][0] for i in range(len(thing))]\n",
    "testy = [test_y[i] for i in range(len(test_y))]"
   ]
  },
  {
   "cell_type": "code",
   "execution_count": 184,
   "metadata": {
    "collapsed": false
   },
   "outputs": [
    {
     "name": "stdout",
     "output_type": "stream",
     "text": [
      "509\n",
      "509\n",
      "[[1.         0.75093691]\n",
      " [0.75093691 1.        ]]\n"
     ]
    }
   ],
   "source": [
    "print len(pred_y)\n",
    "print len(testy)\n",
    "print np.corrcoef(np.array([pred_y,test_y]))"
   ]
  },
  {
   "cell_type": "code",
   "execution_count": 182,
   "metadata": {
    "collapsed": false
   },
   "outputs": [
    {
     "name": "stdout",
     "output_type": "stream",
     "text": [
      "[[0.00018078088760375977], [0.804699718952179], [0.41527310013771057], [0.65059494972229], [0.2572363615036011], [0.6929062008857727], [0.6024726629257202], [1.3883743286132812], [0.4464077651500702], [2.974808931350708], [0.24348585307598114], [0.8983182311058044], [0.5257531404495239], [0.6965836882591248], [1.5194125175476074], [0.7731612920761108], [1.1550123691558838], [0.9067221283912659], [1.3859975337982178], [1.0199246406555176], [1.1168525218963623], [1.0979042053222656], [1.7597465515136719], [0.26230213046073914], [1.6937675476074219], [0.4183138906955719], [0.38670843839645386], [1.4011256694793701], [0.42569535970687866], [-0.4939499497413635], [0.8234257102012634], [1.7153122425079346], [1.5677518844604492], [2.03965163230896], [0.29985901713371277], [1.457822322845459], [1.2377314567565918], [2.1349802017211914], [0.8958069086074829], [1.537076473236084], [0.6268340945243835], [2.0093462467193604], [1.1671497821807861], [1.6529231071472168], [1.3630664348602295], [1.1016184091567993], [0.3281174600124359], [0.9944605231285095], [0.5011463165283203], [-0.18272927403450012], [1.1745684146881104], [1.1463905572891235], [1.7821683883666992], [1.9451115131378174], [1.5235426425933838], [0.5210536122322083], [0.7486298084259033], [0.6729632019996643], [0.5560232996940613], [1.1927149295806885], [1.8359508514404297], [1.098649501800537], [1.1386756896972656], [1.5589988231658936], [0.8211011290550232], [1.5161938667297363], [1.2799170017242432], [1.7621910572052002], [1.6096620559692383], [1.8141732215881348], [0.7203980684280396], [1.1689801216125488], [2.1942074298858643], [1.0533367395401], [0.7762662768363953], [2.0215020179748535], [1.662395715713501], [1.0761687755584717], [0.8917363286018372], [0.45499396324157715], [1.7907745838165283], [1.821821689605713], [0.8314787745475769], [1.5647532939910889], [1.8968896865844727], [1.619335412979126], [1.4186980724334717], [1.346482753753662], [1.4352836608886719], [1.8019542694091797], [0.6981168985366821], [1.8554790019989014], [1.233443021774292], [1.8639600276947021], [1.9413235187530518], [2.2171504497528076], [0.890221357345581], [0.25217756628990173], [0.5186382532119751], [1.5312821865081787], [1.442197561264038], [1.264542579650879], [1.4806504249572754], [1.5111324787139893], [1.1896650791168213], [1.5505032539367676], [1.4769036769866943], [1.6452391147613525], [1.4222745895385742], [0.6435399651527405], [0.337074339389801], [1.6378443241119385], [0.3944638967514038], [1.2322649955749512], [0.9860270023345947], [1.2796046733856201], [1.2406082153320312], [-0.670314610004425], [-0.08595259487628937], [0.6539418697357178], [0.7763939499855042], [0.5764710903167725], [1.677597999572754], [1.8933203220367432], [1.73756742477417], [1.6473588943481445], [1.3950371742248535], [1.1950044631958008], [0.5226811766624451], [1.174506664276123], [1.4533274173736572], [1.3306350708007812], [0.8063163757324219], [1.0215988159179688], [0.35392093658447266], [0.6308058500289917], [0.4689386487007141], [0.6786109209060669], [0.7517009377479553], [0.5063212513923645], [1.6372158527374268], [1.9168853759765625], [1.6825144290924072], [2.2284915447235107], [1.5471222400665283], [1.5792152881622314], [0.9789133071899414], [1.5188672542572021], [1.503939151763916], [0.8312429785728455], [1.531158208847046], [0.7608324885368347], [1.2609641551971436], [0.9533557891845703], [1.4878840446472168], [1.9013187885284424], [1.2661373615264893], [1.440730094909668], [1.225066900253296], [1.1331138610839844], [1.2245910167694092], [0.5809824466705322], [0.917136013507843], [1.7652814388275146], [1.6679537296295166], [0.9627380967140198], [1.582230567932129], [1.6768641471862793], [0.08684422075748444], [1.1710805892944336], [0.6623997092247009], [1.1771998405456543], [0.42810821533203125], [0.17528602480888367], [0.18638119101524353], [1.3856959342956543], [1.3858973979949951], [2.163431406021118], [0.5403112173080444], [0.6935017704963684], [0.16379880905151367], [0.8146031498908997], [0.7717056274414062], [0.6546413898468018], [0.9474939703941345], [0.8077051639556885], [0.8850446939468384], [0.6191043853759766], [0.8056928515434265], [0.14109370112419128], [1.4854848384857178], [1.2984416484832764], [0.7867262363433838], [0.964419424533844], [0.7230356335639954], [2.269047498703003], [0.9964696764945984], [0.7819361090660095], [1.7412807941436768], [1.0553982257843018], [1.4030671119689941], [1.3263492584228516], [1.685579776763916], [1.5818066596984863], [1.662405014038086], [1.6059236526489258], [1.3034567832946777], [2.079282760620117], [1.2220423221588135], [0.6500633955001831], [1.3363449573516846], [1.6904921531677246], [1.7586781978607178], [0.2144729495048523], [0.9193097352981567], [0.1623724102973938], [0.559642493724823], [0.5252727270126343], [0.532757580280304], [0.984655499458313], [0.7913649082183838], [1.0940523147583008], [0.8742902874946594], [0.8394737839698792], [2.822845220565796], [2.737567663192749], [1.434093713760376], [1.4064598083496094], [0.7383788824081421], [0.6547987461090088], [1.326378345489502], [1.100609540939331], [1.2325520515441895], [1.819338321685791], [0.7851389646530151], [1.5362913608551025], [1.066558599472046], [0.6733260750770569], [1.7791166305541992], [1.7971737384796143], [1.7509877681732178], [1.930494785308838], [1.9381747245788574], [0.9397557377815247], [1.6062736511230469], [2.1090872287750244], [1.0885019302368164], [1.0559163093566895], [0.7024278044700623], [1.1164913177490234], [1.3924789428710938], [0.5500661730766296], [0.7767711281776428], [1.190075397491455], [1.9186692237854004], [1.384662389755249], [0.8683189749717712], [1.1008244752883911], [1.1581518650054932], [1.3998260498046875], [1.9905366897583008], [1.947528600692749], [1.6469645500183105], [0.7102531790733337], [1.7602872848510742], [1.0046979188919067], [1.4584145545959473], [1.243318796157837], [0.33253833651542664], [1.459792137145996], [1.548274278640747], [1.6029455661773682], [0.9809299111366272], [0.5626882910728455], [0.4332731366157532], [0.9948320984840393], [0.6089463233947754], [0.47314637899398804], [1.4975292682647705], [0.5662586688995361], [0.0008024275302886963], [1.8833489418029785], [0.24962972104549408], [1.8793041706085205], [2.067253828048706], [0.41959941387176514], [0.3551916480064392], [1.2900493144989014], [0.8549152612686157], [1.2572250366210938], [0.6637967228889465], [1.0239108800888062], [1.7618706226348877], [0.928898274898529], [0.8497412204742432], [0.8056288957595825], [1.3865852355957031], [0.49852555990219116], [0.8728703856468201], [1.5739350318908691], [1.4783341884613037], [1.1659247875213623], [1.9061052799224854], [0.6552753448486328], [0.6701744198799133], [1.1681139469146729], [0.8295626640319824], [1.5394718647003174], [1.9978995323181152], [1.050023078918457], [1.5331621170043945], [0.9971872568130493], [1.090635061264038], [-0.0015603601932525635], [-0.6975345611572266], [0.570259153842926], [0.24206647276878357], [0.19368945062160492], [1.4277997016906738], [0.8735064268112183], [2.1422433853149414], [0.7862956523895264], [0.9488881230354309], [0.3321835994720459], [1.577664852142334], [1.563950777053833], [1.995591163635254], [1.5772273540496826], [1.468825340270996], [1.2229304313659668], [0.10623680055141449], [-0.06508505344390869], [1.321509838104248], [-0.0650206208229065], [-0.2928019165992737], [-0.1492331624031067], [0.6945260763168335], [0.20146211981773376], [-0.07012835144996643], [-0.14598771929740906], [1.9066643714904785], [1.0929579734802246], [1.0200679302215576], [1.4308664798736572], [1.2681009769439697], [0.9984248280525208], [1.9559874534606934], [0.49623507261276245], [0.8378031253814697], [1.888030767440796], [1.079758644104004], [1.8847980499267578], [1.4231410026550293], [1.8049805164337158], [0.7674166560173035], [1.795325756072998], [2.0684516429901123], [0.5943113565444946], [1.127432107925415], [1.0848444700241089], [1.890411138534546], [0.5788639187812805], [1.5670926570892334], [1.846308708190918], [1.5091023445129395], [1.3753998279571533], [1.24183988571167], [0.9607083201408386], [0.6786017417907715], [1.5528457164764404], [1.1101922988891602], [1.343172550201416], [1.5343990325927734], [1.123786211013794], [0.1844651699066162], [1.005659818649292], [0.6243041753768921], [1.3984456062316895], [1.3042778968811035], [2.148347854614258], [2.038496494293213], [0.23160147666931152], [1.713449239730835], [0.5520842671394348], [0.9262048006057739], [1.4144132137298584], [1.9478065967559814], [1.7842845916748047], [1.9770920276641846], [1.9844343662261963], [2.4488885402679443], [2.272305965423584], [1.6514525413513184], [0.9474400877952576], [1.328881025314331], [0.9487599730491638], [1.319655418395996], [0.5079283714294434], [-0.40549594163894653], [1.4755957126617432], [0.901202380657196], [1.4613122940063477], [0.7067990899085999], [-0.5982083678245544], [2.4324264526367188], [0.5195055603981018], [0.8996080160140991], [0.878807783126831], [1.5848257541656494], [1.0665494203567505], [1.191976547241211], [1.214951515197754], [1.8488116264343262], [1.760735273361206], [0.40923017263412476], [0.0639142245054245], [1.2135977745056152], [0.8076431751251221], [1.766366958618164], [0.4000658392906189], [0.6777170896530151], [0.6057559847831726], [0.7677393555641174], [1.1312227249145508], [1.6733272075653076], [0.4142683446407318], [0.4079529941082001], [0.026053324341773987], [0.7996565103530884], [0.8700143694877625], [1.7333390712738037], [0.9020028710365295], [0.8042541146278381], [0.6434099078178406], [1.115220069885254], [0.7578899264335632], [1.1339340209960938], [0.32406044006347656], [0.9078383445739746], [0.8456533551216125], [0.7296283841133118], [1.856698751449585], [0.1142459362745285], [-0.13247337937355042], [-0.03150629997253418], [0.5316692590713501], [0.7957310080528259], [0.7274839878082275], [1.2419250011444092], [2.0219712257385254], [0.7546358108520508], [0.24829988181591034], [1.8095006942749023], [0.9609720706939697], [1.3256356716156006], [1.3126699924468994], [1.6936914920806885], [1.9547297954559326], [0.844916820526123], [1.253251314163208], [1.0238721370697021], [1.2756834030151367], [1.6688508987426758], [1.3672568798065186], [1.9569759368896484], [0.6979358792304993], [0.7279112935066223], [1.443962574005127], [0.8257660269737244], [1.3508808612823486], [3.019655466079712], [3.1457717418670654], [1.4112529754638672], [0.7513518929481506], [1.6672916412353516], [1.0341620445251465], [2.840277910232544], [2.7574191093444824], [1.6834278106689453], [1.663830280303955], [1.0416498184204102], [1.508000135421753], [1.5918402671813965], [0.8860086798667908], [0.9097087979316711], [0.646779477596283], [1.7141754627227783], [1.212784767150879], [1.2714760303497314], [0.38487571477890015], [1.7218594551086426], [1.6872870922088623], [1.4145801067352295], [2.1589252948760986], [1.0049030780792236], [0.4913071393966675], [1.038332223892212], [1.4116969108581543], [1.5707824230194092], [1.263671636581421], [1.3831236362457275], [1.2454016208648682], [2.9995274543762207], [1.8913328647613525], [0.8778296113014221], [2.065864324569702], [1.8704543113708496], [1.8753681182861328], [1.4237594604492188]]\n"
     ]
    }
   ],
   "source": [
    "print pred_y"
   ]
  },
  {
   "cell_type": "code",
   "execution_count": 168,
   "metadata": {
    "collapsed": false
   },
   "outputs": [
    {
     "data": {
      "image/png": "[encoded data removed]",
      "text/plain": [
       "<matplotlib.figure.Figure at 0x12a4632d0>"
      ]
     },
     "metadata": {},
     "output_type": "display_data"
    }
   ],
   "source": [
    "plt.plot(thing,test_y,'.')\n",
    "plt.show()"
   ]
  },
  {
   "cell_type": "code",
   "execution_count": 170,
   "metadata": {
    "collapsed": false
   },
   "outputs": [
    {
     "data": {
      "text/plain": [
       "0.2674829647269796"
      ]
     },
     "execution_count": 170,
     "metadata": {},
     "output_type": "execute_result"
    }
   ],
   "source": [
    "np.average([(thing[i]-test_y[i])**2 for i in range(len(thing))])"
   ]
  },
  {
   "cell_type": "code",
   "execution_count": 171,
   "metadata": {
    "collapsed": false
   },
   "outputs": [
    {
     "data": {
      "text/plain": [
       "0.37463669061385213"
      ]
     },
     "execution_count": 171,
     "metadata": {},
     "output_type": "execute_result"
    }
   ],
   "source": [
    "np.average([(ridge_predicted[i]-test_y[i])**2 for i in range(len(thing))])"
   ]
  },
  {
   "cell_type": "code",
   "execution_count": null,
   "metadata": {
    "collapsed": true
   },
   "outputs": [],
   "source": []
  }
 ],
 "metadata": {
  "kernelspec": {
   "display_name": "Python 2",
   "language": "python",
   "name": "python2"
  },
  "language_info": {
   "codemirror_mode": {
    "name": "ipython",
    "version": 2
   },
   "file_extension": ".py",
   "mimetype": "text/x-python",
   "name": "python",
   "nbconvert_exporter": "python",
   "pygments_lexer": "ipython2",
   "version": "2.7.13"
  }
 },
 "nbformat": 4,
 "nbformat_minor": 0
}
