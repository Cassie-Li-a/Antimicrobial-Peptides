{
 "cells": [
  {
   "cell_type": "code",
   "execution_count": 13,
   "metadata": {
    "collapsed": true
   },
   "outputs": [],
   "source": [
    "import pandas as pd\n",
    "import os\n",
    "import ast\n",
    "import numpy as np\n",
    "from Bio.SeqUtils.ProtParam import ProteinAnalysis\n",
    "from sklearn.linear_model import LinearRegression\n",
    "from sklearn.model_selection import cross_val_score\n",
    "pd.options.display.max_colwidth = 100\n",
    "pd.options.display.float_format = '{:.2f}'.format"
   ]
  },
  {
   "cell_type": "code",
   "execution_count": 14,
   "metadata": {
    "collapsed": true
   },
   "outputs": [],
   "source": [
    "all_results = []\n",
    "for f in os.listdir('.'):\n",
    "    if '.data' in f:\n",
    "        with open(f, 'r') as g:\n",
    "            all_results.append(ast.literal_eval(g.read()))"
   ]
  },
  {
   "cell_type": "code",
   "execution_count": 15,
   "metadata": {
    "collapsed": true
   },
   "outputs": [],
   "source": [
    "def standardize_to_uM(concentration, unit, sequence):\n",
    "    concentration = concentration.replace(' ', '')\n",
    "    try:\n",
    "        concentration = float(concentration)\n",
    "    except:\n",
    "        return None\n",
    "    if unit == 'uM' or unit == u'\\xb5M' or unit == u'uM)':\n",
    "        return concentration\n",
    "    elif unit == 'ug/ml' or unit == u'\\xb5g/ml' or unit == u'ug/ml)':\n",
    "        try:\n",
    "            molWt = ProteinAnalysis(sequence).molecular_weight()\n",
    "        except ValueError:\n",
    "            return None\n",
    "        return concentration * 1000/molWt\n",
    "    elif unit == 'nmol/g' or unit == 'pmol/mg':\n",
    "        #1g, at density of 1g/mL, is 1mL, so nmol/g is nmol/mL = umol/L = uM yay!\n",
    "        return concentration\n",
    "    else:\n",
    "        # print 'Unit not recognized: ' + unit\n",
    "        return None"
   ]
  },
  {
   "cell_type": "code",
   "execution_count": 16,
   "metadata": {
    "collapsed": true
   },
   "outputs": [],
   "source": [
    "def convert_result_to_rows(sequence, result):\n",
    "    rows = []\n",
    "    if 'bacteria' not in result:\n",
    "        return rows\n",
    "    for bacterium, strain in result['bacteria']:\n",
    "        \n",
    "        rows.append({\n",
    "            'bacterium': bacterium,\n",
    "            'strain': strain,\n",
    "            'sequence': sequence.upper(),\n",
    "            'url_source': result['url_sources'][0],\n",
    "            'value': standardize_to_uM(\n",
    "                result['bacteria'][(bacterium, strain)]['value'],\n",
    "                result['bacteria'][(bacterium, strain)]['unit'],\n",
    "                sequence\n",
    "            ),\n",
    "            'modifications': result['modifications'] if 'modifications' in result else [],\n",
    "            'unit': 'uM'\n",
    "        })\n",
    "        if rows[-1]['value']:\n",
    "            rows[-1]['value'] = np.log10(rows[-1]['value'])\n",
    "    return rows"
   ]
  },
  {
   "cell_type": "code",
   "execution_count": 17,
   "metadata": {
    "collapsed": true
   },
   "outputs": [],
   "source": [
    "rows = []\n",
    "for result_set in all_results:\n",
    "    for sequence in result_set:\n",
    "        for row in convert_result_to_rows(sequence, result_set[sequence]):\n",
    "            rows.append(row)"
   ]
  },
  {
   "cell_type": "code",
   "execution_count": 18,
   "metadata": {
    "collapsed": true
   },
   "outputs": [],
   "source": [
    "df = pd.DataFrame(rows)"
   ]
  },
  {
   "cell_type": "code",
   "execution_count": 19,
   "metadata": {
    "collapsed": true
   },
   "outputs": [],
   "source": [
    "def is_modified(modifications_list):\n",
    "    return len(modifications_list) > 0\n",
    "\n",
    "df['is_modified'] = df.modifications.apply(is_modified)"
   ]
  },
  {
   "cell_type": "code",
   "execution_count": 20,
   "metadata": {
    "collapsed": true
   },
   "outputs": [],
   "source": [
    "def has_non_cterminal_modification(modifications_list):\n",
    "    return any(['C-Term' not in modification for modification in modifications_list])\n",
    "\n",
    "df['has_non_cterminal_modification'] = df.modifications.apply(has_non_cterminal_modification)\n",
    "#df['has_non_cterminal_modification'] = df.groupby(['sequence'])['has_non_cterminal_modification'].transform(max)\n",
    "\n",
    "df['has_cterminal_modification'] = df.is_modified & ~df.has_non_cterminal_modification\n",
    "#df['has_cterminal_modification'] = df.groupby(['sequence'])['has_cterminal_modification'].transform(max)"
   ]
  },
  {
   "cell_type": "code",
   "execution_count": 21,
   "metadata": {
    "collapsed": true
   },
   "outputs": [],
   "source": [
    "# Clean sequences\n",
    "df.sequence = df.sequence.str.strip()\n",
    "df = df.loc[df.sequence != '/']"
   ]
  },
  {
   "cell_type": "code",
   "execution_count": 22,
   "metadata": {
    "collapsed": true
   },
   "outputs": [],
   "source": [
    "# Exclude sequences with modifications\n",
    "\n",
    "# Exclude rows from YADAMP and CAMP for having no modification data\n",
    "\n",
    "#     Unless that sequence is in another DB"
   ]
  },
  {
   "cell_type": "code",
   "execution_count": 23,
   "metadata": {
    "collapsed": true
   },
   "outputs": [],
   "source": [
    "df = df.loc[df.has_non_cterminal_modification == False]\n",
    "\n",
    "no_modification_data_sources = ['camp3', 'yadamp']\n",
    "\n",
    "def datasource_has_modifications(cell):\n",
    "    # Everything except CAMP and YADAMP has modification data\n",
    "    return not any([s in cell for s in no_modification_data_sources])\n",
    "\n",
    "df['_datasource_has_modifications'] = df['url_source'].apply(datasource_has_modifications)\n",
    "\n",
    "sequences_containing_modifications = set(df.loc[df._datasource_has_modifications == True, 'sequence'])\n",
    "def sequence_has_modification_data(cell):\n",
    "    # If the sequence is labeled modifictationless in another database it's OK\n",
    "    return cell in sequences_containing_modifications\n",
    "\n",
    "df['_sequence_has_modifications'] = df['sequence'].apply(sequence_has_modification_data)\n",
    "\n",
    "df['modification_verified'] = df['_sequence_has_modifications'] | df['_datasource_has_modifications']\n",
    "\n",
    "df = df.loc[df.modification_verified == True]"
   ]
  },
  {
   "cell_type": "code",
   "execution_count": 24,
   "metadata": {},
   "outputs": [
    {
     "ename": "NameError",
     "evalue": "name 'character_to_index' is not defined",
     "output_type": "error",
     "traceback": [
      "\u001b[0;31m---------------------------------------------------------------------------\u001b[0m",
      "\u001b[0;31mNameError\u001b[0m                                 Traceback (most recent call last)",
      "\u001b[0;32m<ipython-input-24-bd32a64c8954>\u001b[0m in \u001b[0;36m<module>\u001b[0;34m()\u001b[0m\n\u001b[0;32m----> 1\u001b[0;31m \u001b[0;32mprint\u001b[0m\u001b[0;34m(\u001b[0m\u001b[0;34m''\u001b[0m\u001b[0;34m.\u001b[0m\u001b[0mjoin\u001b[0m\u001b[0;34m(\u001b[0m\u001b[0mcharacter_to_index\u001b[0m\u001b[0;34m.\u001b[0m\u001b[0mkeys\u001b[0m\u001b[0;34m(\u001b[0m\u001b[0;34m)\u001b[0m\u001b[0;34m)\u001b[0m\u001b[0;34m)\u001b[0m\u001b[0;34m\u001b[0m\u001b[0m\n\u001b[0m",
      "\u001b[0;31mNameError\u001b[0m: name 'character_to_index' is not defined"
     ]
    }
   ],
   "source": [
    "print(''.join(character_to_index.keys()))"
   ]
  },
  {
   "cell_type": "code",
   "execution_count": 117,
   "metadata": {
    "collapsed": true
   },
   "outputs": [],
   "source": [
    "character_dict = set([character for sequence in df.sequence for character in sequence])\n",
    "max_sequence_length = int(df.sequence.str.len().describe(percentiles=[0.95])['95%'])\n",
    "\n",
    "# Each amino acid its own group\n",
    "character_to_index = {\n",
    "    (character): i\n",
    "    for i, character in enumerate(character_dict)\n",
    "}\n",
    "\n",
    "# Group them together heavily\n",
    "character_to_index = {\n",
    "    ('R', 'K', 'H'): 0,\n",
    "    ('D', 'E'): 1,\n",
    "    ('S', 'T', 'N', 'Q', 'C'): 2,\n",
    "    ('A', 'V', 'I', 'L', 'M', 'F', 'Y', 'W', 'P', 'G'): 3,\n",
    "    ('Z'): 4,\n",
    "    ('X'): 5,\n",
    "    ('U'): 6,\n",
    "}\n",
    "\n",
    "# Group them together more sparingly\n",
    "character_to_index = {\n",
    "    ('R'): 0,\n",
    "    ('H'): 1,\n",
    "    ('K'): 2,\n",
    "    ('D', 'E'): 3,\n",
    "    ('S', 'T', 'N', 'Q', 'C'): 4,\n",
    "    ('G', 'P'): 5,\n",
    "    ('A', 'V', 'I', 'L', 'M'): 6,\n",
    "    ('F', 'Y', 'W'): 7,\n",
    "    ('Z'): 8,\n",
    "    ('X'): 9,\n",
    "    ('U'): 10,\n",
    "}\n",
    "\n",
    "def sequence_to_vector(sequence, cterminal_amidation):\n",
    "# It looks like this truncates any sequence after max_sequence_length (which is length of 95th percentile longest peptide)\n",
    "# I just add cterminal amidation as the amino acid after the last real amino acid (if the amino acid gets truncated\n",
    "# then the cterminal amidation also gets cut off)\n",
    "    default = np.zeros([max_sequence_length, len(character_to_index) + 1])\n",
    "    for i, character in enumerate(sequence[:max_sequence_length]):\n",
    "        default[i][character_to_index[character]] = 1\n",
    "    if len(sequence)<max_sequence_length:\n",
    "        default[len(sequence)][-1]=cterminal_amidation\n",
    "    return default\n",
    "\n",
    "def old_sequence_to_vector(sequence, cterminal_amidation):\n",
    "#     Chops off any sequence after max_sequence_length (which is length of 95th percentile longest peptide)\n",
    "    default = np.zeros([max_sequence_length, len(character_to_index) + 1])\n",
    "    for i, character in enumerate(sequence[:max_sequence_length]):\n",
    "        default[i][character_to_index[character]] = 1\n",
    "        default[i][-1] = cterminal_amidation\n",
    "    return default\n",
    "\n",
    "def find_character(character2index, character):\n",
    "    for key in character2index:\n",
    "        if character in key:\n",
    "            return character2index[key]\n",
    "    return -2\n",
    "\n",
    "def row_to_vector(row):\n",
    "    sequence = row['sequence']\n",
    "    cterminal_amidation = row['has_cterminal_modification']\n",
    "    default = np.zeros([max_sequence_length, len(character_to_index) + 1])\n",
    "\n",
    "    for i, character in enumerate(sequence[:max_sequence_length]):\n",
    "        default[i][find_character(character_to_index, character)] = 1\n",
    "        default[i][-1] = cterminal_amidation\n",
    "\n",
    "    return default\n",
    "\n",
    "def bacterium_to_sample_weight(bacterium, intended_bacterium='E. coli'):\n",
    "    if intended_bacterium in bacterium:\n",
    "        return 1\n",
    "    else:\n",
    "        return 0.5"
   ]
  },
  {
   "cell_type": "code",
   "execution_count": 93,
   "metadata": {},
   "outputs": [],
   "source": [
    "amino_acids=['R','K','H','D','E','S','T','N','Q','C','A','V','I','L','M','F','Y','W','P','G']\n",
    "def sequence_to_aa_counts(sequence,cterminal_amidation):\n",
    "    counts=[0]*(len(amino_acids)+1)\n",
    "    for i in range(len(amino_acids)):\n",
    "        counts[i]=sequence.count(amino_acids[i])\n",
    "    if cterminal_amidation:\n",
    "        counts[len(amino_acids)]=1\n",
    "    if 'Z' in sequence or 'X' in sequence or 'U' in sequence:\n",
    "        print 'Non-standard amino acid: '+sequence\n",
    "    return counts\n",
    "\n",
    "def sequence_is_acceptable(sequence):\n",
    "    counts = sequence_to_aa_counts(sequence,False)\n",
    "    return sum(counts)==len(sequence)"
   ]
  },
  {
   "cell_type": "code",
   "execution_count": 94,
   "metadata": {
    "collapsed": true
   },
   "outputs": [],
   "source": [
    "staph = df.loc[df.bacterium.str.contains('S. aureus')].groupby('sequence')['value'].mean().dropna()\n",
    "ecoli = df.loc[df.bacterium.str.contains('E. coli')].groupby('sequence')['value'].mean().dropna()\n",
    "pseudomonas = df.loc[df.bacterium.str.contains('P. aeruginosa')].groupby('sequence')['value'].mean().dropna()\n",
    "streptococcus = df.loc[df.bacterium.str.contains('S. mutans')].groupby('sequence')['value'].mean().dropna()\n",
    "bacillus = df.loc[df.bacterium.str.contains('B. subtilis')].groupby('sequence')['value'].mean().dropna()"
   ]
  },
  {
   "cell_type": "code",
   "execution_count": 28,
   "metadata": {
    "collapsed": true
   },
   "outputs": [],
   "source": [
    "many_bacteria = pd.concat([ecoli, pseudomonas, streptococcus, staph, bacillus], axis=1).reset_index()\n",
    "many_bacteria.columns = ['index', 'ecoli', 'pseudomonas', 'streptococcus', 'staph', 'bacillus']"
   ]
  },
  {
   "cell_type": "code",
   "execution_count": 29,
   "metadata": {
    "collapsed": true
   },
   "outputs": [],
   "source": [
    "ecoli_pseudomonas = many_bacteria.dropna(subset=('ecoli', 'pseudomonas'))\n",
    "x = np.array(ecoli_pseudomonas['pseudomonas']).reshape(-1, 1)\n",
    "y = np.array(ecoli_pseudomonas['ecoli']).reshape(-1, 1)"
   ]
  },
  {
   "cell_type": "code",
   "execution_count": 30,
   "metadata": {},
   "outputs": [
    {
     "name": "stderr",
     "output_type": "stream",
     "text": [
      "/Users/jacobwitten/anaconda/lib/python2.7/site-packages/sklearn/linear_model/base.py:509: RuntimeWarning: internal gelsd driver lwork query error, required iwork dimension not returned. This is likely the result of LAPACK bug 0038, fixed in LAPACK 3.2.2 (released July 21, 2010). Falling back to 'gelss' driver.\n",
      "  linalg.lstsq(X, y)\n"
     ]
    }
   ],
   "source": [
    "model = LinearRegression().fit(x, y)"
   ]
  },
  {
   "cell_type": "code",
   "execution_count": 31,
   "metadata": {},
   "outputs": [
    {
     "name": "stdout",
     "output_type": "stream",
     "text": [
      "('Vector shape:', (4508, 46, 12))\n"
     ]
    }
   ],
   "source": [
    "bacteria_name = 'E. coli'\n",
    "ecoli_df = df.loc[(df.bacterium.str.contains(bacteria_name))].groupby(['sequence', 'bacterium'])\n",
    "ecoli_df = ecoli_df.mean().reset_index().dropna()\n",
    "\n",
    "cterminal_amidation = np.array(ecoli_df.has_cterminal_modification)\n",
    "\n",
    "# vectors = ecoli_df.head(2).apply(sequence_to_vector, axis=1)\n",
    "vectors = []\n",
    "for row in ecoli_df.iterrows():\n",
    "    vectors.append(row_to_vector(row[1]))\n",
    "\n",
    "vectors = np.array(vectors)\n",
    "print(\"Vector shape:\", vectors.shape)\n",
    "\n",
    "labels = np.array(ecoli_df.value)\n",
    "sample_weights = np.array([1] * len(labels))"
   ]
  },
  {
   "cell_type": "code",
   "execution_count": 32,
   "metadata": {},
   "outputs": [
    {
     "name": "stdout",
     "output_type": "stream",
     "text": [
      "('Vector shape:', (2493, 46, 12))\n"
     ]
    }
   ],
   "source": [
    "bacteria_name = 'P. aeruginosa'\n",
    "# ecoli_df = df.loc[(df.bacterium.str.contains('E. coli')) | (df.bacterium.str.contains('P. aeruginosa'))].groupby(['sequence', 'bacterium'])\n",
    "pa_df = df.loc[(df.bacterium.str.contains(bacteria_name))].groupby(['sequence', 'bacterium'])\n",
    "pa_df = pa_df.mean().reset_index().dropna()\n",
    "\n",
    "pa_cterminal_amidation = np.array(pa_df.has_cterminal_modification)\n",
    "\n",
    "pa_vectors = []\n",
    "for row in pa_df.iterrows():\n",
    "    pa_vectors.append(row_to_vector(row[1]))\n",
    "\n",
    "pa_vectors = np.array(pa_vectors)\n",
    "print(\"Vector shape:\", pa_vectors.shape)\n",
    "\n",
    "pa_labels = np.array(pa_df.value.apply(model.predict))  # Interpolate using the linear model\n",
    "pa_sample_weights = np.array([0.5] * len(pa_labels))"
   ]
  },
  {
   "cell_type": "code",
   "execution_count": 95,
   "metadata": {},
   "outputs": [],
   "source": [
    "def data_matrix_for_counts_regression(bacteria_name):\n",
    "    bac_df = df.loc[(df.bacterium.str.contains(bacteria_name))].groupby(['sequence', 'bacterium'])\n",
    "    bac_df = bac_df.mean().reset_index().dropna()\n",
    "    data_matrix=[]\n",
    "    mic_vector=[]\n",
    "    failed_sequences=[]\n",
    "    for row in bac_df.iterrows():\n",
    "        sequence=row[1]['sequence']\n",
    "        cterminal_amidation=row[1]['has_cterminal_modification']\n",
    "        if sequence_is_acceptable(sequence):\n",
    "            data_matrix.append(sequence_to_aa_counts(sequence,cterminal_amidation))\n",
    "            mic_vector.append(row[1]['value'])\n",
    "        else:\n",
    "            print 'Sequence contains non-standard amino acid: '+repr(sequence)\n",
    "    return data_matrix,mic_vector"
   ]
  },
  {
   "cell_type": "code",
   "execution_count": 77,
   "metadata": {
    "collapsed": true
   },
   "outputs": [],
   "source": [
    "from sklearn.linear_model import RidgeCV,Ridge\n",
    "from random import shuffle"
   ]
  },
  {
   "cell_type": "code",
   "execution_count": 109,
   "metadata": {},
   "outputs": [],
   "source": [
    "data_matrix_unshuffled,mic_vector_unshuffled = data_matrix_for_counts_regression('E. coli')\n",
    "# Now shuffle the list:\n",
    "shuffle_order=range(len(mic_vector_unshuffled))\n",
    "shuffle(shuffle_order)\n",
    "data_matrix=[]\n",
    "mic_vector=[]\n",
    "for index in shuffle_order:\n",
    "    data_matrix.append(data_matrix_unshuffled[index])\n",
    "    mic_vector.append(mic_vector_unshuffled[index])"
   ]
  },
  {
   "cell_type": "code",
   "execution_count": 110,
   "metadata": {},
   "outputs": [
    {
     "data": {
      "text/plain": [
       "Ridge(alpha=0.0001, copy_X=True, fit_intercept=True, max_iter=None,\n",
       "   normalize=False, random_state=None, solver='auto', tol=0.001)"
      ]
     },
     "execution_count": 110,
     "metadata": {},
     "output_type": "execute_result"
    }
   ],
   "source": [
    "cutoff = int(0.9 * len(mic_vector))\n",
    "train_x = data_matrix[:cutoff]\n",
    "train_y = mic_vector[:cutoff]\n",
    "test_x = data_matrix[cutoff:]\n",
    "test_y = mic_vector[cutoff:]\n",
    "ridge_model = RidgeCV(alphas=[0.01,0.1,0.5,1,5,10,20,50,100,140,150,160,170,180,190,200,250])\n",
    "ridge_model.fit(train_x,train_y)\n",
    "ridge_2=Ridge(alpha=.0001)\n",
    "ridge_2.fit(train_x,train_y)"
   ]
  },
  {
   "cell_type": "code",
   "execution_count": 115,
   "metadata": {},
   "outputs": [
    {
     "name": "stdout",
     "output_type": "stream",
     "text": [
      "Error using ridge regression: 0.44109170177529894\n",
      "Error using ridge regression with artificially high alpha: 0.4414324179723137\n",
      "Error with guessing average of training set: 0.604406254893489\n",
      "180.0\n"
     ]
    }
   ],
   "source": [
    "pred_y_vals = ridge_model.predict(test_x)\n",
    "sse_predicted = sum([(pred_y_vals[i]-test_y[i])**2 for i in range(len(test_y))])\n",
    "mse_predicted = sse_predicted/len(test_y)\n",
    "print 'Error using ridge regression: '+repr(mse_predicted)\n",
    "\n",
    "pred_y_vals_2 = ridge_2.predict(test_x)\n",
    "sse_predicted_2 = sum([(pred_y_vals_2[i]-test_y[i])**2 for i in range(len(test_y))])\n",
    "mse_predicted_2 = sse_predicted_2/len(test_y)\n",
    "print 'Error using ridge regression with artificially high alpha: '+repr(mse_predicted_2)\n",
    "\n",
    "avg_train = np.mean(train_y)\n",
    "squared_errors = sum([(y-avg_train)**2 for y in test_y])\n",
    "error_with_guessing_avg = squared_errors/len(test_y)\n",
    "print \"Error with guessing average of training set: \"+repr(error_with_guessing_avg)\n",
    "print ridge_model.alpha_"
   ]
  },
  {
   "cell_type": "code",
   "execution_count": 102,
   "metadata": {},
   "outputs": [
    {
     "name": "stdout",
     "output_type": "stream",
     "text": [
      "[-0.1152067  -0.09712894 -0.03324575  0.12176398  0.08266579  0.06770249\n",
      " -0.04058387 -0.00948619  0.02422753 -0.0265018  -0.00742138 -0.02320883\n",
      " -0.07398833 -0.04912477 -0.05320442 -0.03159872 -0.05870742 -0.10066588\n",
      "  0.01040571 -0.02194336 -0.02046917]\n"
     ]
    }
   ],
   "source": [
    "print ridge_model.coef_"
   ]
  },
  {
   "cell_type": "code",
   "execution_count": 44,
   "metadata": {},
   "outputs": [],
   "source": [
    "%matplotlib inline\n",
    "import matplotlib.pyplot as plt"
   ]
  },
  {
   "cell_type": "code",
   "execution_count": 116,
   "metadata": {},
   "outputs": [
    {
     "data": {
      "text/plain": [
       "[<matplotlib.lines.Line2D at 0x1163552d0>]"
      ]
     },
     "execution_count": 116,
     "metadata": {},
     "output_type": "execute_result"
    },
    {
     "data": {
      "image/png": "[encoded data removed]",
      "text/plain": [
       "<matplotlib.figure.Figure at 0x1165dc4d0>"
      ]
     },
     "metadata": {},
     "output_type": "display_data"
    }
   ],
   "source": [
    "plt.plot(pred_y_vals,test_y,'.')"
   ]
  },
  {
   "cell_type": "code",
   "execution_count": 114,
   "metadata": {},
   "outputs": [
    {
     "name": "stdout",
     "output_type": "stream",
     "text": [
      "0.6018234403825626\n",
      "0.6015933156592143\n",
      "0.5992814034677354\n",
      "[-0.1145207  -0.09345988 -0.03273606  0.12398654  0.07433362  0.06671675\n",
      " -0.03975804 -0.01845875  0.028491   -0.02843606 -0.00723681 -0.02923517\n",
      " -0.06974946 -0.04973211 -0.0540118  -0.03656435 -0.0590887  -0.09681256\n",
      "  0.00796796 -0.01268875 -0.0231873 ]\n"
     ]
    }
   ],
   "source": [
    "baseline_error_all = np.var(labels)\n",
    "baseline_error_train = np.var(train_y)\n",
    "baseline_error_test = np.var(test_y)\n",
    "print baseline_error_all\n",
    "print baseline_error_train\n",
    "print baseline_error_test\n",
    "print ridge_model.coef_"
   ]
  }
 ],
 "metadata": {
  "kernelspec": {
   "display_name": "Python 2",
   "language": "python",
   "name": "python2"
  },
  "language_info": {
   "codemirror_mode": {
    "name": "ipython",
    "version": 2
   },
   "file_extension": ".py",
   "mimetype": "text/x-python",
   "name": "python",
   "nbconvert_exporter": "python",
   "pygments_lexer": "ipython2",
   "version": "2.7.12"
  }
 },
 "nbformat": 4,
 "nbformat_minor": 2
}
