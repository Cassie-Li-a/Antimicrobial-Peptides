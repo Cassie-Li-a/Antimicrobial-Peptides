{
 "cells": [
  {
   "cell_type": "code",
   "execution_count": 1,
   "metadata": {},
   "outputs": [],
   "source": [
    "import pandas as pd\n",
    "import os\n",
    "import ast\n",
    "import numpy as np\n",
    "from Bio.SeqUtils.ProtParam import ProteinAnalysis\n",
    "pd.options.display.max_colwidth = 100\n",
    "pd.options.display.float_format = '{:.2f}'.format"
   ]
  },
  {
   "cell_type": "code",
   "execution_count": 2,
   "metadata": {},
   "outputs": [],
   "source": [
    "all_results = []\n",
    "for f in os.listdir('.'):\n",
    "    if '.data' in f:\n",
    "        with open(f, 'r') as g:\n",
    "            all_results.append(ast.literal_eval(g.read()))"
   ]
  },
  {
   "cell_type": "code",
   "execution_count": 3,
   "metadata": {},
   "outputs": [],
   "source": [
    "def standardize_to_uM(concentration, unit, sequence):\n",
    "    concentration = concentration.replace(' ', '')\n",
    "    try:\n",
    "        concentration = float(concentration)\n",
    "    except:\n",
    "        return None\n",
    "    if unit == 'uM' or unit == u'\\xb5M' or unit == u'uM)':\n",
    "        return concentration\n",
    "    elif unit == 'ug/ml' or unit == u'\\xb5g/ml' or unit == u'ug/ml)':\n",
    "        try:\n",
    "            molWt = ProteinAnalysis(sequence).molecular_weight()\n",
    "        except ValueError:\n",
    "            return None\n",
    "        return concentration * 1000/molWt\n",
    "    elif unit == 'nmol/g' or unit == 'pmol/mg':\n",
    "        #1g, at density of 1g/mL, is 1mL, so nmol/g is nmol/mL = umol/L = uM yay!\n",
    "        return concentration\n",
    "    else:\n",
    "        # print 'Unit not recognized: ' + unit\n",
    "        return None"
   ]
  },
  {
   "cell_type": "code",
   "execution_count": 4,
   "metadata": {},
   "outputs": [],
   "source": [
    "def convert_result_to_rows(sequence, result):\n",
    "    rows = []\n",
    "    if 'bacteria' not in result:\n",
    "        return rows\n",
    "    for bacterium, strain in result['bacteria']:\n",
    "        \n",
    "        rows.append({\n",
    "            'bacterium': bacterium,\n",
    "            'strain': strain,\n",
    "            'sequence': sequence.upper(),\n",
    "            'url_source': result['url_sources'][0],\n",
    "            'value': standardize_to_uM(\n",
    "                result['bacteria'][(bacterium, strain)]['value'],\n",
    "                result['bacteria'][(bacterium, strain)]['unit'],\n",
    "                sequence\n",
    "            ),\n",
    "            'modifications': result['modifications'] if 'modifications' in result else [],\n",
    "            'unit': 'uM'\n",
    "        })\n",
    "        if rows[-1]['value']:\n",
    "            rows[-1]['value'] = np.log10(rows[-1]['value'])\n",
    "    return rows"
   ]
  },
  {
   "cell_type": "code",
   "execution_count": 5,
   "metadata": {},
   "outputs": [],
   "source": [
    "rows = []\n",
    "for result_set in all_results:\n",
    "    for sequence in result_set:\n",
    "        for row in convert_result_to_rows(sequence, result_set[sequence]):\n",
    "            rows.append(row)"
   ]
  },
  {
   "cell_type": "code",
   "execution_count": 6,
   "metadata": {},
   "outputs": [],
   "source": [
    "df = pd.DataFrame(rows)"
   ]
  },
  {
   "cell_type": "code",
   "execution_count": 7,
   "metadata": {},
   "outputs": [],
   "source": [
    "def is_modified(modifications_list):\n",
    "    return len(modifications_list) > 0\n",
    "\n",
    "df['is_modified'] = df.modifications.apply(is_modified)"
   ]
  },
  {
   "cell_type": "code",
   "execution_count": 8,
   "metadata": {},
   "outputs": [],
   "source": [
    "def has_non_cterminal_modification(modifications_list):\n",
    "    return any(['C-Term' not in modification for modification in modifications_list])\n",
    "\n",
    "df['has_non_cterminal_modification'] = df.modifications.apply(has_non_cterminal_modification)\n",
    "#df['has_non_cterminal_modification'] = df.groupby(['sequence'])['has_non_cterminal_modification'].transform(max)\n",
    "\n",
    "df['has_cterminal_modification'] = df.is_modified & ~df.has_non_cterminal_modification\n",
    "#df['has_cterminal_modification'] = df.groupby(['sequence'])['has_cterminal_modification'].transform(max)"
   ]
  },
  {
   "cell_type": "code",
   "execution_count": 9,
   "metadata": {},
   "outputs": [],
   "source": [
    "# Clean sequences\n",
    "df.sequence = df.sequence.str.strip()\n",
    "df = df.loc[df.sequence != '/']"
   ]
  },
  {
   "cell_type": "code",
   "execution_count": 10,
   "metadata": {},
   "outputs": [],
   "source": [
    "# Exclude sequences with modifications\n",
    "\n",
    "# Exclude rows from YADAMP and CAMP for having no modification data\n",
    "\n",
    "#     Unless that sequence is in another DB"
   ]
  },
  {
   "cell_type": "code",
   "execution_count": 11,
   "metadata": {},
   "outputs": [],
   "source": [
    "df = df.loc[df.has_non_cterminal_modification == False]\n",
    "\n",
    "no_modification_data_sources = ['camp3', 'yadamp']\n",
    "\n",
    "def datasource_has_modifications(cell):\n",
    "    # Everything except CAMP and YADAMP has modification data\n",
    "    return not any([s in cell for s in no_modification_data_sources])\n",
    "\n",
    "df['_datasource_has_modifications'] = df['url_source'].apply(datasource_has_modifications)\n",
    "\n",
    "sequences_containing_modifications = set(df.loc[df._datasource_has_modifications == True, 'sequence'])\n",
    "def sequence_has_modification_data(cell):\n",
    "    # If the sequence is labeled modifictationless in another database it's OK\n",
    "    return cell in sequences_containing_modifications\n",
    "\n",
    "df['_sequence_has_modifications'] = df['sequence'].apply(sequence_has_modification_data)\n",
    "\n",
    "df['modification_verified'] = df['_sequence_has_modifications'] | df['_datasource_has_modifications']\n",
    "\n",
    "df = df.loc[df.modification_verified == True]"
   ]
  },
  {
   "cell_type": "code",
   "execution_count": 164,
   "metadata": {},
   "outputs": [],
   "source": [
    "character_dict = set([character for sequence in df.sequence for character in sequence])\n",
    "max_sequence_length = int(df.sequence.str.len().describe(percentiles=[0.95])['95%'])\n",
    "character_to_index = {\n",
    "    character: i\n",
    "    for i, character in enumerate(character_dict)\n",
    "}\n",
    "\n",
    "def sequence_to_vector(sequence):\n",
    "    default = np.zeros([max_sequence_length, len(character_to_index)])\n",
    "    for i, character in enumerate(sequence[:max_sequence_length]):\n",
    "        default[i][character_to_index[character]] = 1\n",
    "    return default"
   ]
  },
  {
   "cell_type": "code",
   "execution_count": 151,
   "metadata": {},
   "outputs": [],
   "source": [
    "ecoli_df = df.loc[df.bacterium.str.contains('E. coli')].groupby(['sequence', 'bacterium'])\n",
    "ecoli_df = ecoli_df.mean().reset_index().dropna()"
   ]
  },
  {
   "cell_type": "code",
   "execution_count": 152,
   "metadata": {},
   "outputs": [],
   "source": [
    "cterminal_amidation = np.array(ecoli_df.has_cterminal_modification)"
   ]
  },
  {
   "cell_type": "code",
   "execution_count": 251,
   "metadata": {},
   "outputs": [],
   "source": [
    "vectors = ecoli_df['sequence'].apply(sequence_to_vector)\n",
    "vectors = np.array([list(vector) for vector in vectors]).reshape([-1, max_sequence_length, len(character_to_index)])"
   ]
  },
  {
   "cell_type": "code",
   "execution_count": 252,
   "metadata": {},
   "outputs": [],
   "source": [
    "labels = np.array(ecoli_df.value)"
   ]
  },
  {
   "cell_type": "code",
   "execution_count": 253,
   "metadata": {},
   "outputs": [
    {
     "data": {
      "text/plain": [
       "(4508, 46, 23)"
      ]
     },
     "execution_count": 253,
     "metadata": {},
     "output_type": "execute_result"
    }
   ],
   "source": [
    "vectors.shape"
   ]
  },
  {
   "cell_type": "code",
   "execution_count": 211,
   "metadata": {},
   "outputs": [
    {
     "name": "stdout",
     "output_type": "stream",
     "text": [
      "0.60182344038256\n"
     ]
    }
   ],
   "source": [
    "average = np.mean(labels)\n",
    "squared_errors = sum([(label - average) ** 2 for label in labels])\n",
    "baseline_error = squared_errors/len(labels)\n",
    "print(baseline_error)"
   ]
  },
  {
   "cell_type": "code",
   "execution_count": 292,
   "metadata": {},
   "outputs": [],
   "source": [
    "import keras\n",
    "from keras.layers import Dense, Dropout, LSTM, Conv2D, Conv1D, MaxPooling1D, MaxPooling2D, Flatten\n",
    "from keras.wrappers.scikit_learn import KerasRegressor\n",
    "from sklearn.model_selection import KFold\n",
    "from sklearn.model_selection import cross_val_score"
   ]
  },
  {
   "cell_type": "code",
   "execution_count": 269,
   "metadata": {},
   "outputs": [],
   "source": [
    "def baseline_model():\n",
    "    model = keras.models.Sequential()\n",
    "    model.add(LSTM(\n",
    "        128,\n",
    "        input_shape=(max_sequence_length, len(character_to_index)),\n",
    "    ))\n",
    "    \"\"\"model.add(Dense(\n",
    "        max_sequence_length * len(character_to_index),\n",
    "        input_dim = max_sequence_length * len(character_to_index),\n",
    "        kernel_initializer='normal',\n",
    "        activation='relu'\n",
    "    ))\"\"\"\n",
    "    #model.add(Dropout(0.5))\n",
    "    model.add(Dense(50, kernel_initializer='normal'))\n",
    "    model.add(Dense(1, kernel_initializer='normal'))\n",
    "    model.compile(loss='mean_squared_error', optimizer='adam')\n",
    "    return model"
   ]
  },
  {
   "cell_type": "code",
   "execution_count": 334,
   "metadata": {},
   "outputs": [],
   "source": [
    "def conv_model():\n",
    "    model = keras.models.Sequential()\n",
    "    model.add(Conv1D(\n",
    "        64,\n",
    "        kernel_size = 5,\n",
    "        strides = 1,\n",
    "        activation = 'relu',\n",
    "        input_shape = (max_sequence_length, len(character_to_index))\n",
    "    ))\n",
    "    model.add(MaxPooling1D(pool_size=2, strides=2))\n",
    "    #model.add(Dropout(0.5))\n",
    "    model.add(Conv1D(64, 5, activation='relu'))\n",
    "    model.add(MaxPooling1D(pool_size=2))\n",
    "    model.add(Flatten())\n",
    "    model.add(Dropout(0.5))\n",
    "    model.add(Dense(100, activation='relu'))\n",
    "    model.add(Dense(50, activation='relu'))\n",
    "    model.add(Dense(20, activation='relu'))\n",
    "    model.add(Dense(1))\n",
    "    model.compile(loss='mean_squared_error', optimizer='adam')\n",
    "    return model"
   ]
  },
  {
   "cell_type": "code",
   "execution_count": 270,
   "metadata": {},
   "outputs": [],
   "source": [
    "model = baseline_model()"
   ]
  },
  {
   "cell_type": "code",
   "execution_count": 271,
   "metadata": {},
   "outputs": [],
   "source": [
    "cutoff = int(0.9 * len(labels))\n",
    "train_x = vectors[:cutoff]\n",
    "train_y = labels[:cutoff]\n",
    "test_x = vectors[cutoff:]\n",
    "test_y = labels[cutoff:]"
   ]
  },
  {
   "cell_type": "code",
   "execution_count": 272,
   "metadata": {
    "collapsed": true
   },
   "outputs": [
    {
     "name": "stdout",
     "output_type": "stream",
     "text": [
      "Epoch 1/100\n",
      "4057/4057 [==============================] - 6s 1ms/step - loss: 0.7355\n",
      "Epoch 2/100\n",
      "4057/4057 [==============================] - 4s 976us/step - loss: 0.5843\n",
      "Epoch 3/100\n",
      "4057/4057 [==============================] - 4s 998us/step - loss: 0.5820\n",
      "Epoch 4/100\n",
      "4057/4057 [==============================] - 4s 1ms/step - loss: 0.5345\n",
      "Epoch 5/100\n",
      "4057/4057 [==============================] - 4s 1ms/step - loss: 0.4627\n",
      "Epoch 6/100\n",
      "4057/4057 [==============================] - 4s 1ms/step - loss: 0.4550\n",
      "Epoch 7/100\n",
      "4057/4057 [==============================] - 4s 1ms/step - loss: 0.4300\n",
      "Epoch 8/100\n",
      "4057/4057 [==============================] - 4s 1ms/step - loss: 0.4261\n",
      "Epoch 9/100\n",
      "4057/4057 [==============================] - 5s 1ms/step - loss: 0.4205\n",
      "Epoch 10/100\n",
      "4057/4057 [==============================] - 4s 1ms/step - loss: 0.4083\n",
      "Epoch 11/100\n",
      "4057/4057 [==============================] - 4s 1ms/step - loss: 0.4057\n",
      "Epoch 12/100\n",
      "4057/4057 [==============================] - 4s 1ms/step - loss: 0.4105\n",
      "Epoch 13/100\n",
      "4057/4057 [==============================] - 4s 1ms/step - loss: 0.4053\n",
      "Epoch 14/100\n",
      "4057/4057 [==============================] - 4s 1ms/step - loss: 0.3920\n",
      "Epoch 15/100\n",
      "4057/4057 [==============================] - 5s 1ms/step - loss: 0.3905\n",
      "Epoch 16/100\n",
      "4057/4057 [==============================] - 5s 1ms/step - loss: 0.3934\n",
      "Epoch 17/100\n",
      "4057/4057 [==============================] - 5s 1ms/step - loss: 0.3896\n",
      "Epoch 18/100\n",
      "4057/4057 [==============================] - 4s 1ms/step - loss: 0.3796\n",
      "Epoch 19/100\n",
      "4057/4057 [==============================] - 4s 1ms/step - loss: 0.3790\n",
      "Epoch 20/100\n",
      "4057/4057 [==============================] - 4s 1ms/step - loss: 0.3791\n",
      "Epoch 21/100\n",
      "4057/4057 [==============================] - 4s 988us/step - loss: 0.3653\n",
      "Epoch 22/100\n",
      "4057/4057 [==============================] - 4s 1ms/step - loss: 0.3574\n",
      "Epoch 23/100\n",
      "4057/4057 [==============================] - 4s 1ms/step - loss: 0.3556\n",
      "Epoch 24/100\n",
      "4057/4057 [==============================] - 4s 1ms/step - loss: 0.3548\n",
      "Epoch 25/100\n",
      "4057/4057 [==============================] - 4s 968us/step - loss: 0.3461\n",
      "Epoch 26/100\n",
      "4057/4057 [==============================] - 4s 998us/step - loss: 0.3426\n",
      "Epoch 27/100\n",
      "4057/4057 [==============================] - 4s 960us/step - loss: 0.3352\n",
      "Epoch 28/100\n",
      "4057/4057 [==============================] - 4s 1ms/step - loss: 0.3354\n",
      "Epoch 29/100\n",
      "4057/4057 [==============================] - 4s 1ms/step - loss: 0.3251\n",
      "Epoch 30/100\n",
      "4057/4057 [==============================] - 4s 979us/step - loss: 0.3189\n",
      "Epoch 31/100\n",
      "4057/4057 [==============================] - 4s 1ms/step - loss: 0.3121\n",
      "Epoch 32/100\n",
      "4057/4057 [==============================] - 4s 1ms/step - loss: 0.3115\n",
      "Epoch 33/100\n",
      "4057/4057 [==============================] - 4s 1ms/step - loss: 0.3116\n",
      "Epoch 34/100\n",
      "4057/4057 [==============================] - 4s 995us/step - loss: 0.3071\n",
      "Epoch 35/100\n",
      "4057/4057 [==============================] - 4s 976us/step - loss: 0.2910\n",
      "Epoch 36/100\n",
      "4057/4057 [==============================] - 4s 1ms/step - loss: 0.2923\n",
      "Epoch 37/100\n",
      "4057/4057 [==============================] - 4s 1ms/step - loss: 0.2837\n",
      "Epoch 38/100\n",
      "4057/4057 [==============================] - 4s 1ms/step - loss: 0.2834\n",
      "Epoch 39/100\n",
      "4057/4057 [==============================] - 4s 1ms/step - loss: 0.2725\n",
      "Epoch 40/100\n",
      "4057/4057 [==============================] - 4s 1ms/step - loss: 0.2722\n",
      "Epoch 41/100\n",
      "4057/4057 [==============================] - 4s 1ms/step - loss: 0.2672\n",
      "Epoch 42/100\n",
      "4057/4057 [==============================] - 5s 1ms/step - loss: 0.2641\n",
      "Epoch 43/100\n",
      "4057/4057 [==============================] - 4s 1ms/step - loss: 0.2616\n",
      "Epoch 44/100\n",
      "4057/4057 [==============================] - 4s 1ms/step - loss: 0.2543\n",
      "Epoch 45/100\n",
      "4057/4057 [==============================] - 4s 975us/step - loss: 0.2454\n",
      "Epoch 46/100\n",
      "4057/4057 [==============================] - 4s 969us/step - loss: 0.2442\n",
      "Epoch 47/100\n",
      "4057/4057 [==============================] - 4s 981us/step - loss: 0.2360\n",
      "Epoch 48/100\n",
      "4057/4057 [==============================] - 4s 988us/step - loss: 0.2417\n",
      "Epoch 49/100\n",
      "4057/4057 [==============================] - 4s 1ms/step - loss: 0.2251\n",
      "Epoch 50/100\n",
      "4057/4057 [==============================] - 4s 1ms/step - loss: 0.2200\n",
      "Epoch 51/100\n",
      "4057/4057 [==============================] - 4s 1ms/step - loss: 0.2199\n",
      "Epoch 52/100\n",
      "4057/4057 [==============================] - 4s 1ms/step - loss: 0.2150\n",
      "Epoch 53/100\n",
      "4057/4057 [==============================] - 4s 1ms/step - loss: 0.2133\n",
      "Epoch 54/100\n",
      "4057/4057 [==============================] - 4s 972us/step - loss: 0.2079\n",
      "Epoch 55/100\n",
      "4057/4057 [==============================] - 4s 1ms/step - loss: 0.2136\n",
      "Epoch 56/100\n",
      "4057/4057 [==============================] - 4s 988us/step - loss: 0.2019\n",
      "Epoch 57/100\n",
      "4057/4057 [==============================] - 4s 1ms/step - loss: 0.1961\n",
      "Epoch 58/100\n",
      "4057/4057 [==============================] - 4s 987us/step - loss: 0.1977\n",
      "Epoch 59/100\n",
      "4057/4057 [==============================] - 4s 1ms/step - loss: 0.1896\n",
      "Epoch 60/100\n",
      "4057/4057 [==============================] - 4s 1ms/step - loss: 0.1895\n",
      "Epoch 61/100\n",
      "4057/4057 [==============================] - 4s 1ms/step - loss: 0.1803\n",
      "Epoch 62/100\n",
      "4057/4057 [==============================] - 4s 1ms/step - loss: 0.1794\n",
      "Epoch 63/100\n",
      "4057/4057 [==============================] - 4s 1ms/step - loss: 0.1693\n",
      "Epoch 64/100\n",
      "4057/4057 [==============================] - 4s 981us/step - loss: 0.1695\n",
      "Epoch 65/100\n",
      "4057/4057 [==============================] - 4s 1ms/step - loss: 0.1796\n",
      "Epoch 66/100\n",
      "4057/4057 [==============================] - 4s 986us/step - loss: 0.1713\n",
      "Epoch 67/100\n",
      "4057/4057 [==============================] - 4s 1ms/step - loss: 0.1666\n",
      "Epoch 68/100\n",
      "4057/4057 [==============================] - 4s 1ms/step - loss: 0.1566\n",
      "Epoch 69/100\n",
      "4057/4057 [==============================] - 4s 995us/step - loss: 0.1602\n",
      "Epoch 70/100\n",
      "4057/4057 [==============================] - 4s 974us/step - loss: 0.1494\n",
      "Epoch 71/100\n",
      "4057/4057 [==============================] - 4s 989us/step - loss: 0.1487\n",
      "Epoch 72/100\n",
      "4057/4057 [==============================] - 4s 1ms/step - loss: 0.1655\n",
      "Epoch 73/100\n",
      "4057/4057 [==============================] - 4s 965us/step - loss: 0.1452\n",
      "Epoch 74/100\n",
      "4057/4057 [==============================] - 4s 996us/step - loss: 0.1440\n",
      "Epoch 75/100\n",
      "4057/4057 [==============================] - 4s 1ms/step - loss: 0.1348\n",
      "Epoch 76/100\n",
      "4057/4057 [==============================] - 4s 1ms/step - loss: 0.1364\n",
      "Epoch 77/100\n",
      "4057/4057 [==============================] - 4s 1ms/step - loss: 0.1288\n",
      "Epoch 78/100\n",
      "4057/4057 [==============================] - 4s 1ms/step - loss: 0.1333\n",
      "Epoch 79/100\n",
      "4057/4057 [==============================] - 4s 985us/step - loss: 0.1275\n",
      "Epoch 80/100\n",
      "4057/4057 [==============================] - 4s 961us/step - loss: 0.1266\n",
      "Epoch 81/100\n",
      "4057/4057 [==============================] - 4s 963us/step - loss: 0.1207\n",
      "Epoch 82/100\n",
      "4057/4057 [==============================] - 4s 1ms/step - loss: 0.1187\n",
      "Epoch 83/100\n",
      "4057/4057 [==============================] - 4s 1ms/step - loss: 0.1230\n",
      "Epoch 84/100\n",
      "4057/4057 [==============================] - ETA: 0s - loss: 0.124 - 4s 1ms/step - loss: 0.1242\n",
      "Epoch 85/100\n",
      "4057/4057 [==============================] - 4s 1ms/step - loss: 0.1222\n",
      "Epoch 86/100\n",
      "4057/4057 [==============================] - 4s 986us/step - loss: 0.1128\n",
      "Epoch 87/100\n",
      "4057/4057 [==============================] - 4s 1ms/step - loss: 0.1132\n",
      "Epoch 88/100\n",
      "4057/4057 [==============================] - 4s 1ms/step - loss: 0.1087\n",
      "Epoch 89/100\n",
      "4057/4057 [==============================] - 4s 1ms/step - loss: 0.1018\n",
      "Epoch 90/100\n",
      "4057/4057 [==============================] - 4s 1ms/step - loss: 0.1018\n",
      "Epoch 91/100\n",
      "4057/4057 [==============================] - 4s 1ms/step - loss: 0.1027\n",
      "Epoch 92/100\n",
      "4057/4057 [==============================] - 4s 1ms/step - loss: 0.1009\n",
      "Epoch 93/100\n",
      "4057/4057 [==============================] - 4s 1ms/step - loss: 0.1032\n",
      "Epoch 94/100\n",
      "4057/4057 [==============================] - 4s 1ms/step - loss: 0.0917\n",
      "Epoch 95/100\n",
      "4057/4057 [==============================] - 5s 1ms/step - loss: 0.0869\n",
      "Epoch 96/100\n"
     ]
    },
    {
     "name": "stdout",
     "output_type": "stream",
     "text": [
      "4057/4057 [==============================] - 5s 1ms/step - loss: 0.0918\n",
      "Epoch 97/100\n",
      "4057/4057 [==============================] - 5s 1ms/step - loss: 0.0860\n",
      "Epoch 98/100\n",
      "4057/4057 [==============================] - 4s 1ms/step - loss: 0.0816\n",
      "Epoch 99/100\n",
      "4057/4057 [==============================] - 4s 1ms/step - loss: 0.0880\n",
      "Epoch 100/100\n",
      "4057/4057 [==============================] - 5s 1ms/step - loss: 0.0862\n"
     ]
    },
    {
     "data": {
      "text/plain": [
       "<keras.callbacks.History at 0x179aeaf90>"
      ]
     },
     "execution_count": 272,
     "metadata": {},
     "output_type": "execute_result"
    }
   ],
   "source": [
    "model.fit(train_x, train_y, batch_size=40, epochs=100)"
   ]
  },
  {
   "cell_type": "code",
   "execution_count": 335,
   "metadata": {},
   "outputs": [
    {
     "name": "stdout",
     "output_type": "stream",
     "text": [
      "Epoch 1/200\n",
      "4057/4057 [==============================] - 3s 786us/step - loss: 0.6582\n",
      "Epoch 2/200\n",
      "4057/4057 [==============================] - 1s 159us/step - loss: 0.4150\n",
      "Epoch 3/200\n",
      "4057/4057 [==============================] - 1s 173us/step - loss: 0.3663\n",
      "Epoch 4/200\n",
      "4057/4057 [==============================] - 1s 185us/step - loss: 0.3441\n",
      "Epoch 5/200\n",
      "4057/4057 [==============================] - 1s 181us/step - loss: 0.3144\n",
      "Epoch 6/200\n",
      "4057/4057 [==============================] - 1s 186us/step - loss: 0.2783\n",
      "Epoch 7/200\n",
      "4057/4057 [==============================] - 1s 176us/step - loss: 0.2662\n",
      "Epoch 8/200\n",
      "4057/4057 [==============================] - 1s 185us/step - loss: 0.2457\n",
      "Epoch 9/200\n",
      "4057/4057 [==============================] - 1s 201us/step - loss: 0.2339\n",
      "Epoch 10/200\n",
      "4057/4057 [==============================] - 1s 183us/step - loss: 0.2215\n",
      "Epoch 11/200\n",
      "4057/4057 [==============================] - 1s 168us/step - loss: 0.2071\n",
      "Epoch 12/200\n",
      "4057/4057 [==============================] - 1s 185us/step - loss: 0.1910\n",
      "Epoch 13/200\n",
      "4057/4057 [==============================] - 1s 170us/step - loss: 0.1843\n",
      "Epoch 14/200\n",
      "4057/4057 [==============================] - 1s 165us/step - loss: 0.1802\n",
      "Epoch 15/200\n",
      "4057/4057 [==============================] - 1s 161us/step - loss: 0.1695 0s - \n",
      "Epoch 16/200\n",
      "4057/4057 [==============================] - 1s 165us/step - loss: 0.1656\n",
      "Epoch 17/200\n",
      "4057/4057 [==============================] - 1s 166us/step - loss: 0.1552\n",
      "Epoch 18/200\n",
      "4057/4057 [==============================] - 1s 161us/step - loss: 0.1534\n",
      "Epoch 19/200\n",
      "4057/4057 [==============================] - 1s 176us/step - loss: 0.1464\n",
      "Epoch 20/200\n",
      "4057/4057 [==============================] - 1s 171us/step - loss: 0.1384\n",
      "Epoch 21/200\n",
      "4057/4057 [==============================] - 1s 164us/step - loss: 0.1344\n",
      "Epoch 22/200\n",
      "4057/4057 [==============================] - 1s 174us/step - loss: 0.1307\n",
      "Epoch 23/200\n",
      "4057/4057 [==============================] - 1s 159us/step - loss: 0.1302\n",
      "Epoch 24/200\n",
      "4057/4057 [==============================] - 1s 179us/step - loss: 0.1232\n",
      "Epoch 25/200\n",
      "4057/4057 [==============================] - 1s 163us/step - loss: 0.1292\n",
      "Epoch 26/200\n",
      "4057/4057 [==============================] - 1s 173us/step - loss: 0.1204\n",
      "Epoch 27/200\n",
      "4057/4057 [==============================] - 1s 173us/step - loss: 0.1233\n",
      "Epoch 28/200\n",
      "4057/4057 [==============================] - 1s 164us/step - loss: 0.1191\n",
      "Epoch 29/200\n",
      "4057/4057 [==============================] - 1s 173us/step - loss: 0.1177\n",
      "Epoch 30/200\n",
      "4057/4057 [==============================] - 1s 162us/step - loss: 0.1083\n",
      "Epoch 31/200\n",
      "4057/4057 [==============================] - 1s 164us/step - loss: 0.1131\n",
      "Epoch 32/200\n",
      "4057/4057 [==============================] - 1s 168us/step - loss: 0.1083\n",
      "Epoch 33/200\n",
      "4057/4057 [==============================] - 1s 173us/step - loss: 0.1053\n",
      "Epoch 34/200\n",
      "4057/4057 [==============================] - 1s 207us/step - loss: 0.1063\n",
      "Epoch 35/200\n",
      "4057/4057 [==============================] - 1s 203us/step - loss: 0.1065\n",
      "Epoch 36/200\n",
      "4057/4057 [==============================] - 1s 181us/step - loss: 0.0976\n",
      "Epoch 37/200\n",
      "4057/4057 [==============================] - 1s 183us/step - loss: 0.0990\n",
      "Epoch 38/200\n",
      "4057/4057 [==============================] - 1s 187us/step - loss: 0.0955\n",
      "Epoch 39/200\n",
      "4057/4057 [==============================] - 1s 184us/step - loss: 0.0979\n",
      "Epoch 40/200\n",
      "4057/4057 [==============================] - 1s 161us/step - loss: 0.0950\n",
      "Epoch 41/200\n",
      "4057/4057 [==============================] - 1s 164us/step - loss: 0.0917\n",
      "Epoch 42/200\n",
      "4057/4057 [==============================] - 1s 165us/step - loss: 0.0888\n",
      "Epoch 43/200\n",
      "4057/4057 [==============================] - 1s 175us/step - loss: 0.0947\n",
      "Epoch 44/200\n",
      "4057/4057 [==============================] - 1s 200us/step - loss: 0.0962\n",
      "Epoch 45/200\n",
      "4057/4057 [==============================] - 1s 190us/step - loss: 0.0864\n",
      "Epoch 46/200\n",
      "4057/4057 [==============================] - 1s 194us/step - loss: 0.0859\n",
      "Epoch 47/200\n",
      "4057/4057 [==============================] - 1s 184us/step - loss: 0.0877\n",
      "Epoch 48/200\n",
      "4057/4057 [==============================] - 1s 178us/step - loss: 0.0840\n",
      "Epoch 49/200\n",
      "4057/4057 [==============================] - 1s 191us/step - loss: 0.0841\n",
      "Epoch 50/200\n",
      "4057/4057 [==============================] - 1s 170us/step - loss: 0.0839\n",
      "Epoch 51/200\n",
      "4057/4057 [==============================] - 1s 165us/step - loss: 0.0820\n",
      "Epoch 52/200\n",
      "4057/4057 [==============================] - 1s 178us/step - loss: 0.0821\n",
      "Epoch 53/200\n",
      "4057/4057 [==============================] - 1s 180us/step - loss: 0.0797\n",
      "Epoch 54/200\n",
      "4057/4057 [==============================] - 1s 171us/step - loss: 0.0809\n",
      "Epoch 55/200\n",
      "4057/4057 [==============================] - 1s 166us/step - loss: 0.0795\n",
      "Epoch 56/200\n",
      "4057/4057 [==============================] - 1s 163us/step - loss: 0.0819\n",
      "Epoch 57/200\n",
      "4057/4057 [==============================] - 1s 165us/step - loss: 0.0788\n",
      "Epoch 58/200\n",
      "4057/4057 [==============================] - 1s 168us/step - loss: 0.0765\n",
      "Epoch 59/200\n",
      "4057/4057 [==============================] - 1s 162us/step - loss: 0.0752\n",
      "Epoch 60/200\n",
      "4057/4057 [==============================] - 1s 160us/step - loss: 0.0773\n",
      "Epoch 61/200\n",
      "4057/4057 [==============================] - 1s 177us/step - loss: 0.0747\n",
      "Epoch 62/200\n",
      "4057/4057 [==============================] - 1s 186us/step - loss: 0.0747\n",
      "Epoch 63/200\n",
      "4057/4057 [==============================] - 1s 171us/step - loss: 0.0756\n",
      "Epoch 64/200\n",
      "4057/4057 [==============================] - 1s 168us/step - loss: 0.0766\n",
      "Epoch 65/200\n",
      "4057/4057 [==============================] - 1s 162us/step - loss: 0.0741\n",
      "Epoch 66/200\n",
      "4057/4057 [==============================] - 1s 172us/step - loss: 0.0746\n",
      "Epoch 67/200\n",
      "4057/4057 [==============================] - 1s 177us/step - loss: 0.0722\n",
      "Epoch 68/200\n",
      "4057/4057 [==============================] - 1s 162us/step - loss: 0.0697\n",
      "Epoch 69/200\n",
      "4057/4057 [==============================] - 1s 160us/step - loss: 0.0671\n",
      "Epoch 70/200\n",
      "4057/4057 [==============================] - 1s 164us/step - loss: 0.0704\n",
      "Epoch 71/200\n",
      "4057/4057 [==============================] - 1s 193us/step - loss: 0.0682\n",
      "Epoch 72/200\n",
      "4057/4057 [==============================] - 1s 171us/step - loss: 0.0691\n",
      "Epoch 73/200\n",
      "4057/4057 [==============================] - 1s 164us/step - loss: 0.0660\n",
      "Epoch 74/200\n",
      "4057/4057 [==============================] - 1s 183us/step - loss: 0.0655\n",
      "Epoch 75/200\n",
      "4057/4057 [==============================] - 1s 177us/step - loss: 0.0680\n",
      "Epoch 76/200\n",
      "4057/4057 [==============================] - 1s 170us/step - loss: 0.0677\n",
      "Epoch 77/200\n",
      "4057/4057 [==============================] - 1s 168us/step - loss: 0.0666\n",
      "Epoch 78/200\n",
      "4057/4057 [==============================] - 1s 172us/step - loss: 0.0675\n",
      "Epoch 79/200\n",
      "4057/4057 [==============================] - 1s 164us/step - loss: 0.0651\n",
      "Epoch 80/200\n",
      "4057/4057 [==============================] - 1s 167us/step - loss: 0.0670\n",
      "Epoch 81/200\n",
      "4057/4057 [==============================] - 1s 176us/step - loss: 0.0635\n",
      "Epoch 82/200\n",
      "4057/4057 [==============================] - 1s 170us/step - loss: 0.0618\n",
      "Epoch 83/200\n",
      "4057/4057 [==============================] - 1s 197us/step - loss: 0.0597\n",
      "Epoch 84/200\n",
      "4057/4057 [==============================] - 1s 174us/step - loss: 0.0643\n",
      "Epoch 85/200\n",
      "4057/4057 [==============================] - 1s 172us/step - loss: 0.0605\n",
      "Epoch 86/200\n",
      "4057/4057 [==============================] - 1s 166us/step - loss: 0.0630\n",
      "Epoch 87/200\n",
      "4057/4057 [==============================] - 1s 173us/step - loss: 0.0611\n",
      "Epoch 88/200\n",
      "4057/4057 [==============================] - 1s 162us/step - loss: 0.0630\n",
      "Epoch 89/200\n",
      "4057/4057 [==============================] - 1s 174us/step - loss: 0.0634\n",
      "Epoch 90/200\n",
      "4057/4057 [==============================] - 1s 185us/step - loss: 0.0621\n",
      "Epoch 91/200\n",
      "4057/4057 [==============================] - 1s 173us/step - loss: 0.0587\n",
      "Epoch 92/200\n",
      "4057/4057 [==============================] - 1s 178us/step - loss: 0.0615\n",
      "Epoch 93/200\n",
      "4057/4057 [==============================] - 1s 167us/step - loss: 0.0599\n",
      "Epoch 94/200\n",
      "4057/4057 [==============================] - 1s 153us/step - loss: 0.0606\n",
      "Epoch 95/200\n"
     ]
    },
    {
     "name": "stdout",
     "output_type": "stream",
     "text": [
      "4057/4057 [==============================] - 1s 149us/step - loss: 0.0599\n",
      "Epoch 96/200\n",
      "4057/4057 [==============================] - 1s 154us/step - loss: 0.0600\n",
      "Epoch 97/200\n",
      "4057/4057 [==============================] - 1s 153us/step - loss: 0.0603\n",
      "Epoch 98/200\n",
      "4057/4057 [==============================] - 1s 154us/step - loss: 0.0586\n",
      "Epoch 99/200\n",
      "4057/4057 [==============================] - 1s 149us/step - loss: 0.0552\n",
      "Epoch 100/200\n",
      "4057/4057 [==============================] - 1s 147us/step - loss: 0.0558\n",
      "Epoch 101/200\n",
      "4057/4057 [==============================] - 1s 151us/step - loss: 0.0560\n",
      "Epoch 102/200\n",
      "4057/4057 [==============================] - 1s 155us/step - loss: 0.0581\n",
      "Epoch 103/200\n",
      "4057/4057 [==============================] - 1s 148us/step - loss: 0.0557\n",
      "Epoch 104/200\n",
      "4057/4057 [==============================] - 1s 152us/step - loss: 0.0587\n",
      "Epoch 105/200\n",
      "4057/4057 [==============================] - 1s 155us/step - loss: 0.0536\n",
      "Epoch 106/200\n",
      "4057/4057 [==============================] - 1s 150us/step - loss: 0.0574\n",
      "Epoch 107/200\n",
      "4057/4057 [==============================] - 1s 158us/step - loss: 0.0576\n",
      "Epoch 108/200\n",
      "4057/4057 [==============================] - 1s 144us/step - loss: 0.0559\n",
      "Epoch 109/200\n",
      "4057/4057 [==============================] - 1s 150us/step - loss: 0.0564\n",
      "Epoch 110/200\n",
      "4057/4057 [==============================] - 1s 153us/step - loss: 0.0527\n",
      "Epoch 111/200\n",
      "4057/4057 [==============================] - 1s 149us/step - loss: 0.0559\n",
      "Epoch 112/200\n",
      "4057/4057 [==============================] - 1s 150us/step - loss: 0.0544\n",
      "Epoch 113/200\n",
      "4057/4057 [==============================] - 1s 149us/step - loss: 0.0576\n",
      "Epoch 114/200\n",
      "4057/4057 [==============================] - 1s 150us/step - loss: 0.0566\n",
      "Epoch 115/200\n",
      "4057/4057 [==============================] - 1s 152us/step - loss: 0.0545\n",
      "Epoch 116/200\n",
      "4057/4057 [==============================] - 1s 151us/step - loss: 0.0541\n",
      "Epoch 117/200\n",
      "4057/4057 [==============================] - 1s 148us/step - loss: 0.0517\n",
      "Epoch 118/200\n",
      "4057/4057 [==============================] - 1s 149us/step - loss: 0.0545\n",
      "Epoch 119/200\n",
      "4057/4057 [==============================] - 1s 146us/step - loss: 0.0517\n",
      "Epoch 120/200\n",
      "4057/4057 [==============================] - 1s 152us/step - loss: 0.0507\n",
      "Epoch 121/200\n",
      "4057/4057 [==============================] - 1s 148us/step - loss: 0.0541\n",
      "Epoch 122/200\n",
      "4057/4057 [==============================] - 1s 163us/step - loss: 0.0521\n",
      "Epoch 123/200\n",
      "4057/4057 [==============================] - 1s 149us/step - loss: 0.0524\n",
      "Epoch 124/200\n",
      "4057/4057 [==============================] - 1s 150us/step - loss: 0.0505\n",
      "Epoch 125/200\n",
      "4057/4057 [==============================] - 1s 151us/step - loss: 0.0487\n",
      "Epoch 126/200\n",
      "4057/4057 [==============================] - 1s 150us/step - loss: 0.0507\n",
      "Epoch 127/200\n",
      "4057/4057 [==============================] - 1s 151us/step - loss: 0.0524\n",
      "Epoch 128/200\n",
      "4057/4057 [==============================] - 1s 150us/step - loss: 0.0526\n",
      "Epoch 129/200\n",
      "4057/4057 [==============================] - 1s 152us/step - loss: 0.0497\n",
      "Epoch 130/200\n",
      "4057/4057 [==============================] - 1s 148us/step - loss: 0.0516\n",
      "Epoch 131/200\n",
      "4057/4057 [==============================] - 1s 155us/step - loss: 0.0481\n",
      "Epoch 132/200\n",
      "4057/4057 [==============================] - 1s 154us/step - loss: 0.0527\n",
      "Epoch 133/200\n",
      "4057/4057 [==============================] - 1s 150us/step - loss: 0.0517\n",
      "Epoch 134/200\n",
      "4057/4057 [==============================] - 1s 151us/step - loss: 0.0499\n",
      "Epoch 135/200\n",
      "4057/4057 [==============================] - 1s 146us/step - loss: 0.0500\n",
      "Epoch 136/200\n",
      "4057/4057 [==============================] - 1s 149us/step - loss: 0.0491\n",
      "Epoch 137/200\n",
      "4057/4057 [==============================] - 1s 148us/step - loss: 0.0496\n",
      "Epoch 138/200\n",
      "4057/4057 [==============================] - 1s 154us/step - loss: 0.0494\n",
      "Epoch 139/200\n",
      "4057/4057 [==============================] - 1s 149us/step - loss: 0.0539\n",
      "Epoch 140/200\n",
      "4057/4057 [==============================] - 1s 155us/step - loss: 0.0518\n",
      "Epoch 141/200\n",
      "4057/4057 [==============================] - 1s 153us/step - loss: 0.0498\n",
      "Epoch 142/200\n",
      "4057/4057 [==============================] - 1s 148us/step - loss: 0.0475\n",
      "Epoch 143/200\n",
      "4057/4057 [==============================] - 1s 153us/step - loss: 0.0473\n",
      "Epoch 144/200\n",
      "4057/4057 [==============================] - 1s 154us/step - loss: 0.0457\n",
      "Epoch 145/200\n",
      "4057/4057 [==============================] - 1s 155us/step - loss: 0.0463\n",
      "Epoch 146/200\n",
      "4057/4057 [==============================] - 1s 155us/step - loss: 0.0446\n",
      "Epoch 147/200\n",
      "4057/4057 [==============================] - 1s 145us/step - loss: 0.0430\n",
      "Epoch 148/200\n",
      "4057/4057 [==============================] - 1s 149us/step - loss: 0.0471\n",
      "Epoch 149/200\n",
      "4057/4057 [==============================] - 1s 148us/step - loss: 0.0484\n",
      "Epoch 150/200\n",
      "4057/4057 [==============================] - 1s 154us/step - loss: 0.0450\n",
      "Epoch 151/200\n",
      "4057/4057 [==============================] - 1s 151us/step - loss: 0.0450\n",
      "Epoch 152/200\n",
      "4057/4057 [==============================] - 1s 155us/step - loss: 0.0466\n",
      "Epoch 153/200\n",
      "4057/4057 [==============================] - 1s 143us/step - loss: 0.0455\n",
      "Epoch 154/200\n",
      "4057/4057 [==============================] - 1s 149us/step - loss: 0.0422\n",
      "Epoch 155/200\n",
      "4057/4057 [==============================] - 1s 141us/step - loss: 0.0483\n",
      "Epoch 156/200\n",
      "4057/4057 [==============================] - 1s 146us/step - loss: 0.0447\n",
      "Epoch 157/200\n",
      "4057/4057 [==============================] - 1s 140us/step - loss: 0.0457\n",
      "Epoch 158/200\n",
      "4057/4057 [==============================] - 1s 144us/step - loss: 0.0473\n",
      "Epoch 159/200\n",
      "4057/4057 [==============================] - 1s 145us/step - loss: 0.0453\n",
      "Epoch 160/200\n",
      "4057/4057 [==============================] - 1s 144us/step - loss: 0.0436\n",
      "Epoch 161/200\n",
      "4057/4057 [==============================] - 1s 147us/step - loss: 0.0442\n",
      "Epoch 162/200\n",
      "4057/4057 [==============================] - 1s 142us/step - loss: 0.0468\n",
      "Epoch 163/200\n",
      "4057/4057 [==============================] - 1s 143us/step - loss: 0.0485\n",
      "Epoch 164/200\n",
      "4057/4057 [==============================] - 1s 143us/step - loss: 0.0450\n",
      "Epoch 165/200\n",
      "4057/4057 [==============================] - 1s 145us/step - loss: 0.0440\n",
      "Epoch 166/200\n",
      "4057/4057 [==============================] - 1s 141us/step - loss: 0.0465\n",
      "Epoch 167/200\n",
      "4057/4057 [==============================] - 1s 144us/step - loss: 0.0434\n",
      "Epoch 168/200\n",
      "4057/4057 [==============================] - 1s 150us/step - loss: 0.0457\n",
      "Epoch 169/200\n",
      "4057/4057 [==============================] - 1s 157us/step - loss: 0.0442\n",
      "Epoch 170/200\n",
      "4057/4057 [==============================] - 1s 181us/step - loss: 0.0453\n",
      "Epoch 171/200\n",
      "4057/4057 [==============================] - 1s 172us/step - loss: 0.0415\n",
      "Epoch 172/200\n",
      "4057/4057 [==============================] - 1s 165us/step - loss: 0.0428\n",
      "Epoch 173/200\n",
      "4057/4057 [==============================] - 1s 161us/step - loss: 0.0434\n",
      "Epoch 174/200\n",
      "4057/4057 [==============================] - 1s 154us/step - loss: 0.0430\n",
      "Epoch 175/200\n",
      "4057/4057 [==============================] - 1s 161us/step - loss: 0.0411\n",
      "Epoch 176/200\n",
      "4057/4057 [==============================] - 1s 162us/step - loss: 0.0392\n",
      "Epoch 177/200\n",
      "4057/4057 [==============================] - 1s 157us/step - loss: 0.0412\n",
      "Epoch 178/200\n",
      "4057/4057 [==============================] - 1s 158us/step - loss: 0.0423\n",
      "Epoch 179/200\n",
      "4057/4057 [==============================] - 1s 154us/step - loss: 0.0405\n",
      "Epoch 180/200\n",
      "4057/4057 [==============================] - 1s 166us/step - loss: 0.0411\n",
      "Epoch 181/200\n",
      "4057/4057 [==============================] - 1s 162us/step - loss: 0.0411\n",
      "Epoch 182/200\n",
      "4057/4057 [==============================] - 1s 166us/step - loss: 0.0436\n",
      "Epoch 183/200\n",
      "4057/4057 [==============================] - 1s 175us/step - loss: 0.0404\n",
      "Epoch 184/200\n",
      "4057/4057 [==============================] - 1s 173us/step - loss: 0.0397\n",
      "Epoch 185/200\n",
      "4057/4057 [==============================] - 1s 162us/step - loss: 0.0412\n",
      "Epoch 186/200\n",
      "4057/4057 [==============================] - 1s 163us/step - loss: 0.0403\n",
      "Epoch 187/200\n",
      "4057/4057 [==============================] - 1s 157us/step - loss: 0.0416\n",
      "Epoch 188/200\n"
     ]
    },
    {
     "name": "stdout",
     "output_type": "stream",
     "text": [
      "4057/4057 [==============================] - 1s 158us/step - loss: 0.0436\n",
      "Epoch 189/200\n",
      "4057/4057 [==============================] - 1s 157us/step - loss: 0.0421\n",
      "Epoch 190/200\n",
      "4057/4057 [==============================] - 1s 161us/step - loss: 0.0407\n",
      "Epoch 191/200\n",
      "4057/4057 [==============================] - 1s 159us/step - loss: 0.0381\n",
      "Epoch 192/200\n",
      "4057/4057 [==============================] - 1s 161us/step - loss: 0.0392\n",
      "Epoch 193/200\n",
      "4057/4057 [==============================] - 1s 160us/step - loss: 0.0401\n",
      "Epoch 194/200\n",
      "4057/4057 [==============================] - 1s 152us/step - loss: 0.0417\n",
      "Epoch 195/200\n",
      "4057/4057 [==============================] - 1s 150us/step - loss: 0.0378\n",
      "Epoch 196/200\n",
      "4057/4057 [==============================] - 1s 151us/step - loss: 0.0404\n",
      "Epoch 197/200\n",
      "4057/4057 [==============================] - 1s 150us/step - loss: 0.0400\n",
      "Epoch 198/200\n",
      "4057/4057 [==============================] - 1s 153us/step - loss: 0.0421\n",
      "Epoch 199/200\n",
      "4057/4057 [==============================] - 1s 152us/step - loss: 0.0391\n",
      "Epoch 200/200\n",
      "4057/4057 [==============================] - 1s 153us/step - loss: 0.0425\n"
     ]
    },
    {
     "data": {
      "text/plain": [
       "<keras.callbacks.History at 0x1888b9350>"
      ]
     },
     "execution_count": 335,
     "metadata": {},
     "output_type": "execute_result"
    }
   ],
   "source": [
    "convmodel = conv_model()\n",
    "convmodel.fit(train_x, train_y, batch_size=40, epochs=200)"
   ]
  },
  {
   "cell_type": "code",
   "execution_count": 273,
   "metadata": {},
   "outputs": [
    {
     "name": "stdout",
     "output_type": "stream",
     "text": [
      "451/451 [==============================] - 1s 2ms/step\n"
     ]
    },
    {
     "data": {
      "text/plain": [
       "0.7278170822861454"
      ]
     },
     "execution_count": 273,
     "metadata": {},
     "output_type": "execute_result"
    }
   ],
   "source": [
    "model.evaluate(test_x, test_y)"
   ]
  },
  {
   "cell_type": "code",
   "execution_count": 336,
   "metadata": {},
   "outputs": [
    {
     "name": "stdout",
     "output_type": "stream",
     "text": [
      "451/451 [==============================] - 1s 2ms/step\n"
     ]
    },
    {
     "data": {
      "text/plain": [
       "0.48967501355909193"
      ]
     },
     "execution_count": 336,
     "metadata": {},
     "output_type": "execute_result"
    }
   ],
   "source": [
    "convmodel.evaluate(test_x, test_y)"
   ]
  },
  {
   "cell_type": "code",
   "execution_count": 206,
   "metadata": {},
   "outputs": [
    {
     "data": {
      "text/plain": [
       "(array([[0.48488227]], dtype=float32), -0.4082650891994917)"
      ]
     },
     "execution_count": 206,
     "metadata": {},
     "output_type": "execute_result"
    }
   ],
   "source": [
    "model.predict(vectors[3501:3502]), labels[3501]"
   ]
  },
  {
   "cell_type": "code",
   "execution_count": 210,
   "metadata": {},
   "outputs": [
    {
     "data": {
      "text/plain": [
       "(0.7231482885418455, 1.1360368427613385)"
      ]
     },
     "execution_count": 210,
     "metadata": {},
     "output_type": "execute_result"
    }
   ],
   "source": [
    "np.sqrt(0.5229434472210003), np.mean(labels), np."
   ]
  },
  {
   "cell_type": "code",
   "execution_count": 142,
   "metadata": {},
   "outputs": [
    {
     "data": {
      "text/plain": [
       "(array([-0.46712678, -0.35881006, -0.46925936, -0.35660461, -0.45682324,\n",
       "        -0.39039968, -0.47390782, -0.55036171, -0.47766049, -0.53645682]),\n",
       " -0.4606693190000001)"
      ]
     },
     "execution_count": 142,
     "metadata": {},
     "output_type": "execute_result"
    }
   ],
   "source": [
    "results, np.array([-0.45823179, -0.35380619, -0.47139098, -0.38037349, -0.43953926,\n",
    "       -0.39756297, -0.47314774, -0.55682546, -0.51937299, -0.55644232]).mean()"
   ]
  },
  {
   "cell_type": "code",
   "execution_count": 145,
   "metadata": {},
   "outputs": [
    {
     "data": {
      "text/plain": [
       "-0.462053272"
      ]
     },
     "execution_count": 145,
     "metadata": {},
     "output_type": "execute_result"
    }
   ],
   "source": [
    "np.array([-0.46031729, -0.38157843, -0.4546283 , -0.36382549, -0.46000479,\n",
    "       -0.43178365, -0.46529081, -0.53016265, -0.52939475, -0.54354656]).mean()"
   ]
  },
  {
   "cell_type": "code",
   "execution_count": null,
   "metadata": {},
   "outputs": [],
   "source": [
    "train_x = "
   ]
  },
  {
   "cell_type": "code",
   "execution_count": null,
   "metadata": {},
   "outputs": [],
   "source": []
  },
  {
   "cell_type": "code",
   "execution_count": null,
   "metadata": {},
   "outputs": [],
   "source": []
  },
  {
   "cell_type": "code",
   "execution_count": 60,
   "metadata": {
    "collapsed": true
   },
   "outputs": [
    {
     "name": "stdout",
     "output_type": "stream",
     "text": [
      "INFO:tensorflow:Using default config.\n",
      "WARNING:tensorflow:Using temporary folder as model directory: /var/folders/c5/1zp_dmh96q16n8vk97j4jk4c0000gn/T/tmpHO7Ifj\n",
      "INFO:tensorflow:Using config: {'_save_checkpoints_secs': 600, '_session_config': None, '_keep_checkpoint_max': 5, '_task_type': 'worker', '_global_id_in_cluster': 0, '_is_chief': True, '_cluster_spec': <tensorflow.python.training.server_lib.ClusterSpec object at 0x10ef69b90>, '_evaluation_master': '', '_save_checkpoints_steps': None, '_keep_checkpoint_every_n_hours': 10000, '_service': None, '_num_ps_replicas': 0, '_tf_random_seed': None, '_master': '', '_num_worker_replicas': 1, '_task_id': 0, '_log_step_count_steps': 100, '_model_dir': '/var/folders/c5/1zp_dmh96q16n8vk97j4jk4c0000gn/T/tmpHO7Ifj', '_save_summary_steps': 100}\n",
      "INFO:tensorflow:Calling model_fn.\n",
      "INFO:tensorflow:Done calling model_fn.\n",
      "INFO:tensorflow:Create CheckpointSaverHook.\n",
      "INFO:tensorflow:Graph was finalized.\n",
      "INFO:tensorflow:Running local_init_op.\n",
      "INFO:tensorflow:Done running local_init_op.\n"
     ]
    },
    {
     "ename": "InvalidArgumentError",
     "evalue": "Input to reshape is a tensor with 106858 values, but the requested shape has 101\n\t [[Node: dnn/input_from_feature_columns/input_layer/sequence_vectors/Reshape = Reshape[T=DT_FLOAT, Tshape=DT_INT32, _device=\"/job:localhost/replica:0/task:0/device:CPU:0\"](dnn/input_from_feature_columns/input_layer/sequence_vectors/ToFloat, dnn/input_from_feature_columns/input_layer/sequence_vectors/Reshape/shape)]]\n\nCaused by op u'dnn/input_from_feature_columns/input_layer/sequence_vectors/Reshape', defined at:\n  File \"/Users/zswitten/.pyenv/versions/2.7.12/lib/python2.7/runpy.py\", line 174, in _run_module_as_main\n    \"__main__\", fname, loader, pkg_name)\n  File \"/Users/zswitten/.pyenv/versions/2.7.12/lib/python2.7/runpy.py\", line 72, in _run_code\n    exec code in run_globals\n  File \"/Users/zswitten/.pyenv/versions/2.7.12/lib/python2.7/site-packages/ipykernel_launcher.py\", line 16, in <module>\n    app.launch_new_instance()\n  File \"/Users/zswitten/.pyenv/versions/2.7.12/lib/python2.7/site-packages/traitlets/config/application.py\", line 658, in launch_instance\n    app.start()\n  File \"/Users/zswitten/.pyenv/versions/2.7.12/lib/python2.7/site-packages/ipykernel/kernelapp.py\", line 477, in start\n    ioloop.IOLoop.instance().start()\n  File \"/Users/zswitten/.pyenv/versions/2.7.12/lib/python2.7/site-packages/zmq/eventloop/ioloop.py\", line 177, in start\n    super(ZMQIOLoop, self).start()\n  File \"/Users/zswitten/.pyenv/versions/2.7.12/lib/python2.7/site-packages/tornado/ioloop.py\", line 888, in start\n    handler_func(fd_obj, events)\n  File \"/Users/zswitten/.pyenv/versions/2.7.12/lib/python2.7/site-packages/tornado/stack_context.py\", line 277, in null_wrapper\n    return fn(*args, **kwargs)\n  File \"/Users/zswitten/.pyenv/versions/2.7.12/lib/python2.7/site-packages/zmq/eventloop/zmqstream.py\", line 440, in _handle_events\n    self._handle_recv()\n  File \"/Users/zswitten/.pyenv/versions/2.7.12/lib/python2.7/site-packages/zmq/eventloop/zmqstream.py\", line 472, in _handle_recv\n    self._run_callback(callback, msg)\n  File \"/Users/zswitten/.pyenv/versions/2.7.12/lib/python2.7/site-packages/zmq/eventloop/zmqstream.py\", line 414, in _run_callback\n    callback(*args, **kwargs)\n  File \"/Users/zswitten/.pyenv/versions/2.7.12/lib/python2.7/site-packages/tornado/stack_context.py\", line 277, in null_wrapper\n    return fn(*args, **kwargs)\n  File \"/Users/zswitten/.pyenv/versions/2.7.12/lib/python2.7/site-packages/ipykernel/kernelbase.py\", line 283, in dispatcher\n    return self.dispatch_shell(stream, msg)\n  File \"/Users/zswitten/.pyenv/versions/2.7.12/lib/python2.7/site-packages/ipykernel/kernelbase.py\", line 235, in dispatch_shell\n    handler(stream, idents, msg)\n  File \"/Users/zswitten/.pyenv/versions/2.7.12/lib/python2.7/site-packages/ipykernel/kernelbase.py\", line 399, in execute_request\n    user_expressions, allow_stdin)\n  File \"/Users/zswitten/.pyenv/versions/2.7.12/lib/python2.7/site-packages/ipykernel/ipkernel.py\", line 196, in do_execute\n    res = shell.run_cell(code, store_history=store_history, silent=silent)\n  File \"/Users/zswitten/.pyenv/versions/2.7.12/lib/python2.7/site-packages/ipykernel/zmqshell.py\", line 533, in run_cell\n    return super(ZMQInteractiveShell, self).run_cell(*args, **kwargs)\n  File \"/Users/zswitten/.pyenv/versions/2.7.12/lib/python2.7/site-packages/IPython/core/interactiveshell.py\", line 2718, in run_cell\n    interactivity=interactivity, compiler=compiler, result=result)\n  File \"/Users/zswitten/.pyenv/versions/2.7.12/lib/python2.7/site-packages/IPython/core/interactiveshell.py\", line 2822, in run_ast_nodes\n    if self.run_code(code, result):\n  File \"/Users/zswitten/.pyenv/versions/2.7.12/lib/python2.7/site-packages/IPython/core/interactiveshell.py\", line 2882, in run_code\n    exec(code_obj, self.user_global_ns, self.user_ns)\n  File \"<ipython-input-60-234b419c7bff>\", line 20, in <module>\n    steps=1\n  File \"/Users/zswitten/.pyenv/versions/2.7.12/lib/python2.7/site-packages/tensorflow/python/estimator/estimator.py\", line 355, in train\n    loss = self._train_model(input_fn, hooks, saving_listeners)\n  File \"/Users/zswitten/.pyenv/versions/2.7.12/lib/python2.7/site-packages/tensorflow/python/estimator/estimator.py\", line 824, in _train_model\n    features, labels, model_fn_lib.ModeKeys.TRAIN, self.config)\n  File \"/Users/zswitten/.pyenv/versions/2.7.12/lib/python2.7/site-packages/tensorflow/python/estimator/estimator.py\", line 805, in _call_model_fn\n    model_fn_results = self._model_fn(features=features, **kwargs)\n  File \"/Users/zswitten/.pyenv/versions/2.7.12/lib/python2.7/site-packages/tensorflow/python/estimator/canned/dnn.py\", line 501, in _model_fn\n    config=config)\n  File \"/Users/zswitten/.pyenv/versions/2.7.12/lib/python2.7/site-packages/tensorflow/python/estimator/canned/dnn.py\", line 184, in _dnn_model_fn\n    logits = logit_fn(features=features, mode=mode)\n  File \"/Users/zswitten/.pyenv/versions/2.7.12/lib/python2.7/site-packages/tensorflow/python/estimator/canned/dnn.py\", line 92, in dnn_logit_fn\n    features=features, feature_columns=feature_columns)\n  File \"/Users/zswitten/.pyenv/versions/2.7.12/lib/python2.7/site-packages/tensorflow/python/feature_column/feature_column.py\", line 274, in input_layer\n    trainable, cols_to_vars)\n  File \"/Users/zswitten/.pyenv/versions/2.7.12/lib/python2.7/site-packages/tensorflow/python/feature_column/feature_column.py\", line 203, in _internal_input_layer\n    array_ops.reshape(tensor, shape=(batch_size, num_elements)))\n  File \"/Users/zswitten/.pyenv/versions/2.7.12/lib/python2.7/site-packages/tensorflow/python/ops/gen_array_ops.py\", line 5782, in reshape\n    \"Reshape\", tensor=tensor, shape=shape, name=name)\n  File \"/Users/zswitten/.pyenv/versions/2.7.12/lib/python2.7/site-packages/tensorflow/python/framework/op_def_library.py\", line 787, in _apply_op_helper\n    op_def=op_def)\n  File \"/Users/zswitten/.pyenv/versions/2.7.12/lib/python2.7/site-packages/tensorflow/python/framework/ops.py\", line 3290, in create_op\n    op_def=op_def)\n  File \"/Users/zswitten/.pyenv/versions/2.7.12/lib/python2.7/site-packages/tensorflow/python/framework/ops.py\", line 1654, in __init__\n    self._traceback = self._graph._extract_stack()  # pylint: disable=protected-access\n\nInvalidArgumentError (see above for traceback): Input to reshape is a tensor with 106858 values, but the requested shape has 101\n\t [[Node: dnn/input_from_feature_columns/input_layer/sequence_vectors/Reshape = Reshape[T=DT_FLOAT, Tshape=DT_INT32, _device=\"/job:localhost/replica:0/task:0/device:CPU:0\"](dnn/input_from_feature_columns/input_layer/sequence_vectors/ToFloat, dnn/input_from_feature_columns/input_layer/sequence_vectors/Reshape/shape)]]\n",
     "output_type": "error",
     "traceback": [
      "\u001b[0;31m---------------------------------------------------------------------------\u001b[0m",
      "\u001b[0;31mInvalidArgumentError\u001b[0m                      Traceback (most recent call last)",
      "\u001b[0;32m<ipython-input-60-234b419c7bff>\u001b[0m in \u001b[0;36m<module>\u001b[0;34m()\u001b[0m\n\u001b[1;32m     18\u001b[0m     classifier.train(\n\u001b[1;32m     19\u001b[0m         \u001b[0minput_fn\u001b[0m\u001b[0;34m=\u001b[0m\u001b[0;32mlambda\u001b[0m\u001b[0;34m:\u001b[0m\u001b[0mtrain_input_fn\u001b[0m\u001b[0;34m(\u001b[0m\u001b[0mdataset\u001b[0m\u001b[0;34m)\u001b[0m\u001b[0;34m,\u001b[0m\u001b[0;34m\u001b[0m\u001b[0m\n\u001b[0;32m---> 20\u001b[0;31m         \u001b[0msteps\u001b[0m\u001b[0;34m=\u001b[0m\u001b[0;36m1\u001b[0m\u001b[0;34m\u001b[0m\u001b[0m\n\u001b[0m\u001b[1;32m     21\u001b[0m     )\n",
      "\u001b[0;32m/Users/zswitten/.pyenv/versions/2.7.12/lib/python2.7/site-packages/tensorflow/python/estimator/estimator.pyc\u001b[0m in \u001b[0;36mtrain\u001b[0;34m(self, input_fn, hooks, steps, max_steps, saving_listeners)\u001b[0m\n\u001b[1;32m    353\u001b[0m \u001b[0;34m\u001b[0m\u001b[0m\n\u001b[1;32m    354\u001b[0m     \u001b[0msaving_listeners\u001b[0m \u001b[0;34m=\u001b[0m \u001b[0m_check_listeners_type\u001b[0m\u001b[0;34m(\u001b[0m\u001b[0msaving_listeners\u001b[0m\u001b[0;34m)\u001b[0m\u001b[0;34m\u001b[0m\u001b[0m\n\u001b[0;32m--> 355\u001b[0;31m     \u001b[0mloss\u001b[0m \u001b[0;34m=\u001b[0m \u001b[0mself\u001b[0m\u001b[0;34m.\u001b[0m\u001b[0m_train_model\u001b[0m\u001b[0;34m(\u001b[0m\u001b[0minput_fn\u001b[0m\u001b[0;34m,\u001b[0m \u001b[0mhooks\u001b[0m\u001b[0;34m,\u001b[0m \u001b[0msaving_listeners\u001b[0m\u001b[0;34m)\u001b[0m\u001b[0;34m\u001b[0m\u001b[0m\n\u001b[0m\u001b[1;32m    356\u001b[0m     \u001b[0mlogging\u001b[0m\u001b[0;34m.\u001b[0m\u001b[0minfo\u001b[0m\u001b[0;34m(\u001b[0m\u001b[0;34m'Loss for final step: %s.'\u001b[0m\u001b[0;34m,\u001b[0m \u001b[0mloss\u001b[0m\u001b[0;34m)\u001b[0m\u001b[0;34m\u001b[0m\u001b[0m\n\u001b[1;32m    357\u001b[0m     \u001b[0;32mreturn\u001b[0m \u001b[0mself\u001b[0m\u001b[0;34m\u001b[0m\u001b[0m\n",
      "\u001b[0;32m/Users/zswitten/.pyenv/versions/2.7.12/lib/python2.7/site-packages/tensorflow/python/estimator/estimator.pyc\u001b[0m in \u001b[0;36m_train_model\u001b[0;34m(self, input_fn, hooks, saving_listeners)\u001b[0m\n\u001b[1;32m    901\u001b[0m         \u001b[0mloss\u001b[0m \u001b[0;34m=\u001b[0m \u001b[0mNone\u001b[0m\u001b[0;34m\u001b[0m\u001b[0m\n\u001b[1;32m    902\u001b[0m         \u001b[0;32mwhile\u001b[0m \u001b[0;32mnot\u001b[0m \u001b[0mmon_sess\u001b[0m\u001b[0;34m.\u001b[0m\u001b[0mshould_stop\u001b[0m\u001b[0;34m(\u001b[0m\u001b[0;34m)\u001b[0m\u001b[0;34m:\u001b[0m\u001b[0;34m\u001b[0m\u001b[0m\n\u001b[0;32m--> 903\u001b[0;31m           \u001b[0m_\u001b[0m\u001b[0;34m,\u001b[0m \u001b[0mloss\u001b[0m \u001b[0;34m=\u001b[0m \u001b[0mmon_sess\u001b[0m\u001b[0;34m.\u001b[0m\u001b[0mrun\u001b[0m\u001b[0;34m(\u001b[0m\u001b[0;34m[\u001b[0m\u001b[0mestimator_spec\u001b[0m\u001b[0;34m.\u001b[0m\u001b[0mtrain_op\u001b[0m\u001b[0;34m,\u001b[0m \u001b[0mestimator_spec\u001b[0m\u001b[0;34m.\u001b[0m\u001b[0mloss\u001b[0m\u001b[0;34m]\u001b[0m\u001b[0;34m)\u001b[0m\u001b[0;34m\u001b[0m\u001b[0m\n\u001b[0m\u001b[1;32m    904\u001b[0m       \u001b[0;32mreturn\u001b[0m \u001b[0mloss\u001b[0m\u001b[0;34m\u001b[0m\u001b[0m\n\u001b[1;32m    905\u001b[0m \u001b[0;34m\u001b[0m\u001b[0m\n",
      "\u001b[0;32m/Users/zswitten/.pyenv/versions/2.7.12/lib/python2.7/site-packages/tensorflow/python/training/monitored_session.pyc\u001b[0m in \u001b[0;36mrun\u001b[0;34m(self, fetches, feed_dict, options, run_metadata)\u001b[0m\n\u001b[1;32m    544\u001b[0m                           \u001b[0mfeed_dict\u001b[0m\u001b[0;34m=\u001b[0m\u001b[0mfeed_dict\u001b[0m\u001b[0;34m,\u001b[0m\u001b[0;34m\u001b[0m\u001b[0m\n\u001b[1;32m    545\u001b[0m                           \u001b[0moptions\u001b[0m\u001b[0;34m=\u001b[0m\u001b[0moptions\u001b[0m\u001b[0;34m,\u001b[0m\u001b[0;34m\u001b[0m\u001b[0m\n\u001b[0;32m--> 546\u001b[0;31m                           run_metadata=run_metadata)\n\u001b[0m\u001b[1;32m    547\u001b[0m \u001b[0;34m\u001b[0m\u001b[0m\n\u001b[1;32m    548\u001b[0m   \u001b[0;32mdef\u001b[0m \u001b[0mrun_step_fn\u001b[0m\u001b[0;34m(\u001b[0m\u001b[0mself\u001b[0m\u001b[0;34m,\u001b[0m \u001b[0mstep_fn\u001b[0m\u001b[0;34m)\u001b[0m\u001b[0;34m:\u001b[0m\u001b[0;34m\u001b[0m\u001b[0m\n",
      "\u001b[0;32m/Users/zswitten/.pyenv/versions/2.7.12/lib/python2.7/site-packages/tensorflow/python/training/monitored_session.pyc\u001b[0m in \u001b[0;36mrun\u001b[0;34m(self, fetches, feed_dict, options, run_metadata)\u001b[0m\n\u001b[1;32m   1020\u001b[0m                               \u001b[0mfeed_dict\u001b[0m\u001b[0;34m=\u001b[0m\u001b[0mfeed_dict\u001b[0m\u001b[0;34m,\u001b[0m\u001b[0;34m\u001b[0m\u001b[0m\n\u001b[1;32m   1021\u001b[0m                               \u001b[0moptions\u001b[0m\u001b[0;34m=\u001b[0m\u001b[0moptions\u001b[0m\u001b[0;34m,\u001b[0m\u001b[0;34m\u001b[0m\u001b[0m\n\u001b[0;32m-> 1022\u001b[0;31m                               run_metadata=run_metadata)\n\u001b[0m\u001b[1;32m   1023\u001b[0m       \u001b[0;32mexcept\u001b[0m \u001b[0m_PREEMPTION_ERRORS\u001b[0m \u001b[0;32mas\u001b[0m \u001b[0me\u001b[0m\u001b[0;34m:\u001b[0m\u001b[0;34m\u001b[0m\u001b[0m\n\u001b[1;32m   1024\u001b[0m         logging.info('An error was raised. This may be due to a preemption in '\n",
      "\u001b[0;32m/Users/zswitten/.pyenv/versions/2.7.12/lib/python2.7/site-packages/tensorflow/python/training/monitored_session.pyc\u001b[0m in \u001b[0;36mrun\u001b[0;34m(self, *args, **kwargs)\u001b[0m\n\u001b[1;32m   1111\u001b[0m         \u001b[0;32mraise\u001b[0m \u001b[0msix\u001b[0m\u001b[0;34m.\u001b[0m\u001b[0mreraise\u001b[0m\u001b[0;34m(\u001b[0m\u001b[0;34m*\u001b[0m\u001b[0moriginal_exc_info\u001b[0m\u001b[0;34m)\u001b[0m\u001b[0;34m\u001b[0m\u001b[0m\n\u001b[1;32m   1112\u001b[0m       \u001b[0;32melse\u001b[0m\u001b[0;34m:\u001b[0m\u001b[0;34m\u001b[0m\u001b[0m\n\u001b[0;32m-> 1113\u001b[0;31m         \u001b[0;32mraise\u001b[0m \u001b[0msix\u001b[0m\u001b[0;34m.\u001b[0m\u001b[0mreraise\u001b[0m\u001b[0;34m(\u001b[0m\u001b[0;34m*\u001b[0m\u001b[0moriginal_exc_info\u001b[0m\u001b[0;34m)\u001b[0m\u001b[0;34m\u001b[0m\u001b[0m\n\u001b[0m\u001b[1;32m   1114\u001b[0m \u001b[0;34m\u001b[0m\u001b[0m\n\u001b[1;32m   1115\u001b[0m \u001b[0;34m\u001b[0m\u001b[0m\n",
      "\u001b[0;32m/Users/zswitten/.pyenv/versions/2.7.12/lib/python2.7/site-packages/tensorflow/python/training/monitored_session.pyc\u001b[0m in \u001b[0;36mrun\u001b[0;34m(self, *args, **kwargs)\u001b[0m\n\u001b[1;32m   1096\u001b[0m   \u001b[0;32mdef\u001b[0m \u001b[0mrun\u001b[0m\u001b[0;34m(\u001b[0m\u001b[0mself\u001b[0m\u001b[0;34m,\u001b[0m \u001b[0;34m*\u001b[0m\u001b[0margs\u001b[0m\u001b[0;34m,\u001b[0m \u001b[0;34m**\u001b[0m\u001b[0mkwargs\u001b[0m\u001b[0;34m)\u001b[0m\u001b[0;34m:\u001b[0m\u001b[0;34m\u001b[0m\u001b[0m\n\u001b[1;32m   1097\u001b[0m     \u001b[0;32mtry\u001b[0m\u001b[0;34m:\u001b[0m\u001b[0;34m\u001b[0m\u001b[0m\n\u001b[0;32m-> 1098\u001b[0;31m       \u001b[0;32mreturn\u001b[0m \u001b[0mself\u001b[0m\u001b[0;34m.\u001b[0m\u001b[0m_sess\u001b[0m\u001b[0;34m.\u001b[0m\u001b[0mrun\u001b[0m\u001b[0;34m(\u001b[0m\u001b[0;34m*\u001b[0m\u001b[0margs\u001b[0m\u001b[0;34m,\u001b[0m \u001b[0;34m**\u001b[0m\u001b[0mkwargs\u001b[0m\u001b[0;34m)\u001b[0m\u001b[0;34m\u001b[0m\u001b[0m\n\u001b[0m\u001b[1;32m   1099\u001b[0m     \u001b[0;32mexcept\u001b[0m \u001b[0m_PREEMPTION_ERRORS\u001b[0m\u001b[0;34m:\u001b[0m\u001b[0;34m\u001b[0m\u001b[0m\n\u001b[1;32m   1100\u001b[0m       \u001b[0;32mraise\u001b[0m\u001b[0;34m\u001b[0m\u001b[0m\n",
      "\u001b[0;32m/Users/zswitten/.pyenv/versions/2.7.12/lib/python2.7/site-packages/tensorflow/python/training/monitored_session.pyc\u001b[0m in \u001b[0;36mrun\u001b[0;34m(self, fetches, feed_dict, options, run_metadata)\u001b[0m\n\u001b[1;32m   1168\u001b[0m                                   \u001b[0mfeed_dict\u001b[0m\u001b[0;34m=\u001b[0m\u001b[0mfeed_dict\u001b[0m\u001b[0;34m,\u001b[0m\u001b[0;34m\u001b[0m\u001b[0m\n\u001b[1;32m   1169\u001b[0m                                   \u001b[0moptions\u001b[0m\u001b[0;34m=\u001b[0m\u001b[0moptions\u001b[0m\u001b[0;34m,\u001b[0m\u001b[0;34m\u001b[0m\u001b[0m\n\u001b[0;32m-> 1170\u001b[0;31m                                   run_metadata=run_metadata)\n\u001b[0m\u001b[1;32m   1171\u001b[0m \u001b[0;34m\u001b[0m\u001b[0m\n\u001b[1;32m   1172\u001b[0m     \u001b[0;32mfor\u001b[0m \u001b[0mhook\u001b[0m \u001b[0;32min\u001b[0m \u001b[0mself\u001b[0m\u001b[0;34m.\u001b[0m\u001b[0m_hooks\u001b[0m\u001b[0;34m:\u001b[0m\u001b[0;34m\u001b[0m\u001b[0m\n",
      "\u001b[0;32m/Users/zswitten/.pyenv/versions/2.7.12/lib/python2.7/site-packages/tensorflow/python/training/monitored_session.pyc\u001b[0m in \u001b[0;36mrun\u001b[0;34m(self, *args, **kwargs)\u001b[0m\n\u001b[1;32m    948\u001b[0m \u001b[0;34m\u001b[0m\u001b[0m\n\u001b[1;32m    949\u001b[0m   \u001b[0;32mdef\u001b[0m \u001b[0mrun\u001b[0m\u001b[0;34m(\u001b[0m\u001b[0mself\u001b[0m\u001b[0;34m,\u001b[0m \u001b[0;34m*\u001b[0m\u001b[0margs\u001b[0m\u001b[0;34m,\u001b[0m \u001b[0;34m**\u001b[0m\u001b[0mkwargs\u001b[0m\u001b[0;34m)\u001b[0m\u001b[0;34m:\u001b[0m\u001b[0;34m\u001b[0m\u001b[0m\n\u001b[0;32m--> 950\u001b[0;31m     \u001b[0;32mreturn\u001b[0m \u001b[0mself\u001b[0m\u001b[0;34m.\u001b[0m\u001b[0m_sess\u001b[0m\u001b[0;34m.\u001b[0m\u001b[0mrun\u001b[0m\u001b[0;34m(\u001b[0m\u001b[0;34m*\u001b[0m\u001b[0margs\u001b[0m\u001b[0;34m,\u001b[0m \u001b[0;34m**\u001b[0m\u001b[0mkwargs\u001b[0m\u001b[0;34m)\u001b[0m\u001b[0;34m\u001b[0m\u001b[0m\n\u001b[0m\u001b[1;32m    951\u001b[0m \u001b[0;34m\u001b[0m\u001b[0m\n\u001b[1;32m    952\u001b[0m   \u001b[0;32mdef\u001b[0m \u001b[0mrun_step_fn\u001b[0m\u001b[0;34m(\u001b[0m\u001b[0mself\u001b[0m\u001b[0;34m,\u001b[0m \u001b[0mstep_fn\u001b[0m\u001b[0;34m,\u001b[0m \u001b[0mraw_session\u001b[0m\u001b[0;34m,\u001b[0m \u001b[0mrun_with_hooks\u001b[0m\u001b[0;34m)\u001b[0m\u001b[0;34m:\u001b[0m\u001b[0;34m\u001b[0m\u001b[0m\n",
      "\u001b[0;32m/Users/zswitten/.pyenv/versions/2.7.12/lib/python2.7/site-packages/tensorflow/python/client/session.pyc\u001b[0m in \u001b[0;36mrun\u001b[0;34m(self, fetches, feed_dict, options, run_metadata)\u001b[0m\n\u001b[1;32m    903\u001b[0m     \u001b[0;32mtry\u001b[0m\u001b[0;34m:\u001b[0m\u001b[0;34m\u001b[0m\u001b[0m\n\u001b[1;32m    904\u001b[0m       result = self._run(None, fetches, feed_dict, options_ptr,\n\u001b[0;32m--> 905\u001b[0;31m                          run_metadata_ptr)\n\u001b[0m\u001b[1;32m    906\u001b[0m       \u001b[0;32mif\u001b[0m \u001b[0mrun_metadata\u001b[0m\u001b[0;34m:\u001b[0m\u001b[0;34m\u001b[0m\u001b[0m\n\u001b[1;32m    907\u001b[0m         \u001b[0mproto_data\u001b[0m \u001b[0;34m=\u001b[0m \u001b[0mtf_session\u001b[0m\u001b[0;34m.\u001b[0m\u001b[0mTF_GetBuffer\u001b[0m\u001b[0;34m(\u001b[0m\u001b[0mrun_metadata_ptr\u001b[0m\u001b[0;34m)\u001b[0m\u001b[0;34m\u001b[0m\u001b[0m\n",
      "\u001b[0;32m/Users/zswitten/.pyenv/versions/2.7.12/lib/python2.7/site-packages/tensorflow/python/client/session.pyc\u001b[0m in \u001b[0;36m_run\u001b[0;34m(self, handle, fetches, feed_dict, options, run_metadata)\u001b[0m\n\u001b[1;32m   1138\u001b[0m     \u001b[0;32mif\u001b[0m \u001b[0mfinal_fetches\u001b[0m \u001b[0;32mor\u001b[0m \u001b[0mfinal_targets\u001b[0m \u001b[0;32mor\u001b[0m \u001b[0;34m(\u001b[0m\u001b[0mhandle\u001b[0m \u001b[0;32mand\u001b[0m \u001b[0mfeed_dict_tensor\u001b[0m\u001b[0;34m)\u001b[0m\u001b[0;34m:\u001b[0m\u001b[0;34m\u001b[0m\u001b[0m\n\u001b[1;32m   1139\u001b[0m       results = self._do_run(handle, final_targets, final_fetches,\n\u001b[0;32m-> 1140\u001b[0;31m                              feed_dict_tensor, options, run_metadata)\n\u001b[0m\u001b[1;32m   1141\u001b[0m     \u001b[0;32melse\u001b[0m\u001b[0;34m:\u001b[0m\u001b[0;34m\u001b[0m\u001b[0m\n\u001b[1;32m   1142\u001b[0m       \u001b[0mresults\u001b[0m \u001b[0;34m=\u001b[0m \u001b[0;34m[\u001b[0m\u001b[0;34m]\u001b[0m\u001b[0;34m\u001b[0m\u001b[0m\n",
      "\u001b[0;32m/Users/zswitten/.pyenv/versions/2.7.12/lib/python2.7/site-packages/tensorflow/python/client/session.pyc\u001b[0m in \u001b[0;36m_do_run\u001b[0;34m(self, handle, target_list, fetch_list, feed_dict, options, run_metadata)\u001b[0m\n\u001b[1;32m   1319\u001b[0m     \u001b[0;32mif\u001b[0m \u001b[0mhandle\u001b[0m \u001b[0;32mis\u001b[0m \u001b[0mNone\u001b[0m\u001b[0;34m:\u001b[0m\u001b[0;34m\u001b[0m\u001b[0m\n\u001b[1;32m   1320\u001b[0m       return self._do_call(_run_fn, feeds, fetches, targets, options,\n\u001b[0;32m-> 1321\u001b[0;31m                            run_metadata)\n\u001b[0m\u001b[1;32m   1322\u001b[0m     \u001b[0;32melse\u001b[0m\u001b[0;34m:\u001b[0m\u001b[0;34m\u001b[0m\u001b[0m\n\u001b[1;32m   1323\u001b[0m       \u001b[0;32mreturn\u001b[0m \u001b[0mself\u001b[0m\u001b[0;34m.\u001b[0m\u001b[0m_do_call\u001b[0m\u001b[0;34m(\u001b[0m\u001b[0m_prun_fn\u001b[0m\u001b[0;34m,\u001b[0m \u001b[0mhandle\u001b[0m\u001b[0;34m,\u001b[0m \u001b[0mfeeds\u001b[0m\u001b[0;34m,\u001b[0m \u001b[0mfetches\u001b[0m\u001b[0;34m)\u001b[0m\u001b[0;34m\u001b[0m\u001b[0m\n",
      "\u001b[0;32m/Users/zswitten/.pyenv/versions/2.7.12/lib/python2.7/site-packages/tensorflow/python/client/session.pyc\u001b[0m in \u001b[0;36m_do_call\u001b[0;34m(self, fn, *args)\u001b[0m\n\u001b[1;32m   1338\u001b[0m         \u001b[0;32mexcept\u001b[0m \u001b[0mKeyError\u001b[0m\u001b[0;34m:\u001b[0m\u001b[0;34m\u001b[0m\u001b[0m\n\u001b[1;32m   1339\u001b[0m           \u001b[0;32mpass\u001b[0m\u001b[0;34m\u001b[0m\u001b[0m\n\u001b[0;32m-> 1340\u001b[0;31m       \u001b[0;32mraise\u001b[0m \u001b[0mtype\u001b[0m\u001b[0;34m(\u001b[0m\u001b[0me\u001b[0m\u001b[0;34m)\u001b[0m\u001b[0;34m(\u001b[0m\u001b[0mnode_def\u001b[0m\u001b[0;34m,\u001b[0m \u001b[0mop\u001b[0m\u001b[0;34m,\u001b[0m \u001b[0mmessage\u001b[0m\u001b[0;34m)\u001b[0m\u001b[0;34m\u001b[0m\u001b[0m\n\u001b[0m\u001b[1;32m   1341\u001b[0m \u001b[0;34m\u001b[0m\u001b[0m\n\u001b[1;32m   1342\u001b[0m   \u001b[0;32mdef\u001b[0m \u001b[0m_extend_graph\u001b[0m\u001b[0;34m(\u001b[0m\u001b[0mself\u001b[0m\u001b[0;34m)\u001b[0m\u001b[0;34m:\u001b[0m\u001b[0;34m\u001b[0m\u001b[0m\n",
      "\u001b[0;31mInvalidArgumentError\u001b[0m: Input to reshape is a tensor with 106858 values, but the requested shape has 101\n\t [[Node: dnn/input_from_feature_columns/input_layer/sequence_vectors/Reshape = Reshape[T=DT_FLOAT, Tshape=DT_INT32, _device=\"/job:localhost/replica:0/task:0/device:CPU:0\"](dnn/input_from_feature_columns/input_layer/sequence_vectors/ToFloat, dnn/input_from_feature_columns/input_layer/sequence_vectors/Reshape/shape)]]\n\nCaused by op u'dnn/input_from_feature_columns/input_layer/sequence_vectors/Reshape', defined at:\n  File \"/Users/zswitten/.pyenv/versions/2.7.12/lib/python2.7/runpy.py\", line 174, in _run_module_as_main\n    \"__main__\", fname, loader, pkg_name)\n  File \"/Users/zswitten/.pyenv/versions/2.7.12/lib/python2.7/runpy.py\", line 72, in _run_code\n    exec code in run_globals\n  File \"/Users/zswitten/.pyenv/versions/2.7.12/lib/python2.7/site-packages/ipykernel_launcher.py\", line 16, in <module>\n    app.launch_new_instance()\n  File \"/Users/zswitten/.pyenv/versions/2.7.12/lib/python2.7/site-packages/traitlets/config/application.py\", line 658, in launch_instance\n    app.start()\n  File \"/Users/zswitten/.pyenv/versions/2.7.12/lib/python2.7/site-packages/ipykernel/kernelapp.py\", line 477, in start\n    ioloop.IOLoop.instance().start()\n  File \"/Users/zswitten/.pyenv/versions/2.7.12/lib/python2.7/site-packages/zmq/eventloop/ioloop.py\", line 177, in start\n    super(ZMQIOLoop, self).start()\n  File \"/Users/zswitten/.pyenv/versions/2.7.12/lib/python2.7/site-packages/tornado/ioloop.py\", line 888, in start\n    handler_func(fd_obj, events)\n  File \"/Users/zswitten/.pyenv/versions/2.7.12/lib/python2.7/site-packages/tornado/stack_context.py\", line 277, in null_wrapper\n    return fn(*args, **kwargs)\n  File \"/Users/zswitten/.pyenv/versions/2.7.12/lib/python2.7/site-packages/zmq/eventloop/zmqstream.py\", line 440, in _handle_events\n    self._handle_recv()\n  File \"/Users/zswitten/.pyenv/versions/2.7.12/lib/python2.7/site-packages/zmq/eventloop/zmqstream.py\", line 472, in _handle_recv\n    self._run_callback(callback, msg)\n  File \"/Users/zswitten/.pyenv/versions/2.7.12/lib/python2.7/site-packages/zmq/eventloop/zmqstream.py\", line 414, in _run_callback\n    callback(*args, **kwargs)\n  File \"/Users/zswitten/.pyenv/versions/2.7.12/lib/python2.7/site-packages/tornado/stack_context.py\", line 277, in null_wrapper\n    return fn(*args, **kwargs)\n  File \"/Users/zswitten/.pyenv/versions/2.7.12/lib/python2.7/site-packages/ipykernel/kernelbase.py\", line 283, in dispatcher\n    return self.dispatch_shell(stream, msg)\n  File \"/Users/zswitten/.pyenv/versions/2.7.12/lib/python2.7/site-packages/ipykernel/kernelbase.py\", line 235, in dispatch_shell\n    handler(stream, idents, msg)\n  File \"/Users/zswitten/.pyenv/versions/2.7.12/lib/python2.7/site-packages/ipykernel/kernelbase.py\", line 399, in execute_request\n    user_expressions, allow_stdin)\n  File \"/Users/zswitten/.pyenv/versions/2.7.12/lib/python2.7/site-packages/ipykernel/ipkernel.py\", line 196, in do_execute\n    res = shell.run_cell(code, store_history=store_history, silent=silent)\n  File \"/Users/zswitten/.pyenv/versions/2.7.12/lib/python2.7/site-packages/ipykernel/zmqshell.py\", line 533, in run_cell\n    return super(ZMQInteractiveShell, self).run_cell(*args, **kwargs)\n  File \"/Users/zswitten/.pyenv/versions/2.7.12/lib/python2.7/site-packages/IPython/core/interactiveshell.py\", line 2718, in run_cell\n    interactivity=interactivity, compiler=compiler, result=result)\n  File \"/Users/zswitten/.pyenv/versions/2.7.12/lib/python2.7/site-packages/IPython/core/interactiveshell.py\", line 2822, in run_ast_nodes\n    if self.run_code(code, result):\n  File \"/Users/zswitten/.pyenv/versions/2.7.12/lib/python2.7/site-packages/IPython/core/interactiveshell.py\", line 2882, in run_code\n    exec(code_obj, self.user_global_ns, self.user_ns)\n  File \"<ipython-input-60-234b419c7bff>\", line 20, in <module>\n    steps=1\n  File \"/Users/zswitten/.pyenv/versions/2.7.12/lib/python2.7/site-packages/tensorflow/python/estimator/estimator.py\", line 355, in train\n    loss = self._train_model(input_fn, hooks, saving_listeners)\n  File \"/Users/zswitten/.pyenv/versions/2.7.12/lib/python2.7/site-packages/tensorflow/python/estimator/estimator.py\", line 824, in _train_model\n    features, labels, model_fn_lib.ModeKeys.TRAIN, self.config)\n  File \"/Users/zswitten/.pyenv/versions/2.7.12/lib/python2.7/site-packages/tensorflow/python/estimator/estimator.py\", line 805, in _call_model_fn\n    model_fn_results = self._model_fn(features=features, **kwargs)\n  File \"/Users/zswitten/.pyenv/versions/2.7.12/lib/python2.7/site-packages/tensorflow/python/estimator/canned/dnn.py\", line 501, in _model_fn\n    config=config)\n  File \"/Users/zswitten/.pyenv/versions/2.7.12/lib/python2.7/site-packages/tensorflow/python/estimator/canned/dnn.py\", line 184, in _dnn_model_fn\n    logits = logit_fn(features=features, mode=mode)\n  File \"/Users/zswitten/.pyenv/versions/2.7.12/lib/python2.7/site-packages/tensorflow/python/estimator/canned/dnn.py\", line 92, in dnn_logit_fn\n    features=features, feature_columns=feature_columns)\n  File \"/Users/zswitten/.pyenv/versions/2.7.12/lib/python2.7/site-packages/tensorflow/python/feature_column/feature_column.py\", line 274, in input_layer\n    trainable, cols_to_vars)\n  File \"/Users/zswitten/.pyenv/versions/2.7.12/lib/python2.7/site-packages/tensorflow/python/feature_column/feature_column.py\", line 203, in _internal_input_layer\n    array_ops.reshape(tensor, shape=(batch_size, num_elements)))\n  File \"/Users/zswitten/.pyenv/versions/2.7.12/lib/python2.7/site-packages/tensorflow/python/ops/gen_array_ops.py\", line 5782, in reshape\n    \"Reshape\", tensor=tensor, shape=shape, name=name)\n  File \"/Users/zswitten/.pyenv/versions/2.7.12/lib/python2.7/site-packages/tensorflow/python/framework/op_def_library.py\", line 787, in _apply_op_helper\n    op_def=op_def)\n  File \"/Users/zswitten/.pyenv/versions/2.7.12/lib/python2.7/site-packages/tensorflow/python/framework/ops.py\", line 3290, in create_op\n    op_def=op_def)\n  File \"/Users/zswitten/.pyenv/versions/2.7.12/lib/python2.7/site-packages/tensorflow/python/framework/ops.py\", line 1654, in __init__\n    self._traceback = self._graph._extract_stack()  # pylint: disable=protected-access\n\nInvalidArgumentError (see above for traceback): Input to reshape is a tensor with 106858 values, but the requested shape has 101\n\t [[Node: dnn/input_from_feature_columns/input_layer/sequence_vectors/Reshape = Reshape[T=DT_FLOAT, Tshape=DT_INT32, _device=\"/job:localhost/replica:0/task:0/device:CPU:0\"](dnn/input_from_feature_columns/input_layer/sequence_vectors/ToFloat, dnn/input_from_feature_columns/input_layer/sequence_vectors/Reshape/shape)]]\n"
     ]
    }
   ],
   "source": [
    "import tensorflow as tf\n",
    "with tf.Graph().as_default():\n",
    "    features = {\n",
    "        'sequence_vectors': vectors,\n",
    "        'cterminal_amidation': cterminal_amidation\n",
    "    }\n",
    "\n",
    "    feature_columns = [tf.feature_column.numeric_column(key=key) for key in features]\n",
    "\n",
    "    classifier = tf.estimator.DNNRegressor(\n",
    "        feature_columns=feature_columns,\n",
    "        hidden_units=[10, 10],\n",
    "    )\n",
    "\n",
    "    def train_input_fn(dataset):\n",
    "        dataset = tf.data.Dataset.from_tensor_slices((features, labels))\n",
    "        return dataset.shuffle(5000).repeat().batch(101)\n",
    "\n",
    "    classifier.train(\n",
    "        input_fn=lambda:train_input_fn(dataset),\n",
    "        steps=1\n",
    "    )"
   ]
  },
  {
   "cell_type": "code",
   "execution_count": null,
   "metadata": {},
   "outputs": [],
   "source": []
  }
 ],
 "metadata": {
  "kernelspec": {
   "display_name": "Python 2",
   "language": "python",
   "name": "python2"
  },
  "language_info": {
   "codemirror_mode": {
    "name": "ipython",
    "version": 2
   },
   "file_extension": ".py",
   "mimetype": "text/x-python",
   "name": "python",
   "nbconvert_exporter": "python",
   "pygments_lexer": "ipython2",
   "version": "2.7.12"
  }
 },
 "nbformat": 4,
 "nbformat_minor": 2
}
