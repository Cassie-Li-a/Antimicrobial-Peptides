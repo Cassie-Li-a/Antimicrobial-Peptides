{
 "cells": [
  {
   "cell_type": "code",
   "execution_count": 1,
   "metadata": {},
   "outputs": [],
   "source": [
    "import pandas as pd\n",
    "import os\n",
    "import ast\n",
    "import numpy as np\n",
    "from Bio.SeqUtils.ProtParam import ProteinAnalysis\n",
    "pd.options.display.max_colwidth = 100\n",
    "pd.options.display.float_format = '{:.2f}'.format"
   ]
  },
  {
   "cell_type": "code",
   "execution_count": 2,
   "metadata": {},
   "outputs": [],
   "source": [
    "all_results = []\n",
    "for f in os.listdir('.'):\n",
    "    if '.data' in f:\n",
    "        with open(f, 'r') as g:\n",
    "            all_results.append(ast.literal_eval(g.read()))"
   ]
  },
  {
   "cell_type": "code",
   "execution_count": 3,
   "metadata": {},
   "outputs": [],
   "source": [
    "def standardize_to_uM(concentration, unit, sequence):\n",
    "    concentration = concentration.replace(' ', '')\n",
    "    try:\n",
    "        concentration = float(concentration)\n",
    "    except:\n",
    "        return None\n",
    "    if unit == 'uM' or unit == u'\\xb5M' or unit == u'uM)':\n",
    "        return concentration\n",
    "    elif unit == 'ug/ml' or unit == u'\\xb5g/ml' or unit == u'ug/ml)':\n",
    "        try:\n",
    "            molWt = ProteinAnalysis(sequence).molecular_weight()\n",
    "        except ValueError:\n",
    "            return None\n",
    "        return concentration * 1000/molWt\n",
    "    elif unit == 'nmol/g' or unit == 'pmol/mg':\n",
    "        #1g, at density of 1g/mL, is 1mL, so nmol/g is nmol/mL = umol/L = uM yay!\n",
    "        return concentration\n",
    "    else:\n",
    "        # print 'Unit not recognized: ' + unit\n",
    "        return None"
   ]
  },
  {
   "cell_type": "code",
   "execution_count": 6,
   "metadata": {},
   "outputs": [],
   "source": [
    "def convert_result_to_rows(sequence, result):\n",
    "    rows = []\n",
    "    if 'bacteria' not in result:\n",
    "        return rows\n",
    "    for bacterium, strain in result['bacteria']:\n",
    "        \n",
    "        rows.append({\n",
    "            'bacterium': bacterium,\n",
    "            'strain': strain,\n",
    "            'sequence': sequence.upper(),\n",
    "            'url_source': result['url_sources'][0],\n",
    "            'value': standardize_to_uM(\n",
    "                result['bacteria'][(bacterium, strain)]['value'],\n",
    "                result['bacteria'][(bacterium, strain)]['unit'],\n",
    "                sequence\n",
    "            ),\n",
    "            'modifications': result['modifications'] if 'modifications' in result else [],\n",
    "            'unit': 'uM'\n",
    "        })\n",
    "        if rows[-1]['value']:\n",
    "            rows[-1]['value'] = np.log10(rows[-1]['value'])\n",
    "    return rows"
   ]
  },
  {
   "cell_type": "code",
   "execution_count": 8,
   "metadata": {},
   "outputs": [],
   "source": [
    "rows = []\n",
    "for result_set in all_results:\n",
    "    for sequence in result_set:\n",
    "        for row in convert_result_to_rows(sequence, result_set[sequence]):\n",
    "            rows.append(row)"
   ]
  },
  {
   "cell_type": "code",
   "execution_count": 9,
   "metadata": {},
   "outputs": [],
   "source": [
    "df = pd.DataFrame(rows)"
   ]
  },
  {
   "cell_type": "code",
   "execution_count": 38,
   "metadata": {},
   "outputs": [],
   "source": [
    "def is_modified(modifications_list):\n",
    "    return len(modifications_list) > 0\n",
    "\n",
    "df['is_modified'] = df.modifications.apply(is_modified)"
   ]
  },
  {
   "cell_type": "code",
   "execution_count": 39,
   "metadata": {},
   "outputs": [],
   "source": [
    "def has_non_cterminal_modification(modifications_list):\n",
    "    return any(['C-Term' not in modification for modification in modifications_list])\n",
    "\n",
    "df['has_non_cterminal_modification'] = df.modifications.apply(has_non_cterminal_modification)\n",
    "df['has_cterminal_modification'] = df.is_modified & ~df.has_non_cterminal_modification"
   ]
  },
  {
   "cell_type": "code",
   "execution_count": 40,
   "metadata": {},
   "outputs": [],
   "source": [
    "# Clean sequences\n",
    "df.sequence = df.sequence.str.strip()\n",
    "df = df.loc[df.sequence != '/']"
   ]
  },
  {
   "cell_type": "code",
   "execution_count": 41,
   "metadata": {},
   "outputs": [],
   "source": [
    "# Exclude sequences with modifications\n",
    "\n",
    "# Exclude rows from YADAMP and CAMP for having no modification data\n",
    "\n",
    "#     Unless that sequence is in another DB"
   ]
  },
  {
   "cell_type": "code",
   "execution_count": 42,
   "metadata": {},
   "outputs": [],
   "source": [
    "df = df.loc[df.has_non_cterminal_modification == False]\n",
    "\n",
    "no_modification_data_sources = ['camp3', 'yadamp']\n",
    "\n",
    "def datasource_has_modifications(cell):\n",
    "    # Everything except CAMP and YADAMP has modification data\n",
    "    return not any([s in cell for s in no_modification_data_sources])\n",
    "\n",
    "df['_datasource_has_modifications'] = df['url_source'].apply(datasource_has_modifications)\n",
    "\n",
    "sequences_containing_modifications = set(df.loc[df._datasource_has_modifications == True, 'sequence'])\n",
    "def sequence_has_modification_data(cell):\n",
    "    # If the sequence is labeled modifictationless in another database it's OK\n",
    "    return cell in sequences_containing_modifications\n",
    "\n",
    "df['_sequence_has_modifications'] = df['sequence'].apply(sequence_has_modification_data)\n",
    "\n",
    "df['modification_verified'] = df['_sequence_has_modifications'] | df['_datasource_has_modifications']\n",
    "\n",
    "df = df.loc[df.modification_verified == True]"
   ]
  },
  {
   "cell_type": "code",
   "execution_count": 16,
   "metadata": {},
   "outputs": [],
   "source": [
    "staph = df.loc[df.bacterium.str.contains('S. aureus')].groupby('sequence')['value'].mean().dropna()\n",
    "ecoli = df.loc[df.bacterium.str.contains('E. coli')].groupby('sequence')['value'].mean().dropna()\n",
    "pseudomonas = df.loc[df.bacterium.str.contains('P. aeruginosa')].groupby('sequence')['value'].mean().dropna()\n",
    "streptococcus = df.loc[df.bacterium.str.contains('S. mutans')].groupby('sequence')['value'].mean().dropna()\n",
    "bacillus = df.loc[df.bacterium.str.contains('B. subtilis')].groupby('sequence')['value'].mean().dropna()"
   ]
  },
  {
   "cell_type": "code",
   "execution_count": 20,
   "metadata": {},
   "outputs": [
    {
     "data": {
      "text/html": [
       "<div>\n",
       "<style scoped>\n",
       "    .dataframe tbody tr th:only-of-type {\n",
       "        vertical-align: middle;\n",
       "    }\n",
       "\n",
       "    .dataframe tbody tr th {\n",
       "        vertical-align: top;\n",
       "    }\n",
       "\n",
       "    .dataframe thead th {\n",
       "        text-align: right;\n",
       "    }\n",
       "</style>\n",
       "<table border=\"1\" class=\"dataframe\">\n",
       "  <thead>\n",
       "    <tr style=\"text-align: right;\">\n",
       "      <th></th>\n",
       "      <th>ecoli</th>\n",
       "      <th>pseudomonas</th>\n",
       "      <th>streptococcus</th>\n",
       "      <th>staph</th>\n",
       "      <th>bacillus</th>\n",
       "    </tr>\n",
       "  </thead>\n",
       "  <tbody>\n",
       "    <tr>\n",
       "      <th>ecoli</th>\n",
       "      <td>1.00</td>\n",
       "      <td>0.78</td>\n",
       "      <td>0.71</td>\n",
       "      <td>0.67</td>\n",
       "      <td>0.69</td>\n",
       "    </tr>\n",
       "    <tr>\n",
       "      <th>pseudomonas</th>\n",
       "      <td>0.78</td>\n",
       "      <td>1.00</td>\n",
       "      <td>0.52</td>\n",
       "      <td>0.65</td>\n",
       "      <td>0.60</td>\n",
       "    </tr>\n",
       "    <tr>\n",
       "      <th>streptococcus</th>\n",
       "      <td>0.71</td>\n",
       "      <td>0.52</td>\n",
       "      <td>1.00</td>\n",
       "      <td>0.83</td>\n",
       "      <td>0.82</td>\n",
       "    </tr>\n",
       "    <tr>\n",
       "      <th>staph</th>\n",
       "      <td>0.67</td>\n",
       "      <td>0.65</td>\n",
       "      <td>0.83</td>\n",
       "      <td>1.00</td>\n",
       "      <td>0.67</td>\n",
       "    </tr>\n",
       "    <tr>\n",
       "      <th>bacillus</th>\n",
       "      <td>0.69</td>\n",
       "      <td>0.60</td>\n",
       "      <td>0.82</td>\n",
       "      <td>0.67</td>\n",
       "      <td>1.00</td>\n",
       "    </tr>\n",
       "  </tbody>\n",
       "</table>\n",
       "</div>"
      ],
      "text/plain": [
       "               ecoli  pseudomonas  streptococcus  staph  bacillus\n",
       "ecoli           1.00         0.78           0.71   0.67      0.69\n",
       "pseudomonas     0.78         1.00           0.52   0.65      0.60\n",
       "streptococcus   0.71         0.52           1.00   0.83      0.82\n",
       "staph           0.67         0.65           0.83   1.00      0.67\n",
       "bacillus        0.69         0.60           0.82   0.67      1.00"
      ]
     },
     "execution_count": 20,
     "metadata": {},
     "output_type": "execute_result"
    }
   ],
   "source": [
    "many_bacteria = pd.concat([ecoli, pseudomonas, streptococcus, staph, bacillus], axis=1).reset_index()\n",
    "many_bacteria.columns = ['index', 'ecoli', 'pseudomonas', 'streptococcus', 'staph', 'bacillus']\n",
    "many_bacteria.corr()"
   ]
  },
  {
   "cell_type": "code",
   "execution_count": 43,
   "metadata": {},
   "outputs": [],
   "source": [
    "ecoli_df = df.loc[df.bacterium.str.contains('E. coli')]"
   ]
  },
  {
   "cell_type": "code",
   "execution_count": 29,
   "metadata": {},
   "outputs": [],
   "source": [
    "character_dict = set([character for sequence in ecoli_df.sequence for character in sequence])\n",
    "max_sequence_length = int(ecoli_df.sequence.str.len().describe(percentiles=[0.95])['95%'])\n",
    "character_to_index = {\n",
    "    character: i\n",
    "    for i, character in enumerate(character_dict)\n",
    "}\n",
    "\n",
    "def sequence_to_vector(sequence):\n",
    "    default = np.zeros([max_sequence_length, len(character_to_index)])\n",
    "    for i, character in enumerate(sequence[:max_sequence_length]):\n",
    "        default[i][character_to_index[character]] = 1\n",
    "    return default"
   ]
  },
  {
   "cell_type": "code",
   "execution_count": null,
   "metadata": {},
   "outputs": [],
   "source": [
    "features = {}"
   ]
  },
  {
   "cell_type": "code",
   "execution_count": 33,
   "metadata": {},
   "outputs": [],
   "source": [
    "labels = np.array(ecoli_df.value)"
   ]
  },
  {
   "cell_type": "code",
   "execution_count": 47,
   "metadata": {},
   "outputs": [
    {
     "data": {
      "text/plain": [
       "sequence\n",
       "AAAAAAAAAAGIGKFLHSAKKFGKAFVGEIMNS                                            2.10\n",
       "AAAAAAAIKMLMDLVNERIMALNKKAKK                                                 1.00\n",
       "AAAKAALNAVLVGANA                                                             1.90\n",
       "AACSDRAHGHICESFKSFCKDSGRNGVKLRANCKKTCGLC                                     0.25\n",
       "AAGMGFFGAR                                                                   1.11\n",
       "AAGRYQLLSRYWDAYR                                                             2.18\n",
       "AAHCIALRKGYK                                                                 1.48\n",
       "AAHCIQLGKR                                                                   1.48\n",
       "AAHCIVLHHN                                                                   1.48\n",
       "AAHCLAIGRK                                                                   0.88\n",
       "AAHCLAIGRR                                                                   1.13\n",
       "AAHCLAKRKK                                                                   1.48\n",
       "AAHCLAMRRK                                                                   1.48\n",
       "AAHCLIGRK                                                                    1.18\n",
       "AAHCLLKRKR                                                                   0.88\n",
       "AAHHIARPIVHVGKTIHRLVTG                                                       1.20\n",
       "AAKCLVQRRR                                                                   1.48\n",
       "AAKHAAHRA                                                                    2.73\n",
       "AAKIILNPKFRCFAAFC                                                            2.20\n",
       "AAKIILNPKFRCKAAFC                                                            1.48\n",
       "AALKGCWTKSIPPKPCFGF                                                          0.14\n",
       "AALKGCWTKSIPPKPCFGKR                                                         0.19\n",
       "AALRGALRAVARVGKAILPHVAIANPYVRTPYVHNNP                                       -0.10\n",
       "AALRGCWTKSIPPKPCPGKR                                                         1.66\n",
       "AANCITLGKA                                                                   1.48\n",
       "AANCLSLGKA                                                                   1.48\n",
       "AANFGPSVFTPEVHETWQKFLNVVVAALGKQYH                                            0.50\n",
       "AANIPFKVHFRCKAAFC                                                            2.72\n",
       "AANIPFKVHFRCKSIFC                                                            2.70\n",
       "AAPRGGKGFFCKLFKDC                                                            1.70\n",
       "                                                                             ... \n",
       "YLAFRCGRYSPCLDDGPNVNLYSCCSFYNCHKCLARLENCPKGLHYNAYLKVCDWPSKAGCTSVNKECHLWKT   -0.62\n",
       "YLEQLLR                                                                      1.99\n",
       "YPCKLNLKLGKVPFH                                                              1.56\n",
       "YPCKLNLKLGKVPFHF                                                             1.53\n",
       "YPELQQDLIARLL                                                                1.57\n",
       "YPLPFIP                                                                      1.17\n",
       "YPPKPESPGEDASPEEMNKYLTALRHYINLVTRQRY                                         0.37\n",
       "YPSKPDNPGEDAPAEDMARYYSALRHYINLITRQRY                                         1.04\n",
       "YPYYGTNLYQRRPAIAINNPYVPRTYYANPAVVRPHAQIPQRQYLPNSHPPTVVRRP                    0.38\n",
       "YQEPVLGPVRGPFPI                                                             -0.57\n",
       "YQWQRRMRKL                                                                   2.48\n",
       "YQWQRRMRKLGAPSIT                                                             2.00\n",
       "YQWQRRMRLGAPSIT                                                              2.51\n",
       "YRGGYTGPIPRPPPIGRPPFRPVCNACYRLSVSDARNCCIKFGSCCHLVK                           1.60\n",
       "YRLRVKWKW                                                                    0.99\n",
       "YRQSMNNFQGLRSFGCRFGTCTVQKLAHQIYQFTDKDKDNVAPRSKISPQGY                        -1.19\n",
       "YRWARWWRR                                                                    0.84\n",
       "YSKSLPLSVLNP                                                                 0.78\n",
       "YSRCQLQGFNCVVRSYGLPTIPCCRGLTCRSYFPGSTYGRCQRF                                 0.70\n",
       "YSRCQLQGFNCVVRSYGLPTIPCCRGLTCRSYFPGSTYGRCQRY                                 0.69\n",
       "YSWPRMPRIPRLPRYPRYPRYPRWPRHPTIYA                                             0.00\n",
       "YSWPRMPRIPRLPRYPRYPRYPRWPRWPRQPTIYA                                          0.30\n",
       "YVLAKRKRAIFI                                                                 2.30\n",
       "YVLFKRKRFIFI                                                                 1.70\n",
       "YVLLKRKRLIFI                                                                 1.70\n",
       "YVLWKRKRWIFI                                                                 1.78\n",
       "YVPLPNVPQPGRRPFPTFPGQGPFNPKIKWPQGY                                           0.55\n",
       "YVPPVQKPHPNGPKFPTFP                                                          1.36\n",
       "YWKKWKKLRRIFMLV                                                             -0.02\n",
       "YWRWRW                                                                       1.28\n",
       "Name: value, Length: 4508, dtype: float64"
      ]
     },
     "execution_count": 47,
     "metadata": {},
     "output_type": "execute_result"
    }
   ],
   "source": []
  },
  {
   "cell_type": "code",
   "execution_count": null,
   "metadata": {},
   "outputs": [],
   "source": [
    "# Need to make df.has_cterminal_modification a feature"
   ]
  }
 ],
 "metadata": {
  "kernelspec": {
   "display_name": "Python 2",
   "language": "python",
   "name": "python2"
  },
  "language_info": {
   "codemirror_mode": {
    "name": "ipython",
    "version": 2
   },
   "file_extension": ".py",
   "mimetype": "text/x-python",
   "name": "python",
   "nbconvert_exporter": "python",
   "pygments_lexer": "ipython2",
   "version": "2.7.12"
  }
 },
 "nbformat": 4,
 "nbformat_minor": 2
}
