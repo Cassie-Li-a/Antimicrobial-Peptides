{
 "cells": [
  {
   "cell_type": "code",
   "execution_count": 1,
   "metadata": {
    "collapsed": true
   },
   "outputs": [],
   "source": [
    "import pandas as pd\n",
    "import os\n",
    "import ast\n",
    "import numpy as np\n",
    "import math\n",
    "import random\n",
    "from copy import deepcopy\n",
    "%matplotlib inline\n",
    "from Bio.SeqUtils.ProtParam import ProteinAnalysis\n",
    "from sklearn.linear_model import LinearRegression\n",
    "from sklearn.model_selection import cross_val_score\n",
    "pd.options.display.max_colwidth = 100\n",
    "pd.options.display.float_format = '{:.2f}'.format"
   ]
  },
  {
   "cell_type": "code",
   "execution_count": 2,
   "metadata": {
    "collapsed": true
   },
   "outputs": [],
   "source": [
    "# The scripts stored the outputs as dictionaries.\n",
    "all_results = []\n",
    "for f in os.listdir('.'):\n",
    "    if '.data' in f:\n",
    "        with open(f, 'r') as g:\n",
    "            all_results.append(ast.literal_eval(g.read()))"
   ]
  },
  {
   "cell_type": "code",
   "execution_count": 3,
   "metadata": {
    "collapsed": true
   },
   "outputs": [],
   "source": [
    "# Standardize units of MIC\n",
    "def standardize_to_uM(concentration, unit, sequence):\n",
    "    concentration = concentration.replace(' ', '')\n",
    "    try:\n",
    "        concentration = float(concentration)\n",
    "    except:\n",
    "        return None\n",
    "    if unit == 'uM' or unit == u'\\xb5M' or unit == u'uM)':\n",
    "        return concentration\n",
    "    elif unit == 'ug/ml' or unit == u'\\xb5g/ml' or unit == u'ug/ml)':\n",
    "        try:\n",
    "            molWt = ProteinAnalysis(sequence).molecular_weight()\n",
    "        except ValueError:\n",
    "            return None\n",
    "        return concentration * 1000/molWt\n",
    "    elif unit == 'nmol/g' or unit == 'pmol/mg':\n",
    "        #1g, at density of 1g/mL, is 1mL, so nmol/g is nmol/mL = umol/L = uM yay!\n",
    "        return concentration\n",
    "    else:\n",
    "        # print 'Unit not recognized: ' + unit\n",
    "        return None"
   ]
  },
  {
   "cell_type": "code",
   "execution_count": 4,
   "metadata": {
    "collapsed": true
   },
   "outputs": [],
   "source": [
    "# Enter an element of a result dictionary into df-ready row\n",
    "def convert_result_to_rows(sequence, result):\n",
    "    rows = []\n",
    "    if 'bacteria' not in result:\n",
    "        return rows\n",
    "    for bacterium, strain in result['bacteria']:\n",
    "        \n",
    "        rows.append({\n",
    "            'bacterium': bacterium,\n",
    "            'strain': strain,\n",
    "            'sequence': sequence.upper(),\n",
    "            'url_source': result['url_sources'][0],\n",
    "            'value': standardize_to_uM(\n",
    "                result['bacteria'][(bacterium, strain)]['value'],\n",
    "                result['bacteria'][(bacterium, strain)]['unit'],\n",
    "                sequence\n",
    "            ),\n",
    "            'modifications': result['modifications'] if 'modifications' in result else [],\n",
    "            'unit': 'uM'\n",
    "        })\n",
    "        if rows[-1]['value']:\n",
    "            rows[-1]['value'] = np.log10(rows[-1]['value'])\n",
    "    return rows"
   ]
  },
  {
   "cell_type": "code",
   "execution_count": 5,
   "metadata": {
    "collapsed": true
   },
   "outputs": [],
   "source": [
    "# Load all the rows into an array\n",
    "rows = []\n",
    "for result_set in all_results:\n",
    "    for sequence in result_set:\n",
    "        for row in convert_result_to_rows(sequence, result_set[sequence]):\n",
    "            rows.append(row)"
   ]
  },
  {
   "cell_type": "code",
   "execution_count": 6,
   "metadata": {
    "collapsed": true
   },
   "outputs": [],
   "source": [
    "# Construct the df\n",
    "df = pd.DataFrame(rows)"
   ]
  },
  {
   "cell_type": "code",
   "execution_count": 7,
   "metadata": {
    "collapsed": false
   },
   "outputs": [
    {
     "name": "stdout",
     "output_type": "stream",
     "text": [
      "('Dataframe length before removing bad chars:', 62494)\n",
      "('Dataframe length after removing bad chars:', 57697)\n"
     ]
    }
   ],
   "source": [
    "print(\"Dataframe length before removing bad chars:\", len(df))\n",
    "# Remove sequences with amino acids that aren't well-defined\n",
    "def strip_sequences_with_char(df, bad_char):\n",
    "    return df[~df.sequence.str.contains(bad_char)]\n",
    "\n",
    "for bad_char in ['U', 'X', 'Z']:\n",
    "    df = strip_sequences_with_char(df, bad_char)\n",
    "print(\"Dataframe length after removing bad chars:\", len(df))"
   ]
  },
  {
   "cell_type": "code",
   "execution_count": 8,
   "metadata": {
    "collapsed": true
   },
   "outputs": [],
   "source": [
    "# We'll want to strip off any sequences with modifications that could be hard to replicate\n",
    "# Their effects are too complex for the model\n",
    "def is_modified(modifications_list):\n",
    "    return len(modifications_list) > 0\n",
    "\n",
    "df['is_modified'] = df.modifications.apply(is_modified)"
   ]
  },
  {
   "cell_type": "code",
   "execution_count": 9,
   "metadata": {
    "collapsed": true
   },
   "outputs": [],
   "source": [
    "# However, C-Terminal Amidation is common enough that we make an exception\n",
    "def has_non_cterminal_modification(modifications_list):\n",
    "    return any(['C-Term' not in modification for modification in modifications_list])\n",
    "\n",
    "df['has_non_cterminal_modification'] = df.modifications.apply(has_non_cterminal_modification)\n",
    "\n",
    "df['has_cterminal_modification'] = df.is_modified & ~df.has_non_cterminal_modification"
   ]
  },
  {
   "cell_type": "code",
   "execution_count": 10,
   "metadata": {
    "collapsed": true
   },
   "outputs": [],
   "source": [
    "# Clean sequences by removing newlines and one improper sequence\n",
    "df.sequence = df.sequence.str.strip()\n",
    "df = df.loc[df.sequence != '/']"
   ]
  },
  {
   "cell_type": "code",
   "execution_count": 11,
   "metadata": {
    "collapsed": true
   },
   "outputs": [],
   "source": [
    "# Exclude sequences with modifications\n",
    "# Exclude rows from YADAMP and CAMP for having no modification data\n",
    "#     Unless that sequence is in another DB\n",
    "\n",
    "df = df.loc[df.has_non_cterminal_modification == False]\n",
    "\n",
    "no_modification_data_sources = ['camp3', 'yadamp']\n",
    "\n",
    "def datasource_has_modifications(cell):\n",
    "    # Everything except CAMP and YADAMP has modification data\n",
    "    return not any([s in cell for s in no_modification_data_sources])\n",
    "\n",
    "df['_datasource_has_modifications'] = df['url_source'].apply(datasource_has_modifications)\n",
    "\n",
    "sequences_containing_modifications = set(df.loc[df._datasource_has_modifications == True, 'sequence'])\n",
    "def sequence_has_modification_data(cell):\n",
    "    # If the sequence is labeled modifictationless in another database it's OK\n",
    "    return cell in sequences_containing_modifications\n",
    "\n",
    "df['_sequence_has_modifications'] = df['sequence'].apply(sequence_has_modification_data)\n",
    "\n",
    "df['modification_verified'] = df['_sequence_has_modifications'] | df['_datasource_has_modifications']\n",
    "\n",
    "df = df.loc[df.modification_verified == True]"
   ]
  },
  {
   "cell_type": "code",
   "execution_count": 12,
   "metadata": {
    "collapsed": true
   },
   "outputs": [],
   "source": [
    "CHARACTER_DICT = set([character for sequence in df.sequence for character in sequence])\n",
    "MAX_SEQUENCE_LENGTH = int(df.sequence.str.len().describe(percentiles=[0.95])['95%'])\n",
    "\n",
    "# Each amino acid its own group\n",
    "character_to_index = {\n",
    "    (character): i\n",
    "    for i, character in enumerate(CHARACTER_DICT)\n",
    "}\n",
    "\n",
    "# Group them together heavily\n",
    "\"\"\"character_to_index = {\n",
    "    ('R', 'K', 'H'): 0,\n",
    "    ('D', 'E'): 1,\n",
    "    ('S', 'T', 'N', 'Q', 'C'): 2,\n",
    "    ('A', 'V', 'I', 'L', 'M', 'F', 'Y', 'W', 'P', 'G'): 3,\n",
    "}\n",
    "\n",
    "# Group them together more sparingly\n",
    "character_to_index = {\n",
    "    ('R'): 0,\n",
    "    ('H'): 1,\n",
    "    ('K'): 2,\n",
    "    ('D', 'E'): 3,\n",
    "    ('S', 'T', 'N', 'Q', 'C'): 4,\n",
    "    ('G', 'P'): 5,\n",
    "    ('A', 'V', 'I', 'L', 'M'): 6,\n",
    "    ('F', 'Y', 'W'): 7,\n",
    "}\"\"\"\n",
    "\n",
    "index2character = {\n",
    "    value: key\n",
    "    for key, value in character_to_index.items()\n",
    "}\n",
    "\n",
    "def sequence_to_vector(sequence, cterminal_amidation):\n",
    "# It looks like this truncates any sequence after max_sequence_length (which is length of 95th percentile longest peptide)\n",
    "# I just add cterminal amidation as the amino acid after the last real amino acid (if the amino acid gets truncated\n",
    "# then the cterminal amidation also gets cut off)\n",
    "    default = np.zeros([MAX_SEQUENCE_LENGTH, len(character_to_index) + 1])\n",
    "    for i, character in enumerate(sequence[:MAX_SEQUENCE_LENGTH]):\n",
    "        default[i][character_to_index[character]] = 1\n",
    "    if len(sequence)<MAX_SEQUENCE_LENGTH:\n",
    "        default[len(sequence)][-1]=cterminal_amidation\n",
    "    return default\n",
    "\n",
    "def old_sequence_to_vector(sequence, cterminal_amidation):\n",
    "    default = np.zeros([MAX_SEQUENCE_LENGTH, len(character_to_index) + 1])\n",
    "    for i, character in enumerate(sequence[:MAX_SEQUENCE_LENGTH]):\n",
    "        default[i][character_to_index[character]] = 1\n",
    "        default[i][-1] = cterminal_amidation\n",
    "    return default\n",
    "\n",
    "def find_character(character2index, character):\n",
    "    for key in character2index:\n",
    "        if character in key:\n",
    "            return character2index[key]\n",
    "    return -2\n",
    "\n",
    "def row_to_vector(row, shuffle_sequence=False):\n",
    "    sequence = list(row['sequence'])\n",
    "    if shuffle_sequence:\n",
    "        random.shuffle(sequence)\n",
    "    cterminal_amidation = row['has_cterminal_modification']\n",
    "    return sequence_to_vector(sequence,cterminal_amidation)\n",
    "\n",
    "def old_row_to_vector(row, shuffle_sequence=False):\n",
    "    sequence = list(row['sequence'])\n",
    "    if shuffle_sequence:\n",
    "        random.shuffle(sequence)\n",
    "    cterminal_amidation = row['has_cterminal_modification']\n",
    "    default = np.zeros([MAX_SEQUENCE_LENGTH, len(character_to_index) + 1])\n",
    "\n",
    "    for i, character in enumerate(sequence[:MAX_SEQUENCE_LENGTH]):\n",
    "        default[i][find_character(character_to_index, character)] = 1\n",
    "        default[i][-1] = cterminal_amidation\n",
    "\n",
    "    return default\n",
    "\n",
    "def vector_to_amp(vector):\n",
    "    sequence = ''\n",
    "    has_cterm = False\n",
    "    for v in vector:\n",
    "        nonzeros = np.argwhere(v[:len(character_to_index)])\n",
    "        if len(nonzeros) > 1:\n",
    "            print(\"?????\")\n",
    "        elif len(nonzeros) == 0:\n",
    "            sequence += '_'\n",
    "        else:\n",
    "            sequence += index2character[np.argwhere(v)[0][0]]  # First one\n",
    "        if v[-1]>0:\n",
    "            has_cterm=True\n",
    "    return {\n",
    "        'sequence': sequence,\n",
    "        'cterminal_amidation': has_cterm\n",
    "    }\n",
    "\n",
    "def bacterium_to_sample_weight(bacterium, intended_bacterium='E. coli'):\n",
    "    if intended_bacterium in bacterium:\n",
    "        return 1\n",
    "    else:\n",
    "        return 0.5"
   ]
  },
  {
   "cell_type": "code",
   "execution_count": 13,
   "metadata": {
    "collapsed": true
   },
   "outputs": [],
   "source": [
    "def containing_bacterium(bacterium, df):\n",
    "    return df.loc[df.bacterium.str.contains(bacterium)]\n",
    "\n",
    "def average_over_databases(bacterium_df):\n",
    "    return bacterium_df.groupby('sequence')['value'].mean().dropna()\n",
    "\n",
    "staph = containing_bacterium('S. aureus', df)\n",
    "staph = average_over_databases(staph)\n",
    "\n",
    "ecoli = df.loc[df.bacterium.str.contains('E. coli')].groupby('sequence')['value'].mean().dropna()\n",
    "pseudomonas = df.loc[df.bacterium.str.contains('P. aeruginosa')].groupby('sequence')['value'].mean().dropna()\n",
    "streptococcus = df.loc[df.bacterium.str.contains('S. mutans')].groupby('sequence')['value'].mean().dropna()\n",
    "bacillus = df.loc[df.bacterium.str.contains('B. subtilis')].groupby('sequence')['value'].mean().dropna()"
   ]
  },
  {
   "cell_type": "code",
   "execution_count": 14,
   "metadata": {
    "collapsed": false
   },
   "outputs": [
    {
     "data": {
      "text/html": [
       "<div>\n",
       "<style scoped>\n",
       "    .dataframe tbody tr th:only-of-type {\n",
       "        vertical-align: middle;\n",
       "    }\n",
       "\n",
       "    .dataframe tbody tr th {\n",
       "        vertical-align: top;\n",
       "    }\n",
       "\n",
       "    .dataframe thead th {\n",
       "        text-align: right;\n",
       "    }\n",
       "</style>\n",
       "<table border=\"1\" class=\"dataframe\">\n",
       "  <thead>\n",
       "    <tr style=\"text-align: right;\">\n",
       "      <th></th>\n",
       "      <th>ecoli</th>\n",
       "      <th>pseudomonas</th>\n",
       "      <th>streptococcus</th>\n",
       "      <th>staph</th>\n",
       "      <th>bacillus</th>\n",
       "    </tr>\n",
       "  </thead>\n",
       "  <tbody>\n",
       "    <tr>\n",
       "      <th>ecoli</th>\n",
       "      <td>1.00</td>\n",
       "      <td>0.78</td>\n",
       "      <td>0.71</td>\n",
       "      <td>0.67</td>\n",
       "      <td>0.69</td>\n",
       "    </tr>\n",
       "    <tr>\n",
       "      <th>pseudomonas</th>\n",
       "      <td>0.78</td>\n",
       "      <td>1.00</td>\n",
       "      <td>0.52</td>\n",
       "      <td>0.65</td>\n",
       "      <td>0.60</td>\n",
       "    </tr>\n",
       "    <tr>\n",
       "      <th>streptococcus</th>\n",
       "      <td>0.71</td>\n",
       "      <td>0.52</td>\n",
       "      <td>1.00</td>\n",
       "      <td>0.83</td>\n",
       "      <td>0.82</td>\n",
       "    </tr>\n",
       "    <tr>\n",
       "      <th>staph</th>\n",
       "      <td>0.67</td>\n",
       "      <td>0.65</td>\n",
       "      <td>0.83</td>\n",
       "      <td>1.00</td>\n",
       "      <td>0.67</td>\n",
       "    </tr>\n",
       "    <tr>\n",
       "      <th>bacillus</th>\n",
       "      <td>0.69</td>\n",
       "      <td>0.60</td>\n",
       "      <td>0.82</td>\n",
       "      <td>0.67</td>\n",
       "      <td>1.00</td>\n",
       "    </tr>\n",
       "  </tbody>\n",
       "</table>\n",
       "</div>"
      ],
      "text/plain": [
       "               ecoli  pseudomonas  streptococcus  staph  bacillus\n",
       "ecoli           1.00         0.78           0.71   0.67      0.69\n",
       "pseudomonas     0.78         1.00           0.52   0.65      0.60\n",
       "streptococcus   0.71         0.52           1.00   0.83      0.82\n",
       "staph           0.67         0.65           0.83   1.00      0.67\n",
       "bacillus        0.69         0.60           0.82   0.67      1.00"
      ]
     },
     "execution_count": 14,
     "metadata": {},
     "output_type": "execute_result"
    }
   ],
   "source": [
    "# Show the correlation between bacteria\n",
    "# Note that Gram-Positivity seems to have a strong effect on correlation\n",
    "# E. coli and pseudomonas are highly correlated\n",
    "# While neither is correlated with streptococcus, staph or bacillus\n",
    "# Meanwhile, staph and streptococcus are strongly correlated as expected\n",
    "# As are bacillus and streptococcus\n",
    "# The lack of correlation between bacillus and staph is a mystery to me\n",
    "many_bacteria = pd.concat([ecoli, pseudomonas, streptococcus, staph, bacillus], axis=1).reset_index()\n",
    "many_bacteria.columns = ['index', 'ecoli', 'pseudomonas', 'streptococcus', 'staph', 'bacillus']\n",
    "many_bacteria.corr()"
   ]
  },
  {
   "cell_type": "code",
   "execution_count": 15,
   "metadata": {
    "collapsed": false
   },
   "outputs": [
    {
     "name": "stderr",
     "output_type": "stream",
     "text": [
      "/Users/jacobwitten/anaconda/lib/python2.7/site-packages/sklearn/linear_model/base.py:509: RuntimeWarning: internal gelsd driver lwork query error, required iwork dimension not returned. This is likely the result of LAPACK bug 0038, fixed in LAPACK 3.2.2 (released July 21, 2010). Falling back to 'gelss' driver.\n",
      "  linalg.lstsq(X, y)\n"
     ]
    }
   ],
   "source": [
    "# Since ecoli data and pseudomonas data are highly correlated, we will use some pseudomonas data in the model\n",
    "# (With a lower sample weight)\n",
    "ecoli_pseudomonas = many_bacteria.dropna(subset=('ecoli', 'pseudomonas'))\n",
    "x = np.array(ecoli_pseudomonas['pseudomonas']).reshape(-1, 1)\n",
    "y = np.array(ecoli_pseudomonas['ecoli']).reshape(-1, 1)\n",
    "pseudomonas_to_ecoli_model = LinearRegression().fit(x, y)"
   ]
  },
  {
   "cell_type": "code",
   "execution_count": 16,
   "metadata": {
    "collapsed": true
   },
   "outputs": [],
   "source": [
    "def get_bacterium_df(bacterium, df):\n",
    "    bdf = df.loc[(df.bacterium.str.contains(bacterium))].groupby(['sequence', 'bacterium'])\n",
    "    return bdf.mean().reset_index().dropna()"
   ]
  },
  {
   "cell_type": "code",
   "execution_count": 17,
   "metadata": {
    "collapsed": true
   },
   "outputs": [],
   "source": [
    "def strip_bad_amino_acids(df, bad_amino_acids=('U', 'X', 'Z')):\n",
    "    for b in bad_amino_acids:\n",
    "        df = df.loc[~df.sequence.str.contains(b)]\n",
    "    return df"
   ]
  },
  {
   "cell_type": "code",
   "execution_count": 18,
   "metadata": {
    "collapsed": true
   },
   "outputs": [],
   "source": [
    "ecoli_df = get_bacterium_df('E. coli', df)\n",
    "ecoli_df = strip_bad_amino_acids(ecoli_df)"
   ]
  },
  {
   "cell_type": "code",
   "execution_count": 19,
   "metadata": {
    "collapsed": false
   },
   "outputs": [
    {
     "data": {
      "text/plain": [
       "<matplotlib.axes._subplots.AxesSubplot at 0x10e3f01d0>"
      ]
     },
     "execution_count": 19,
     "metadata": {},
     "output_type": "execute_result"
    },
    {
     "data": {
      "image/png": "[encoded data removed]",
      "text/plain": [
       "<matplotlib.figure.Figure at 0x10dbf6350>"
      ]
     },
     "metadata": {},
     "output_type": "display_data"
    }
   ],
   "source": [
    "# MIC on E. coli is normally distributed-ish\n",
    "ecoli_df.value.hist()"
   ]
  },
  {
   "cell_type": "code",
   "execution_count": 20,
   "metadata": {
    "collapsed": true
   },
   "outputs": [],
   "source": [
    "# Generate the input vectors for our model\n",
    "# Each vector is two dimensional\n",
    "# The first dimension represents the number of characters in the sequence (46 characters)\n",
    "# Each character is a vector of length equal to the number of groupings of amino acids\n",
    "# This grouping can be 1-1 (each amino acid gets its own group), or coarser\n",
    "SHUFFLE_SEQUENCE = False\n",
    "cterminal_amidation = np.array(ecoli_df.has_cterminal_modification)\n",
    "\n",
    "vectors = []\n",
    "for row in ecoli_df.iterrows():\n",
    "    vectors.append(row_to_vector(row[1], shuffle_sequence=SHUFFLE_SEQUENCE))\n",
    "\n",
    "vectors = np.array(vectors)\n",
    "\n",
    "labels = np.array(ecoli_df.value)\n",
    "sample_weights = np.full(len(labels), 1)"
   ]
  },
  {
   "cell_type": "code",
   "execution_count": 21,
   "metadata": {
    "collapsed": true
   },
   "outputs": [],
   "source": [
    "def generate_random_sequence(alphabet, length_of_sequence_min=25, length_of_sequence_max=40):\n",
    "        sequence = ''\n",
    "        for _ in range(random.choice(range(length_of_sequence_min, length_of_sequence_max))):\n",
    "            sequence += random.choice(list(alphabet))\n",
    "        has_cterminal_modification = random.choice([0, 1])\n",
    "\n",
    "        return {\n",
    "            'sequence': sequence,\n",
    "            'has_cterminal_modification': has_cterminal_modification\n",
    "        }\n",
    "\n",
    "def add_random_negative_examples(vectors, labels, sample_weights, ratio, max_mic = None):\n",
    "    if not max_mic:\n",
    "        max_mic = max(labels)\n",
    "    # We will add randomly chosen sequences as negative examples\n",
    "    # We will double the length of our training set\n",
    "\n",
    "    len_vectors = ratio * len(vectors)\n",
    "    negative_rows = []\n",
    "    for i in range(len_vectors):\n",
    "        negative_rows.append(row_to_vector(generate_random_sequence(list(CHARACTER_DICT))))\n",
    "    negative_vectors = np.array(negative_rows)\n",
    "    vectors = np.concatenate((vectors, negative_vectors))\n",
    "    negative_labels = np.full(len_vectors, max_mic)\n",
    "    labels = np.concatenate((labels, negative_labels))\n",
    "    # Weight all samples equally\n",
    "    sample_weights = np.concatenate((sample_weights, np.full(len_vectors, 1)))\n",
    "    return vectors, labels, sample_weights"
   ]
  },
  {
   "cell_type": "code",
   "execution_count": 22,
   "metadata": {
    "collapsed": true
   },
   "outputs": [],
   "source": [
    "MAX_MIC = 3.5\n",
    "vectors, labels, sample_weights = add_random_negative_examples(vectors, labels, sample_weights, ratio=1, max_mic=MAX_MIC)"
   ]
  },
  {
   "cell_type": "code",
   "execution_count": 23,
   "metadata": {
    "collapsed": false
   },
   "outputs": [
    {
     "name": "stdout",
     "output_type": "stream",
     "text": [
      "Vector shape after adding negative examples\n",
      "(9016, 46, 21)\n"
     ]
    }
   ],
   "source": [
    "print(\"Vector shape after adding negative examples\")\n",
    "print(vectors.shape)"
   ]
  },
  {
   "cell_type": "code",
   "execution_count": 24,
   "metadata": {
    "collapsed": true
   },
   "outputs": [],
   "source": [
    "# Create simulated ecoli data from pseudomonas data\n",
    "bacteria_name = 'P. aeruginosa'\n",
    "pa_df = df.loc[(df.bacterium.str.contains(bacteria_name))].groupby(['sequence', 'bacterium'])\n",
    "pa_df = pa_df.mean().reset_index().dropna()\n",
    "\n",
    "pa_cterminal_amidation = np.array(pa_df.has_cterminal_modification)\n",
    "\n",
    "pa_vectors = []\n",
    "for row in pa_df.iterrows():\n",
    "    pa_vectors.append(row_to_vector(row[1], shuffle_sequence=SHUFFLE_SEQUENCE))\n",
    "\n",
    "pa_vectors = np.array(pa_vectors)\n",
    "\n",
    "pa_labels = np.array(pa_df.value.apply(pseudomonas_to_ecoli_model.predict))  # Interpolate using the linear model\n",
    "pa_sample_weights = np.array([0.5] * len(pa_labels))"
   ]
  },
  {
   "cell_type": "code",
   "execution_count": 25,
   "metadata": {
    "collapsed": false
   },
   "outputs": [
    {
     "name": "stdout",
     "output_type": "stream",
     "text": [
      "Baseline error:\n",
      "1.6979921723869722\n",
      "Baseline error on measured examples only\n",
      "0.5995982451676932\n"
     ]
    }
   ],
   "source": [
    "average = np.mean(labels)\n",
    "squared_errors = sum([(label - average) ** 2 for label in labels])\n",
    "baseline_error = squared_errors/len(labels)\n",
    "print(\"Baseline error:\")\n",
    "print(baseline_error)\n",
    "measured_labels = [l for l in labels if l < MAX_MIC]\n",
    "average = np.mean(measured_labels)\n",
    "squared_errors = sum([(label - average) ** 2 for label in measured_labels])\n",
    "baseline_error = squared_errors/len(measured_labels)\n",
    "print(\"Baseline error on measured examples only\")\n",
    "print(baseline_error)"
   ]
  },
  {
   "cell_type": "code",
   "execution_count": 26,
   "metadata": {
    "collapsed": false
   },
   "outputs": [
    {
     "data": {
      "text/plain": [
       "LinearRegression(copy_X=True, fit_intercept=True, n_jobs=1, normalize=False)"
      ]
     },
     "execution_count": 26,
     "metadata": {},
     "output_type": "execute_result"
    }
   ],
   "source": [
    "from sklearn.linear_model import LinearRegression\n",
    "from sklearn.model_selection import cross_val_score\n",
    "linear_estimator = LinearRegression()\n",
    "#cross_val_score(linear_estimator, vectors.reshape(vectors.shape[0], -1)[:10], labels[:10])\n",
    "i = 200\n",
    "#cross_val_score(linear_estimator, np.full(i, 1).reshape(-1, 1), random_labels, scoring='neg_mean_squared_error')\n",
    "#linear_estimator.fit(vectors.reshape(vectors.shape[0], -1)[:95], labels[:95])\n",
    "linear_estimator.fit(np.full(shape=(len(labels)), fill_value=1).reshape(-1, 1), labels)\n",
    "#cross_val_score(linear_estimator, vectors.reshape(vectors.shape[0], -1), labels, scoring='neg_mean_squared_error')"
   ]
  },
  {
   "cell_type": "code",
   "execution_count": 27,
   "metadata": {
    "collapsed": false
   },
   "outputs": [
    {
     "name": "stderr",
     "output_type": "stream",
     "text": [
      "/Users/jacobwitten/.local/lib/python2.7/site-packages/h5py/__init__.py:36: FutureWarning: Conversion of the second argument of issubdtype from `float` to `np.floating` is deprecated. In future, it will be treated as `np.float64 == np.dtype(float).type`.\n",
      "  from ._conv import register_converters as _register_converters\n",
      "Using TensorFlow backend.\n"
     ]
    }
   ],
   "source": [
    "import keras\n",
    "from keras.layers import Dense, Dropout, LSTM, Conv2D, Conv1D, MaxPooling1D, MaxPooling2D, Flatten\n",
    "from keras.wrappers.scikit_learn import KerasRegressor\n",
    "from sklearn.model_selection import KFold\n",
    "from sklearn.model_selection import cross_val_score"
   ]
  },
  {
   "cell_type": "code",
   "execution_count": 28,
   "metadata": {
    "collapsed": true
   },
   "outputs": [],
   "source": [
    "def generate_train_test_splits(\n",
    "        vectors, labels,\n",
    "        extra_training_vectors=[], extra_training_labels=[], extra_sample_weights=[],\n",
    "        cutoff=0.85\n",
    "):\n",
    "    cutoff = int(cutoff * len(labels))\n",
    "    idx = range(len(vectors))\n",
    "    random.shuffle(idx)\n",
    "    reordered_vectors = vectors[idx]\n",
    "    reordered_labels = labels[idx]\n",
    "    reordered_sample_weights = sample_weights[idx]\n",
    "    if len(extra_training_vectors) > 0:\n",
    "        train_x = np.concatenate((reordered_vectors[:cutoff], extra_training_vectors))\n",
    "        train_y = np.concatenate((reordered_labels[:cutoff], extra_training_labels))\n",
    "        train_sample_weights = np.concatenate((reordered_sample_weights[:cutoff], pa_sample_weights))\n",
    "    else:\n",
    "        train_x = reordered_vectors[:cutoff]\n",
    "        train_y = reordered_labels[:cutoff]\n",
    "        train_sample_weights = reordered_sample_weights[:cutoff]\n",
    "    test_x = reordered_vectors[cutoff:]\n",
    "    test_y = reordered_labels[cutoff:]\n",
    "    return train_x, train_y, test_x, test_y, train_sample_weights"
   ]
  },
  {
   "cell_type": "code",
   "execution_count": 29,
   "metadata": {
    "collapsed": true
   },
   "outputs": [],
   "source": [
    "# Convolutional NN\n",
    "def conv_model():\n",
    "    model = keras.models.Sequential()\n",
    "    model.add(Conv1D(\n",
    "        64,\n",
    "        kernel_size = 5,\n",
    "        strides = 1,\n",
    "        activation = 'relu',\n",
    "        input_shape = (MAX_SEQUENCE_LENGTH, len(character_to_index) + 1)\n",
    "    ))\n",
    "    model.add(MaxPooling1D(pool_size=2, strides=2))\n",
    "    #model.add(Dropout(0.5))\n",
    "    model.add(Conv1D(64, 5, activation='relu'))\n",
    "    model.add(MaxPooling1D(pool_size=2))\n",
    "    model.add(Flatten())\n",
    "    model.add(Dropout(0.5))\n",
    "    model.add(Dense(100, activation='relu'))\n",
    "    #model.add(Dense(100, activation='relu'))\n",
    "    model.add(Dense(20, activation='relu'))\n",
    "    model.add(Dense(1))\n",
    "    model.compile(loss='mean_squared_error', optimizer='adam')\n",
    "    return model"
   ]
  },
  {
   "cell_type": "code",
   "execution_count": 30,
   "metadata": {
    "collapsed": false,
    "scrolled": true
   },
   "outputs": [
    {
     "name": "stdout",
     "output_type": "stream",
     "text": [
      "Epoch 1/100\n",
      "10156/10156 [==============================] - 4s 351us/step - loss: 0.8223\n",
      "Epoch 2/100\n",
      "10156/10156 [==============================] - 4s 365us/step - loss: 0.4955\n",
      "Epoch 3/100\n",
      "10156/10156 [==============================] - 4s 362us/step - loss: 0.3896\n",
      "Epoch 4/100\n",
      "10156/10156 [==============================] - 4s 365us/step - loss: 0.3255\n",
      "Epoch 5/100\n",
      "10156/10156 [==============================] - 3s 298us/step - loss: 0.2812\n",
      "Epoch 6/100\n",
      "10156/10156 [==============================] - 3s 298us/step - loss: 0.2555\n",
      "Epoch 7/100\n",
      "10156/10156 [==============================] - 3s 304us/step - loss: 0.2335\n",
      "Epoch 8/100\n",
      "10156/10156 [==============================] - 3s 304us/step - loss: 0.2186\n",
      "Epoch 9/100\n",
      "10156/10156 [==============================] - 3s 315us/step - loss: 0.2037\n",
      "Epoch 10/100\n",
      "10156/10156 [==============================] - 3s 321us/step - loss: 0.1862\n",
      "Epoch 11/100\n",
      "10156/10156 [==============================] - 3s 306us/step - loss: 0.1825\n",
      "Epoch 12/100\n",
      "10156/10156 [==============================] - 3s 319us/step - loss: 0.1761\n",
      "Epoch 13/100\n",
      "10156/10156 [==============================] - 4s 382us/step - loss: 0.1590\n",
      "Epoch 14/100\n",
      "10156/10156 [==============================] - 4s 355us/step - loss: 0.1548\n",
      "Epoch 15/100\n",
      "10156/10156 [==============================] - 3s 326us/step - loss: 0.1521\n",
      "Epoch 16/100\n",
      "10156/10156 [==============================] - 3s 314us/step - loss: 0.1459\n",
      "Epoch 17/100\n",
      "10156/10156 [==============================] - 3s 306us/step - loss: 0.1390\n",
      "Epoch 18/100\n",
      "10156/10156 [==============================] - 3s 310us/step - loss: 0.1294\n",
      "Epoch 19/100\n",
      "10156/10156 [==============================] - 4s 367us/step - loss: 0.1241\n",
      "Epoch 20/100\n",
      "10156/10156 [==============================] - 4s 406us/step - loss: 0.1279\n",
      "Epoch 21/100\n",
      "10156/10156 [==============================] - 4s 372us/step - loss: 0.1143\n",
      "Epoch 22/100\n",
      "10156/10156 [==============================] - 4s 394us/step - loss: 0.1149\n",
      "Epoch 23/100\n",
      "10156/10156 [==============================] - 4s 375us/step - loss: 0.1112\n",
      "Epoch 24/100\n",
      "10156/10156 [==============================] - 3s 286us/step - loss: 0.1152\n",
      "Epoch 25/100\n",
      "10156/10156 [==============================] - 3s 281us/step - loss: 0.1056\n",
      "Epoch 26/100\n",
      "10156/10156 [==============================] - 3s 275us/step - loss: 0.1037\n",
      "Epoch 27/100\n",
      "10156/10156 [==============================] - 3s 270us/step - loss: 0.1058\n",
      "Epoch 28/100\n",
      "10156/10156 [==============================] - 3s 260us/step - loss: 0.1062\n",
      "Epoch 29/100\n",
      "10156/10156 [==============================] - 3s 259us/step - loss: 0.1001\n",
      "Epoch 30/100\n",
      "10156/10156 [==============================] - 3s 293us/step - loss: 0.0950\n",
      "Epoch 31/100\n",
      "10156/10156 [==============================] - 3s 285us/step - loss: 0.1024\n",
      "Epoch 32/100\n",
      "10156/10156 [==============================] - 3s 273us/step - loss: 0.1053\n",
      "Epoch 33/100\n",
      "10156/10156 [==============================] - 3s 290us/step - loss: 0.0942\n",
      "Epoch 34/100\n",
      "10156/10156 [==============================] - 3s 332us/step - loss: 0.0909\n",
      "Epoch 35/100\n",
      "10156/10156 [==============================] - 3s 278us/step - loss: 0.0918\n",
      "Epoch 36/100\n",
      "10156/10156 [==============================] - 3s 279us/step - loss: 0.0929\n",
      "Epoch 37/100\n",
      "10156/10156 [==============================] - 3s 292us/step - loss: 0.0924\n",
      "Epoch 38/100\n",
      "10156/10156 [==============================] - 3s 298us/step - loss: 0.0921\n",
      "Epoch 39/100\n",
      "10156/10156 [==============================] - 3s 280us/step - loss: 0.0905\n",
      "Epoch 40/100\n",
      "10156/10156 [==============================] - 3s 281us/step - loss: 0.0944\n",
      "Epoch 41/100\n",
      "10156/10156 [==============================] - 3s 322us/step - loss: 0.0843\n",
      "Epoch 42/100\n",
      "10156/10156 [==============================] - 3s 288us/step - loss: 0.0839\n",
      "Epoch 43/100\n",
      "10156/10156 [==============================] - 3s 285us/step - loss: 0.0861\n",
      "Epoch 44/100\n",
      "10156/10156 [==============================] - 3s 289us/step - loss: 0.0837\n",
      "Epoch 45/100\n",
      "10156/10156 [==============================] - 4s 420us/step - loss: 0.0830\n",
      "Epoch 46/100\n",
      "10156/10156 [==============================] - 4s 379us/step - loss: 0.0834\n",
      "Epoch 47/100\n",
      "10156/10156 [==============================] - 3s 327us/step - loss: 0.0871\n",
      "Epoch 48/100\n",
      "10156/10156 [==============================] - 3s 301us/step - loss: 0.0806\n",
      "Epoch 49/100\n",
      "10156/10156 [==============================] - 3s 266us/step - loss: 0.0778\n",
      "Epoch 50/100\n",
      "10156/10156 [==============================] - 3s 266us/step - loss: 0.0777\n",
      "Epoch 51/100\n",
      "10156/10156 [==============================] - 3s 265us/step - loss: 0.0802\n",
      "Epoch 52/100\n",
      "10156/10156 [==============================] - 3s 264us/step - loss: 0.0925\n",
      "Epoch 53/100\n",
      "10156/10156 [==============================] - 3s 314us/step - loss: 0.0810\n",
      "Epoch 54/100\n",
      "10156/10156 [==============================] - 3s 279us/step - loss: 0.0745\n",
      "Epoch 55/100\n",
      "10156/10156 [==============================] - 3s 297us/step - loss: 0.0755\n",
      "Epoch 56/100\n",
      "10156/10156 [==============================] - 3s 285us/step - loss: 0.0780\n",
      "Epoch 57/100\n",
      "10156/10156 [==============================] - 3s 274us/step - loss: 0.0768\n",
      "Epoch 58/100\n",
      "10156/10156 [==============================] - 3s 308us/step - loss: 0.0754\n",
      "Epoch 59/100\n",
      "10156/10156 [==============================] - 3s 262us/step - loss: 0.0761\n",
      "Epoch 60/100\n",
      "10156/10156 [==============================] - 3s 286us/step - loss: 0.0806\n",
      "Epoch 61/100\n",
      "10156/10156 [==============================] - 3s 336us/step - loss: 0.0720\n",
      "Epoch 62/100\n",
      "10156/10156 [==============================] - 4s 350us/step - loss: 0.0806\n",
      "Epoch 63/100\n",
      "10156/10156 [==============================] - 3s 341us/step - loss: 0.0733\n",
      "Epoch 64/100\n",
      "10156/10156 [==============================] - 3s 335us/step - loss: 0.0739\n",
      "Epoch 65/100\n",
      "10156/10156 [==============================] - 3s 291us/step - loss: 0.0730\n",
      "Epoch 66/100\n",
      "10156/10156 [==============================] - 4s 369us/step - loss: 0.0692\n",
      "Epoch 67/100\n",
      "10156/10156 [==============================] - 3s 341us/step - loss: 0.0695\n",
      "Epoch 68/100\n",
      "10156/10156 [==============================] - 3s 338us/step - loss: 0.0737\n",
      "Epoch 69/100\n",
      "10156/10156 [==============================] - 4s 354us/step - loss: 0.0689\n",
      "Epoch 70/100\n",
      "10156/10156 [==============================] - 4s 352us/step - loss: 0.0651\n",
      "Epoch 71/100\n",
      "10156/10156 [==============================] - 4s 367us/step - loss: 0.0691\n",
      "Epoch 72/100\n",
      "10156/10156 [==============================] - 3s 343us/step - loss: 0.0680\n",
      "Epoch 73/100\n",
      "10156/10156 [==============================] - 3s 343us/step - loss: 0.0698\n",
      "Epoch 74/100\n",
      "10156/10156 [==============================] - 3s 332us/step - loss: 0.0746\n",
      "Epoch 75/100\n",
      "10156/10156 [==============================] - 4s 346us/step - loss: 0.0749\n",
      "Epoch 76/100\n",
      "10156/10156 [==============================] - 4s 351us/step - loss: 0.0709\n",
      "Epoch 77/100\n",
      "10156/10156 [==============================] - 3s 341us/step - loss: 0.0667\n",
      "Epoch 78/100\n",
      "10156/10156 [==============================] - 3s 342us/step - loss: 0.0670\n",
      "Epoch 79/100\n",
      "10156/10156 [==============================] - 4s 350us/step - loss: 0.0655\n",
      "Epoch 80/100\n",
      "10156/10156 [==============================] - 4s 346us/step - loss: 0.0739\n",
      "Epoch 81/100\n",
      "10156/10156 [==============================] - 4s 345us/step - loss: 0.0666\n",
      "Epoch 82/100\n",
      "10156/10156 [==============================] - 4s 348us/step - loss: 0.0651\n",
      "Epoch 83/100\n",
      "10156/10156 [==============================] - 4s 347us/step - loss: 0.0632\n",
      "Epoch 84/100\n",
      "10156/10156 [==============================] - 3s 341us/step - loss: 0.0638\n",
      "Epoch 85/100\n",
      "10156/10156 [==============================] - 3s 341us/step - loss: 0.0672\n",
      "Epoch 86/100\n",
      "10156/10156 [==============================] - 3s 343us/step - loss: 0.0673\n",
      "Epoch 87/100\n",
      "10156/10156 [==============================] - 3s 338us/step - loss: 0.0680\n",
      "Epoch 88/100\n",
      "10156/10156 [==============================] - 3s 340us/step - loss: 0.0809\n",
      "Epoch 89/100\n",
      "10156/10156 [==============================] - 3s 315us/step - loss: 0.0704\n",
      "Epoch 90/100\n",
      "10156/10156 [==============================] - 3s 341us/step - loss: 0.0663\n",
      "Epoch 91/100\n",
      "10156/10156 [==============================] - 4s 346us/step - loss: 0.0663\n",
      "Epoch 92/100\n",
      "10156/10156 [==============================] - 3s 329us/step - loss: 0.0675\n",
      "Epoch 93/100\n",
      "10156/10156 [==============================] - 3s 330us/step - loss: 0.0627\n",
      "Epoch 94/100\n",
      "10156/10156 [==============================] - 3s 321us/step - loss: 0.0623\n",
      "Epoch 95/100\n",
      "10156/10156 [==============================] - 4s 348us/step - loss: 0.0607\n",
      "Epoch 96/100\n",
      "10156/10156 [==============================] - 4s 346us/step - loss: 0.0627\n",
      "Epoch 97/100\n",
      "10156/10156 [==============================] - 3s 340us/step - loss: 0.0653\n",
      "Epoch 98/100\n",
      "10156/10156 [==============================] - 3s 339us/step - loss: 0.0665\n",
      "Epoch 99/100\n",
      "10156/10156 [==============================] - 3s 336us/step - loss: 0.0635\n",
      "Epoch 100/100\n",
      "10156/10156 [==============================] - 3s 342us/step - loss: 0.0648\n"
     ]
    },
    {
     "data": {
      "text/plain": [
       "<keras.callbacks.History at 0x1146c0890>"
      ]
     },
     "execution_count": 30,
     "metadata": {},
     "output_type": "execute_result"
    }
   ],
   "source": [
    "convmodel = conv_model()\n",
    "train_x, train_y, test_x, test_y, _ = generate_train_test_splits(vectors, labels, pa_vectors, pa_labels, pa_sample_weights)\n",
    "convmodel.fit(train_x, train_y, batch_size=40, epochs=100)"
   ]
  },
  {
   "cell_type": "code",
   "execution_count": 31,
   "metadata": {
    "collapsed": false
   },
   "outputs": [
    {
     "name": "stdout",
     "output_type": "stream",
     "text": [
      "CNN test error, MSE of log MIC\n",
      "1353/1353 [==============================] - 0s 162us/step\n",
      "0.2018405778697676\n"
     ]
    }
   ],
   "source": [
    "print(\"CNN test error, MSE of log MIC\")\n",
    "print(convmodel.evaluate(test_x, test_y))"
   ]
  },
  {
   "cell_type": "code",
   "execution_count": 110,
   "metadata": {
    "collapsed": false
   },
   "outputs": [
    {
     "name": "stdout",
     "output_type": "stream",
     "text": [
      "CNN test error, MSE of log MIC\n",
      "2705/2705 [==============================] - 1s 193us/step\n",
      "0.10254753295077414\n"
     ]
    }
   ],
   "source": [
    "# THIS IS THE OLD ONE\n",
    "print(\"CNN test error, MSE of log MIC\")\n",
    "print(convmodel.evaluate(test_x, test_y))"
   ]
  },
  {
   "cell_type": "code",
   "execution_count": 32,
   "metadata": {
    "collapsed": false
   },
   "outputs": [
    {
     "name": "stdout",
     "output_type": "stream",
     "text": [
      "CNN test error on measured examples only\n",
      "0.3126112\n"
     ]
    }
   ],
   "source": [
    "print(\"CNN test error on measured examples only\")\n",
    "print(np.mean(\n",
    "    [(actual - predicted) ** 2 \n",
    "     for actual, predicted in zip(test_y, convmodel.predict(test_x)) if actual < MAX_MIC\n",
    "    ]\n",
    "))"
   ]
  },
  {
   "cell_type": "code",
   "execution_count": 111,
   "metadata": {
    "collapsed": false
   },
   "outputs": [
    {
     "name": "stdout",
     "output_type": "stream",
     "text": [
      "CNN test error on measured examples only\n",
      "0.38956055\n"
     ]
    }
   ],
   "source": [
    "# THIS IS THE OLD ONE\n",
    "print(\"CNN test error on measured examples only\")\n",
    "print(np.mean(\n",
    "    [(actual - predicted) ** 2 \n",
    "     for actual, predicted in zip(test_y, convmodel.predict(test_x)) if actual < MAX_MIC\n",
    "    ]\n",
    "))"
   ]
  },
  {
   "cell_type": "code",
   "execution_count": 303,
   "metadata": {
    "collapsed": false
   },
   "outputs": [
    {
     "name": "stdout",
     "output_type": "stream",
     "text": [
      "CNN test error, MSE of log MIC (RANDOM SHUFFLED SEQUENCE)\n",
      "1353/1353 [==============================] - 0s 106us/step\n",
      "0.17386886583199257\n"
     ]
    }
   ],
   "source": [
    "print(\"CNN test error, MSE of log MIC (RANDOM SHUFFLED SEQUENCE)\")\n",
    "print(convmodel.evaluate(test_x, test_y))"
   ]
  },
  {
   "cell_type": "code",
   "execution_count": 304,
   "metadata": {
    "collapsed": false
   },
   "outputs": [
    {
     "name": "stdout",
     "output_type": "stream",
     "text": [
      "CNN test error on measured examples only (RANDOM SHUFFLED SEQUENCE)\n",
      "0.29721802\n"
     ]
    }
   ],
   "source": [
    "print(\"CNN test error on measured examples only (RANDOM SHUFFLED SEQUENCE)\")\n",
    "print(np.mean(\n",
    "    [(actual - predicted) ** 2 \n",
    "     for actual, predicted in zip(test_y, convmodel.predict(test_x)) if actual < MAX_MIC\n",
    "    ]\n",
    "))"
   ]
  },
  {
   "cell_type": "code",
   "execution_count": 33,
   "metadata": {
    "collapsed": true
   },
   "outputs": [],
   "source": [
    "scales={'Eisenberg':{'A':  0.25, 'R': -1.80, 'N': -0.64,'D': -0.72, 'C':  0.04, 'Q': -0.69,'E': -0.62, 'G':  0.16, 'H': -0.40,'I':  0.73, 'L':  0.53, 'K': -1.10,'M':  0.26, 'F':  0.61, 'P': -0.07,'S': -0.26, 'T': -0.18, 'W':  0.37,'Y':  0.02, 'V':  0.54},\n",
    "'Normalized_consensus':{'A':0.62,'C':0.29,'D':-0.9,'E':-0.74,'F':1.19,'G':0.48,'H':-0.4,'I':1.38,'K':-1.5,'L':1.06,'M':0.64,'N':-0.78,'P':0.12,'Q':-0.85,'R':-2.53,'S':-0.18,'T':-.05,'V':1.08,'W':0.81,'Y':0.26}}\n",
    "\n",
    "def hydrophobic_moment(sequence,scale='Normalized_consensus',angle=0,is_in_degrees=True,normalize=True):\n",
    "    # Angle should be 100 for alpha helix, 180 for beta sheet\n",
    "    hscale=scales[scale]\n",
    "    sin_sum = 0\n",
    "    cos_sum = 0\n",
    "    moment=0\n",
    "    for i in range(len(sequence)):\n",
    "        hp=hscale[sequence[i]]\n",
    "        angle_in_radians=i*angle\n",
    "        if is_in_degrees:\n",
    "            angle_in_radians = (i*angle)*math.pi/180.0\n",
    "        sin_sum += hp*math.sin(angle_in_radians)\n",
    "        cos_sum += hp*math.cos(angle_in_radians)\n",
    "    moment = math.sqrt(sin_sum**2+cos_sum**2)\n",
    "    if normalize:\n",
    "        moment = moment/len(sequence)\n",
    "    return moment"
   ]
  },
  {
   "cell_type": "code",
   "execution_count": 34,
   "metadata": {
    "collapsed": false
   },
   "outputs": [],
   "source": [
    "ecoli_amps_sequence = ecoli_df['sequence']\n",
    "amp_hydrophobic_moments = ecoli_amps_sequence.apply(hydrophobic_moment)\n",
    "\n",
    "shuffled_ecoli_amps = ecoli_amps_sequence.apply(lambda x: ''.join(random.sample(x, len(x))))\n",
    "# Randomly shuffled AMP sequences\n",
    "shuffled_amp_hydrophobic_moments = shuffled_ecoli_amps.apply(hydrophobic_moment)"
   ]
  },
  {
   "cell_type": "code",
   "execution_count": 35,
   "metadata": {
    "collapsed": false
   },
   "outputs": [
    {
     "ename": "NameError",
     "evalue": "name 'character_dict' is not defined",
     "output_type": "error",
     "traceback": [
      "\u001b[0;31m---------------------------------------------------------------------------\u001b[0m",
      "\u001b[0;31mNameError\u001b[0m                                 Traceback (most recent call last)",
      "\u001b[0;32m<ipython-input-35-db4c1122e858>\u001b[0m in \u001b[0;36m<module>\u001b[0;34m()\u001b[0m\n\u001b[0;32m----> 1\u001b[0;31m \u001b[0mrandom_seqs\u001b[0m \u001b[0;34m=\u001b[0m \u001b[0;34m[\u001b[0m\u001b[0mgenerate_random_sequence\u001b[0m\u001b[0;34m(\u001b[0m\u001b[0mcharacter_dict\u001b[0m\u001b[0;34m)\u001b[0m \u001b[0;32mfor\u001b[0m \u001b[0mi\u001b[0m \u001b[0;32min\u001b[0m \u001b[0mrange\u001b[0m\u001b[0;34m(\u001b[0m\u001b[0mlen\u001b[0m\u001b[0;34m(\u001b[0m\u001b[0mamp_hydrophobic_moments\u001b[0m\u001b[0;34m)\u001b[0m\u001b[0;34m)\u001b[0m\u001b[0;34m]\u001b[0m\u001b[0;34m\u001b[0m\u001b[0m\n\u001b[0m\u001b[1;32m      2\u001b[0m \u001b[0mrandom_sequences\u001b[0m \u001b[0;34m=\u001b[0m \u001b[0mpd\u001b[0m\u001b[0;34m.\u001b[0m\u001b[0mSeries\u001b[0m\u001b[0;34m(\u001b[0m\u001b[0;34m[\u001b[0m\u001b[0ms\u001b[0m\u001b[0;34m[\u001b[0m\u001b[0;34m'sequence'\u001b[0m\u001b[0;34m]\u001b[0m \u001b[0;32mfor\u001b[0m \u001b[0ms\u001b[0m \u001b[0;32min\u001b[0m \u001b[0mrandom_seqs\u001b[0m\u001b[0;34m]\u001b[0m\u001b[0;34m)\u001b[0m\u001b[0;34m\u001b[0m\u001b[0m\n\u001b[1;32m      3\u001b[0m \u001b[0mrandom_hydrophobic_moments\u001b[0m \u001b[0;34m=\u001b[0m \u001b[0mrandom_sequences\u001b[0m\u001b[0;34m.\u001b[0m\u001b[0mapply\u001b[0m\u001b[0;34m(\u001b[0m\u001b[0mhydrophobic_moment\u001b[0m\u001b[0;34m)\u001b[0m\u001b[0;34m\u001b[0m\u001b[0m\n",
      "\u001b[0;31mNameError\u001b[0m: name 'character_dict' is not defined"
     ]
    }
   ],
   "source": [
    "random_seqs = [generate_random_sequence(character_dict) for i in range(len(amp_hydrophobic_moments))]\n",
    "random_sequences = pd.Series([s['sequence'] for s in random_seqs])\n",
    "random_hydrophobic_moments = random_sequences.apply(hydrophobic_moment)"
   ]
  },
  {
   "cell_type": "code",
   "execution_count": 36,
   "metadata": {
    "collapsed": false
   },
   "outputs": [
    {
     "ename": "NameError",
     "evalue": "name 'random_hydrophobic_moments' is not defined",
     "output_type": "error",
     "traceback": [
      "\u001b[0;31m---------------------------------------------------------------------------\u001b[0m",
      "\u001b[0;31mNameError\u001b[0m                                 Traceback (most recent call last)",
      "\u001b[0;32m<ipython-input-36-b580537ef585>\u001b[0m in \u001b[0;36m<module>\u001b[0;34m()\u001b[0m\n\u001b[1;32m      1\u001b[0m hydrophobic_moments = pd.concat(\n\u001b[0;32m----> 2\u001b[0;31m     \u001b[0;34m[\u001b[0m\u001b[0mamp_hydrophobic_moments\u001b[0m\u001b[0;34m,\u001b[0m \u001b[0mshuffled_amp_hydrophobic_moments\u001b[0m\u001b[0;34m,\u001b[0m \u001b[0mrandom_hydrophobic_moments\u001b[0m\u001b[0;34m]\u001b[0m\u001b[0;34m,\u001b[0m\u001b[0;34m\u001b[0m\u001b[0m\n\u001b[0m\u001b[1;32m      3\u001b[0m     \u001b[0maxis\u001b[0m\u001b[0;34m=\u001b[0m\u001b[0;36m1\u001b[0m\u001b[0;34m\u001b[0m\u001b[0m\n\u001b[1;32m      4\u001b[0m )\n\u001b[1;32m      5\u001b[0m \u001b[0mhydrophobic_moments\u001b[0m\u001b[0;34m.\u001b[0m\u001b[0mcolumns\u001b[0m \u001b[0;34m=\u001b[0m \u001b[0;34m[\u001b[0m\u001b[0;34m'AMPs'\u001b[0m\u001b[0;34m,\u001b[0m \u001b[0;34m'Shuffled AMPs'\u001b[0m\u001b[0;34m,\u001b[0m \u001b[0;34m'Random Peptides'\u001b[0m\u001b[0;34m]\u001b[0m\u001b[0;34m\u001b[0m\u001b[0m\n",
      "\u001b[0;31mNameError\u001b[0m: name 'random_hydrophobic_moments' is not defined"
     ]
    }
   ],
   "source": [
    "hydrophobic_moments = pd.concat(\n",
    "    [amp_hydrophobic_moments, shuffled_amp_hydrophobic_moments, random_hydrophobic_moments],\n",
    "    axis=1\n",
    ")\n",
    "hydrophobic_moments.columns = ['AMPs', 'Shuffled AMPs', 'Random Peptides']"
   ]
  },
  {
   "cell_type": "code",
   "execution_count": 37,
   "metadata": {
    "collapsed": true
   },
   "outputs": [],
   "source": [
    "def evaluate_peptide(peptide, model):\n",
    "    sequence = peptide['sequence']\n",
    "    cterm = peptide['has_cterminal_modification']\n",
    "    return model.predict(row_to_vector(\n",
    "        {'sequence': sequence, 'has_cterminal_modification': int(cterm)}\n",
    "    ).reshape(-1, MAX_SEQUENCE_LENGTH, len(character_to_index) + 1))\n",
    "\n",
    "\n",
    "def find_nearby_sequences(sequence, old_sequences=None, character_dict=CHARACTER_DICT):\n",
    "    new_sequences = set()\n",
    "    if old_sequences == None:\n",
    "        old_sequences = set()\n",
    "\n",
    "    for i in range(len(sequence)):\n",
    "        for c1 in character_dict:\n",
    "            for j in range(i + 1, len(sequence)):\n",
    "                for c2 in character_dict:\n",
    "                    new_sequence = sequence[:i] + c1 + sequence[i+1:j] + c2 + sequence[j+1:]\n",
    "                    for cterm in (True, False):\n",
    "                        ns_dict = {'sequence': new_sequence, 'has_cterminal_modification': cterm}\n",
    "                        new_sequences.add(frozenset(ns_dict.items()))\n",
    "    return old_sequences | new_sequences\n",
    "\n",
    "def evaluate_peptides(peptides, model):\n",
    "    return model.predict(\n",
    "        np.array(\n",
    "            [row_to_vector(dict(p)) for p in peptides]\n",
    "        ).reshape(\n",
    "            -1, MAX_SEQUENCE_LENGTH, len(character_to_index) + 1\n",
    "        )\n",
    "    )"
   ]
  },
  {
   "cell_type": "code",
   "execution_count": 38,
   "metadata": {
    "collapsed": true
   },
   "outputs": [],
   "source": [
    "def nearby_peptide_vectors(peptide_vector):\n",
    "    nearby_vectors = []\n",
    "    for i in range(len(peptide_vector)):\n",
    "#         print peptide_vector[i]\n",
    "        if np.sum(peptide_vector[i][:len(peptide_vector[i])-1])>0.5:\n",
    "            for j in range(len(peptide_vector[i]) - 1):  # - 1 because of amidation\n",
    "                v = np.zeros(len(peptide_vector[i]))\n",
    "                v[-1] = peptide_vector[0][-1]\n",
    "                v[j] = 1\n",
    "                new_vector = np.concatenate([\n",
    "                    peptide_vector[:i],\n",
    "                    v.reshape(-1, len(peptide_vector[i])),\n",
    "                    peptide_vector[i+1:]\n",
    "                ])\n",
    "                if is_acceptable(vector_to_amp(new_vector)['sequence']):\n",
    "                    nearby_vectors.append(new_vector)\n",
    "                else:\n",
    "                    print 'unacceptable! '+repr(vector_to_amp(new_vector)['sequence'])\n",
    "#                     cterm_flipped = deepcopy(new_vector)\n",
    "#                     reverse_cterm = (new_vector[0][-1] + 1) % 2\n",
    "#                     for c in cterm_flipped:\n",
    "#                         c[-1] = reverse_cterm\n",
    "#                     nearby_vectors.append(cterm_flipped)\n",
    "#         else:\n",
    "#             print 'Nope!'+repr(i)\n",
    "    return nearby_vectors"
   ]
  },
  {
   "cell_type": "code",
   "execution_count": 39,
   "metadata": {
    "collapsed": true
   },
   "outputs": [],
   "source": [
    "from Bio import pairwise2\n",
    "from Bio.SubsMat import MatrixInfo as matlist"
   ]
  },
  {
   "cell_type": "code",
   "execution_count": 84,
   "metadata": {
    "collapsed": false
   },
   "outputs": [],
   "source": [
    "def is_acceptable(sequence_with_padding):\n",
    "    at_underscore=False\n",
    "    for char in sequence_with_padding:\n",
    "        if char == '_':\n",
    "            at_underscore=True\n",
    "        elif at_underscore:\n",
    "            return False\n",
    "    return True"
   ]
  },
  {
   "cell_type": "code",
   "execution_count": 91,
   "metadata": {
    "collapsed": false
   },
   "outputs": [],
   "source": [
    "def generate_sequence(cdict=CHARACTER_DICT,min_seq_length=10):\n",
    "    s = generate_random_sequence(cdict,length_of_sequence_min=min_seq_length)\n",
    "    v = row_to_vector(s)\n",
    "    last=''\n",
    "    for i in range(100):\n",
    "        vs = nearby_peptide_vectors(v)\n",
    "        ps = convmodel.predict(np.array(vs))\n",
    "        best_i = min(range(len(ps)), key=lambda x: ps[x])\n",
    "        v = vs[best_i]\n",
    "        if vector_to_amp(v)['sequence']==last:\n",
    "            break\n",
    "        last=vector_to_amp(v)['sequence']\n",
    "    return vector_to_amp(v), ps[best_i][0]\n",
    "\n",
    "def generate_sequence_from_exp_sequences(sequence_pool,max_generated_length=25):\n",
    "    sequence=''\n",
    "    for ind in range(max_generated_length):\n",
    "#         print len(sequence_pool)\n",
    "        which_ind = random.randint(0,len(sequence_pool)-1)\n",
    "#         print 'which ind: '+repr(which_ind)\n",
    "        which = sequence_pool[which_ind]\n",
    "#         print which\n",
    "        if len(sequence)<len(which):\n",
    "#             print which[len(sequence)]\n",
    "            sequence=sequence+which[len(sequence)]\n",
    "        else:\n",
    "            break\n",
    "    has_cterminal_modification = random.choice([0, 1])>0.5\n",
    "#     print len(sequence)\n",
    "    return {\n",
    "        'sequence': sequence,\n",
    "        'has_cterminal_modification': has_cterminal_modification\n",
    "    }\n",
    "\n",
    "def generate_move(old_vector,min_length=10,max_length=25):\n",
    "    vector=deepcopy(old_vector)\n",
    "    asc=random.random()\n",
    "    peptide_length=0\n",
    "    for i in range(len(vector)):\n",
    "        if np.sum(vector[i][:len(vector[i])-1])>0.5:\n",
    "            peptide_length=i+1\n",
    "    if asc<0.025 and peptide_length>=min_length:\n",
    "#         Remove from the front 2.5% of the time\n",
    "        for i in range(len(vector)-1):\n",
    "            vector[i]=[k for k in vector[i+1]]\n",
    "        vector[len(vector)-1]=[0 for k in vector[0]]\n",
    "    elif asc < 0.05 and peptide_length>=min_length:\n",
    "#         Remove from the back 2.5% of the time\n",
    "        if peptide_length==len(vector):\n",
    "            vector[len(vector)-1]=[0]*len(vector[0])\n",
    "        else:\n",
    "            vector[peptide_length-1]=[k for k in vector[peptide_length]]\n",
    "            vector[peptide_length]=[0]*len(vector[0])\n",
    "    elif asc < .075 and peptide_length<max_length:\n",
    "#         Add to the front 2.5% of the time\n",
    "        which = random.randint(0,len(vector[0])-2)\n",
    "        for i in range(1,len(vector)):\n",
    "            vector[-i]=[k for k in vector[-i-1]]\n",
    "        vector[0]=[0 for k in vector[1]]\n",
    "        vector[0][which]=1\n",
    "    elif asc < .1 and peptide_length<max_length:\n",
    "#         Add to the back 2.5% of the time\n",
    "        which = random.randint(0,len(vector[0])-2)\n",
    "        vector[peptide_length][which]=1\n",
    "        if peptide_length<(len(vector)-1):\n",
    "            vector[peptide_length+1][len(vector[0])-1]=vector[peptide_length][len(vector[0])-1]\n",
    "        vector[peptide_length][-1]=0\n",
    "    elif asc > 0.995 and peptide_length<len(vector):\n",
    "#     Toggle amidation 0.5% of the time\n",
    "        vector[peptide_length][-1]=(vector[peptide_length][-1]+1)%2\n",
    "    else:\n",
    "#         Swap something in the middle\n",
    "        which_index=random.randint(0,peptide_length-1)\n",
    "        which_residue=random.randint(0,len(vector[0])-2)\n",
    "        try:\n",
    "#             print which_index\n",
    "            vector[which_index]=[0 for k in vector[0]]\n",
    "            vector[which_index][which_residue]=1\n",
    "        except:\n",
    "            print 'Trying to change index '+repr(which_index)+' but array is only of length '+repr(len(vector))\n",
    "    if not is_acceptable(vector_to_amp(vector)['sequence']):\n",
    "        print 'asc is: '+repr(asc)+' and sequence is '+repr(vector_to_amp(vector)['sequence'])\n",
    "        print 'which_residue: '+repr(which_residue)+', out of '+repr(len(vector[0])-1)\n",
    "        return old_vector\n",
    "    return vector\n",
    "\n",
    "def accept_move(mic_old,mic_new,temp):\n",
    "    if mic_new<mic_old:\n",
    "        return True\n",
    "    return random.random()<np.exp((mic_old-mic_new)/temp)\n",
    "\n",
    "def generate_sequence_by_simulated_annealing(cdict=CHARACTER_DICT,min_seq_length=10,nsteps=100000,t0=1/np.log(2),tf=0.00001/np.log(2),all_seq=None):\n",
    "    if all_seq==None:\n",
    "        s = generate_random_sequence(cdict,length_of_sequence_min=min_seq_length)\n",
    "    else:\n",
    "        s = generate_sequence_from_exp_sequences(all_seq)\n",
    "    v = row_to_vector(s)\n",
    "    print 'Starting sequence: '+repr(s)\n",
    "    last=''\n",
    "    #So a transition that increases MIC by 1 will have acceptance probability of 0.5 in default\n",
    "    temp = t0\n",
    "    scale=np.power(tf/t0,1./nsteps)\n",
    "    for i in range(nsteps):\n",
    "        move = generate_move(v)\n",
    "        old_and_new = convmodel.predict(np.array([v,move]))\n",
    "        if accept_move(old_and_new[0][0],old_and_new[1][0],temp):\n",
    "            v = move\n",
    "        temp=temp*scale\n",
    "#     print vector_to_amp(v)\n",
    "#     print convmodel.predict(np.array([v]))[0][0]\n",
    "    return vector_to_amp(v), convmodel.predict(np.array([v]))[0][0]\n",
    "\n",
    "def generate_random_sequences(cdict=CHARACTER_DICT,min_seq_length=10):\n",
    "    s = generate_random_sequence(cdict,length_of_sequence_min=min_seq_length)\n",
    "    v = row_to_vector(s)\n",
    "    last=''\n",
    "    p=convmodel.predict(np.array([v]))\n",
    "    return vector_to_amp(v), p[0][0]"
   ]
  },
  {
   "cell_type": "code",
   "execution_count": 93,
   "metadata": {
    "collapsed": false
   },
   "outputs": [
    {
     "name": "stdout",
     "output_type": "stream",
     "text": [
      "Starting sequence: {'has_cterminal_modification': False, 'sequence': u'SIFSEPKRVGKAH'}\n",
      "Starting sequence: {'has_cterminal_modification': True, 'sequence': u'LTNGFALKVRK'}\n",
      "Starting sequence: {'has_cterminal_modification': True, 'sequence': u'KMKACKNAKAFKKP'}\n",
      "[{'cterminal_amidation': False, 'sequence': u'VSQFTARKHNRNEKRRKNRLT_________________________'}, {'cterminal_amidation': False, 'sequence': u'TDHCQGKTCRCNAKEPRDFYRA________________________'}, {'cterminal_amidation': False, 'sequence': u'YYYHCWKRLQCYCGHGRWKH__________________________'}]\n",
      "[-1.198343, -1.065914, -0.86138105]\n",
      "-1.0418793\n",
      "0.13860999\n"
     ]
    }
   ],
   "source": [
    "nseqs=3\n",
    "sequences=['']*nseqs\n",
    "pred_log_mics=[0]*nseqs\n",
    "for i in range(nseqs):\n",
    "    seq,plm=generate_sequence_by_simulated_annealing(all_seq=all_sequences)\n",
    "    sequences[i]=seq\n",
    "    pred_log_mics[i]=plm\n",
    "print sequences\n",
    "print pred_log_mics\n",
    "print np.mean(pred_log_mics)\n",
    "print np.std(pred_log_mics)"
   ]
  },
  {
   "cell_type": "code",
   "execution_count": 98,
   "metadata": {
    "collapsed": false
   },
   "outputs": [
    {
     "name": "stdout",
     "output_type": "stream",
     "text": [
      "VSQFTARKHNRNEKRRKNRLT\n",
      "-1.198343\n",
      "---------------------------------------------------------VSQFTARKHNRNEKRRKNRLT\n",
      "                                                                    |||||\n",
      "SKCKCSRKGPKIRYSDVKKLEMKPKYPHCEEKMVIITTKSVSRYRGQEHCLHPKLQSTKRFIKWYNAWNEKRRVYEE-\n",
      "  Score=39\n",
      "\n",
      "([0.2502168450508685, 0.12810912577667122, 0.3547619047619048], [56.000000000000526, 19.1, 79.89999999999974])\n",
      "\n",
      "\n",
      "TDHCQGKTCRCNAKEPRDFYRA\n",
      "-1.065914\n",
      "--------TDHCQGKTC--RCNAKEPRDF--------YRA-------\n",
      "        ||||||||||||||||||||||||||||||||\n",
      "YENPYGCPTD--EGK-CFDRCNDSE---FEGGYCGGSYRATCVCYRT\n",
      "  Score=43\n",
      "\n",
      "([0.42048388108927226, 0.2859222358736725, 0.06000000000000001], [97.49999999999874, 76.8999999999999, 18.29999999999999])\n",
      "\n",
      "\n",
      "YYYHCWKRLQCYCGHGRWKH\n",
      "-0.86138105\n",
      "-YYYHCWKRLQ-C--YCGHGRWKH\n",
      "     ||||||||||||||||\n",
      "GCRRLCWK--QRCVTYC-RGR---\n",
      "  Score=42\n",
      "\n",
      "([0.14384844457134494, 0.17381876232510324, 0.12000000000000002], [27.200000000000117, 40.2000000000003, 36.10000000000024])\n",
      "\n",
      "\n"
     ]
    }
   ],
   "source": [
    "# best_indices=np.argpartition(pred_log_mics,4)[:4]\n",
    "# print best_indices\n",
    "# for index in best_indices:\n",
    "for index in range(len(sequences)):\n",
    "    seq=sequences[index]['sequence'][:sequences[index]['sequence'].find('_')]\n",
    "    print seq\n",
    "    print pred_log_mics[index]\n",
    "    show_best_n_alignments(seq,all_sequences,1)\n",
    "    print hmoment_analysis(seq)\n",
    "    print '\\n'"
   ]
  },
  {
   "cell_type": "code",
   "execution_count": 496,
   "metadata": {
    "collapsed": false
   },
   "outputs": [
    {
     "name": "stdout",
     "output_type": "stream",
     "text": [
      "[{'cterminal_amidation': False, 'sequence': u'WRKWCLWPGKTYSYRPGWHKR_________________________'}, {'cterminal_amidation': False, 'sequence': u'WQNDWDIDVELGYKGSATASLASFWMFAPYQKS_____________'}, {'cterminal_amidation': False, 'sequence': u'PVQWDEDWFMDSMDWGQYFSMLDFYTEFDFSMQTPML_________'}, {'cterminal_amidation': False, 'sequence': u'ATLWWYSIWFMRGR________________________________'}, {'cterminal_amidation': False, 'sequence': u'EPFKTQHNPIQTPQFRCGIGVVFKINFPGVFYH_____________'}]\n",
      "[-0.47317305, 2.9284885, 2.991546, -0.10470286, -0.89712286]\n",
      "0.8890071\n",
      "1.7095852\n"
     ]
    }
   ],
   "source": [
    "nseqs=5\n",
    "sequences=['']*nseqs\n",
    "pred_log_mics=[0]*nseqs\n",
    "for i in range(nseqs):\n",
    "    seq,plm=generate_sequence()\n",
    "    sequences[i]=seq\n",
    "    pred_log_mics[i]=plm\n",
    "print sequences\n",
    "print pred_log_mics\n",
    "print np.mean(pred_log_mics)\n",
    "print np.std(pred_log_mics)"
   ]
  },
  {
   "cell_type": "code",
   "execution_count": 357,
   "metadata": {
    "collapsed": false,
    "scrolled": false
   },
   "outputs": [
    {
     "name": "stdout",
     "output_type": "stream",
     "text": [
      "[5 9 8 4]\n",
      "STDRLLYSFGVRAKFRRTVYRQYIWA\n",
      "-0.7726675\n",
      "-STDRLLYSFGVRA---KFRRTVYRQYIWA--\n",
      "    |||||||||||||||||\n",
      "KFFARLLAS--VRAAVKKFRKKPRLIGLSTLL\n",
      "  Score=44\n",
      "\n",
      "([0.12278864701782083, 0.20286915096955999, 0.3011538461538461], [20.600000000000023, 43.60000000000035, 75.49999999999999])\n",
      "\n",
      "\n",
      "NNWKTSSCARLYIRNTSYGIYIPL\n",
      "-0.69088924\n",
      "------------NNWKTSSCARLYIRNTSYGIYIPL\n",
      "              ||||||||||||||\n",
      "SIITMTKEAKLPQSWKQIAC-RLY--NTC-------\n",
      "  Score=39\n",
      "\n",
      "([0.17389519071164913, 0.18354438021502917, 0.23750000000000013], [47.3000000000004, 48.40000000000042, 72.70000000000014])\n",
      "\n",
      "\n",
      "IERKKWPIGKVCRNRYGRKIRR\n",
      "-0.7141862\n",
      "IERKKWPIGKVCRNRYGRKIRR\n",
      "   ||||||||\n",
      "KVVKQWPIGKVVKKVVKKVVK-\n",
      "  Score=53\n",
      "\n",
      "([0.3740757975896999, 0.32365788895088604, 0.18727272727272723], [74.60000000000004, 62.200000000000614, 43.40000000000035])\n",
      "\n",
      "\n",
      "TDWFVSILLNSNCQKHNTPLYGY\n",
      "-0.633139\n",
      "TDWFVSILLN--SNCQKHNTPLYGY--\n",
      "   |||||||||||\n",
      "---FLSTLLNVASNVVPTLICKITKKC\n",
      "  Score=37\n",
      "\n",
      "([0.06411761540563234, 0.0539340076091686, 0.12608695652173915], [12.79999999999997, 8.299999999999986, 53.60000000000049])\n",
      "\n",
      "\n"
     ]
    }
   ],
   "source": [
    "best_indices=np.argpartition(pred_log_mics,4)[:4]\n",
    "print best_indices\n",
    "for index in best_indices:\n",
    "    seq=sequences[index]['sequence'][:sequences[index]['sequence'].find('_')]\n",
    "    print seq\n",
    "    print pred_log_mics[index]\n",
    "    show_best_n_alignments(seq,all_sequences,1)\n",
    "    print hmoment_analysis(seq)\n",
    "    print '\\n'"
   ]
  },
  {
   "cell_type": "code",
   "execution_count": 366,
   "metadata": {
    "collapsed": false
   },
   "outputs": [
    {
     "name": "stdout",
     "output_type": "stream",
     "text": [
      "[{'cterminal_amidation': True, 'sequence': u'TCWLPTRPDCYLSSI_______________________________'}, {'cterminal_amidation': True, 'sequence': u'VGYLCIHAFFLQWNFKRYVFDIQVNEPVFMGTY_____________'}, {'cterminal_amidation': True, 'sequence': u'DFHIADYGNEI___________________________________'}, {'cterminal_amidation': True, 'sequence': u'YYYWRLHGRECHKHMRCP____________________________'}, {'cterminal_amidation': True, 'sequence': u'MCAKRSKVGWEVEPF_______________________________'}, {'cterminal_amidation': True, 'sequence': u'GESDDKTLYFEQGHRTYQYAMEFQPEQKSG________________'}, {'cterminal_amidation': True, 'sequence': u'SCGQRRNTKQKMGY________________________________'}, {'cterminal_amidation': False, 'sequence': u'SMVYQFSPDPTEFVKTRAPQGGRLGGQQF_________________'}, {'cterminal_amidation': False, 'sequence': u'DITVTCCVYMGHDGVDINMSHKDTPQASANQPESSCK_________'}, {'cterminal_amidation': False, 'sequence': u'QCDRPTQVAIVIDACNS_____________________________'}]\n",
      "[1.9046078, 3.4442742, 2.2593796, 1.4715352, 1.8322675, 3.4508946, 1.8946143, 1.163296, 3.4451978, 2.4072146]\n",
      "[6 4 7 3]\n",
      "SCGQRRNTKQKMGY\n",
      "1.8946143\n",
      "---------SCGQRRNTK-QKMGY\n",
      "          ||||||||||||\n",
      "GSKKPVPIIYC-QRRTAKCQRM--\n",
      "  Score=39\n",
      "\n",
      "([0.09032299670173742, 0.13848357291853639, 0.17428571428571432], [8.299999999999986, 17.299999999999976, 42.500000000000334])\n",
      "\n",
      "\n",
      "MCAKRSKVGWEVEPF\n",
      "1.8322675\n",
      "MCAKRSKVGWEVEPF-------------------------------------------------\n",
      "      |||||||\n",
      "-HHLFGKVGREIERSAHKVGHKLEHVRHEVSKTAKKVDKVVGHIKTAKKVVAAAGAIAGVVAAA\n",
      "  Score=36\n",
      "\n",
      "([0.05759333392693416, 0.049857143508231734, 0.2853333333333334], [2.700000000000001, 2.1000000000000005, 66.5000000000005])\n",
      "\n",
      "\n",
      "SMVYQFSPDPTEFVKTRAPQGGRLGGQQF\n",
      "1.163296\n",
      "----SMVYQFSPDPTEFVKTRAPQGGRLGGQQF--------------------------------------------\n",
      "                     |||||\n",
      "QHGYGAGGHGQQGYGSQHSSHAPQGGHVVREQGFSGHVHEQQAGHHHEAGHHEQAGHHEQSGQQVHGQGHGYKSHGY\n",
      "  Score=34\n",
      "\n",
      "([0.2759365790056332, 0.3572392997698865, 0.2962068965517242], [86.69999999999935, 97.89999999999871, 89.49999999999919])\n",
      "\n",
      "\n",
      "YYYWRLHGRECHKHMRCP\n",
      "1.4715352\n",
      "--YYYWRLHGRECHKHMRCP--------------------\n",
      "   |||||||\n",
      "LQKYYWRVRGGRWAVLSWLPKEEQIGKWSTRGRKWWRRKK\n",
      "  Score=43\n",
      "\n",
      "([0.4482566866742686, 0.13533125374495708, 0.2155555555555556], [94.4999999999989, 22.700000000000053, 58.000000000000554])\n",
      "\n",
      "\n"
     ]
    }
   ],
   "source": [
    "# Same analysis but for random sequences\n",
    "nseqs=10\n",
    "sequences=['']*nseqs\n",
    "pred_log_mics=[0]*nseqs\n",
    "for i in range(nseqs):\n",
    "    seq,plm=generate_random_sequences()\n",
    "    sequences[i]=seq\n",
    "    pred_log_mics[i]=plm\n",
    "print sequences\n",
    "print pred_log_mics\n",
    "best_indices=np.argpartition(pred_log_mics,4)[:4]\n",
    "print best_indices\n",
    "for index in best_indices:\n",
    "    seq=sequences[index]['sequence'][:sequences[index]['sequence'].find('_')]\n",
    "    print seq\n",
    "    print pred_log_mics[index]\n",
    "    show_best_n_alignments(seq,all_sequences,1)\n",
    "    print hmoment_analysis(seq)\n",
    "    print '\\n'"
   ]
  },
  {
   "cell_type": "code",
   "execution_count": 43,
   "metadata": {
    "collapsed": true
   },
   "outputs": [],
   "source": [
    "def show_best_n_alignments(test_sequence,sequence_db,nalign,score_matrix=matlist.pam30,gap_open_penalty=-9,gap_extension_penalty=-1):\n",
    "#     blosum62 is another option. Identity matrix is another. I think they're about the same.\n",
    "    alignment_scores=[0]*len(sequence_db)\n",
    "    for i in range(len(all_sequences)):\n",
    "        sequence=all_sequences[i]\n",
    "        alignment_scores[i]=pairwise2.align.localds(test_sequence,sequence,score_matrix,gap_open_penalty,gap_extension_penalty,score_only=True)\n",
    "    argm = np.argmax(alignment_scores)\n",
    "#     alignments=pairwise2.align.localds(test_sequence,all_sequences[argm],score_matrix,gap_open_penalty,gap_extension_penalty)\n",
    "    indices=np.argpartition(alignment_scores,-1*nalign)[(-1*nalign):]\n",
    "    for index in indices:\n",
    "        alignments=pairwise2.align.localds(test_sequence,all_sequences[index],score_matrix,gap_open_penalty,gap_extension_penalty)\n",
    "        print(pairwise2.format_alignment(*alignments[0]))"
   ]
  },
  {
   "cell_type": "code",
   "execution_count": 42,
   "metadata": {
    "collapsed": false
   },
   "outputs": [
    {
     "ename": "NameError",
     "evalue": "name 'show_best_n_alignments' is not defined",
     "output_type": "error",
     "traceback": [
      "\u001b[0;31m---------------------------------------------------------------------------\u001b[0m",
      "\u001b[0;31mNameError\u001b[0m                                 Traceback (most recent call last)",
      "\u001b[0;32m<ipython-input-42-a243b8560ba0>\u001b[0m in \u001b[0;36m<module>\u001b[0;34m()\u001b[0m\n\u001b[1;32m      1\u001b[0m \u001b[0mall_sequences\u001b[0m\u001b[0;34m=\u001b[0m\u001b[0;34m[\u001b[0m\u001b[0msequence\u001b[0m \u001b[0;32mfor\u001b[0m \u001b[0msequence\u001b[0m \u001b[0;32min\u001b[0m \u001b[0mecoli_df\u001b[0m\u001b[0;34m.\u001b[0m\u001b[0msequence\u001b[0m\u001b[0;34m]\u001b[0m\u001b[0;34m\u001b[0m\u001b[0m\n\u001b[0;32m----> 2\u001b[0;31m \u001b[0mshow_best_n_alignments\u001b[0m\u001b[0;34m(\u001b[0m\u001b[0;34m'GRRWKLMKHVTETPNPR'\u001b[0m\u001b[0;34m,\u001b[0m\u001b[0mall_sequences\u001b[0m\u001b[0;34m,\u001b[0m\u001b[0;36m3\u001b[0m\u001b[0;34m)\u001b[0m\u001b[0;34m\u001b[0m\u001b[0m\n\u001b[0m",
      "\u001b[0;31mNameError\u001b[0m: name 'show_best_n_alignments' is not defined"
     ]
    }
   ],
   "source": [
    "all_sequences=[sequence for sequence in ecoli_df.sequence]\n",
    "show_best_n_alignments('GRRWKLMKHVTETPNPR',all_sequences,3)"
   ]
  },
  {
   "cell_type": "code",
   "execution_count": 96,
   "metadata": {
    "collapsed": false
   },
   "outputs": [],
   "source": [
    "def hmoment_analysis(test_sequence,angles=[100,140,180]):\n",
    "    hmoments=[0]*len(angles)\n",
    "    percentiles=[0]*len(angles)\n",
    "    for k in range(len(angles)):\n",
    "        test_angle=angles[k]\n",
    "        hmoments[k] = hydrophobic_moment(test_sequence,angle=test_angle)\n",
    "        other_h_moments=[0]*1000\n",
    "        shuffled=range(len(test_sequence))\n",
    "        perGreater=0\n",
    "        for i in range(1000):\n",
    "            np.random.shuffle(shuffled)\n",
    "            shuffled_seq=[test_sequence[j] for j in shuffled]\n",
    "            other_h_moments[i]=hydrophobic_moment(shuffled_seq,angle=test_angle)\n",
    "            if other_h_moments[i]<hydrophobic_moment(test_sequence,angle=test_angle):\n",
    "                perGreater+=.1\n",
    "        percentiles[k]=perGreater\n",
    "    return hmoments,percentiles"
   ]
  },
  {
   "cell_type": "code",
   "execution_count": 97,
   "metadata": {
    "collapsed": false
   },
   "outputs": [
    {
     "name": "stdout",
     "output_type": "stream",
     "text": [
      "([0.28744000139810794, 0.23115044867895798, 0.19357142857142856], [77.79999999999986, 63.000000000000625, 56.20000000000053])\n"
     ]
    }
   ],
   "source": [
    "print hmoment_analysis(u'YLFGLRVGKCWERNKALIAGTVLRISFH')"
   ]
  },
  {
   "cell_type": "code",
   "execution_count": 276,
   "metadata": {
    "collapsed": false
   },
   "outputs": [
    {
     "data": {
      "text/plain": [
       "array([1., 0., 0., 0., 0., 0., 0., 0., 0., 0., 0., 0., 0., 0., 0., 0., 0.,\n",
       "       0., 0., 0., 1.])"
      ]
     },
     "execution_count": 276,
     "metadata": {},
     "output_type": "execute_result"
    }
   ],
   "source": [
    "v[0]"
   ]
  },
  {
   "cell_type": "code",
   "execution_count": null,
   "metadata": {
    "collapsed": true
   },
   "outputs": [],
   "source": []
  }
 ],
 "metadata": {
  "kernelspec": {
   "display_name": "Python 2",
   "language": "python",
   "name": "python2"
  },
  "language_info": {
   "codemirror_mode": {
    "name": "ipython",
    "version": 2
   },
   "file_extension": ".py",
   "mimetype": "text/x-python",
   "name": "python",
   "nbconvert_exporter": "python",
   "pygments_lexer": "ipython2",
   "version": "2.7.13"
  }
 },
 "nbformat": 4,
 "nbformat_minor": 2
}
